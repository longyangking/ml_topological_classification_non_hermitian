{
 "cells": [
  {
   "cell_type": "code",
   "execution_count": 19,
   "metadata": {},
   "outputs": [],
   "source": [
    "import sys \n",
    "sys.path.append(\"..\") \n",
    "\n",
    "#from topological_models import generator\n",
    "import numpy as np\n",
    "import numpy.linalg as LA\n",
    "from topology_model import NonHermitianHamiltonian, NonHermitianTopologicalModel, NonHermitianHamiltonianOBC\n",
    "\n",
    "import matplotlib.pyplot as plt\n",
    "from machine_learning import Cluster\n",
    "from machine_learning import Classifier\n",
    "from topology_model import sigma_0, sigma_x, sigma_y, sigma_z\n",
    "from topology_model import Generator\n",
    "from topology_model import topology_comparator, topology_verifier, obtain_phase_center_and_number"
   ]
  },
  {
   "cell_type": "code",
   "execution_count": 20,
   "metadata": {},
   "outputs": [],
   "source": [
    "class SSH1DOBC(NonHermitianHamiltonianOBC):\n",
    "    def __init__(self, E_ref=0.):\n",
    "        super().__init__(E_ref=E_ref)\n",
    "        self.parameters = list()\n",
    "        self.initiate()\n",
    "\n",
    "    def get_n(self):\n",
    "        '''\n",
    "        n*n Hamiltonian\n",
    "        '''\n",
    "        return 2\n",
    "\n",
    "    def get_n_dim(self):\n",
    "        return 1\n",
    "\n",
    "    def get_parameters(self):\n",
    "        return self.parameters\n",
    "\n",
    "    def set_parameters(self, **kwargs):\n",
    "        self.parameters = kwargs['t1'], kwargs['t2'], kwargs['gamma']\n",
    "\n",
    "    def get_kpoints(self):\n",
    "        n_points = 5\n",
    "        kpoints = [[k] for k in np.linspace(0, np.pi, n_points)]\n",
    "        return kpoints\n",
    "\n",
    "    def initiate(self):\n",
    "        # different parameter region for the different gap type\n",
    "        t1 = 3*np.random.random()\n",
    "        t2 = 1.\n",
    "        gamma = 3*np.random.random()\n",
    "\n",
    "        self.parameters = t1, t2, gamma\n",
    "\n",
    "    def is_real_line_gap(self):\n",
    "        # kappa, g1, g2 = self.parameters\n",
    "        # if not ((t1 >= t2 + gamma/2) \n",
    "        #         or (t1 <= -t2 - gamma/2) \n",
    "        #         or ((t1 >= t2 - gamma/2) and (t1 <= -t2 + gamma/2)) \n",
    "        #         or ((t1 <= t2 - gamma/2) and (t1 >= -t2 + gamma/2))):\n",
    "        #     return False\n",
    "        for k in self.get_kpoints():\n",
    "            hk = self.get_Hamiltonian(k)\n",
    "            Es = LA.eigvals(hk)\n",
    "            #print(np.abs(np.real(Es)))\n",
    "            if np.any(np.abs(np.real(Es - self.E_ref)) < 1e-3):\n",
    "                return False\n",
    "        return True    \n",
    "    \n",
    "    def is_imaginary_line_gap(self):\n",
    "        return not self.is_real_line_gap()\n",
    "    \n",
    "    def get_Hamiltonian(self, k):\n",
    "        k = k[0]\n",
    "\n",
    "        #hk = np.zeros((2,2), dtype=complex)\n",
    "        t1, t2, gamma = self.parameters\n",
    "\n",
    "        g = np.sqrt(np.abs((t1-gamma/2)/(t1+gamma/2)))\n",
    "        beta = g*np.exp(1j*k)\n",
    "\n",
    "        hk = np.array([\n",
    "            [0,  t1 + gamma/2 + t2/beta],\n",
    "            [t1 - gamma/2 + t2*beta, 0]\n",
    "        ])\n",
    "        hk = hk - self.E_ref*sigma_0\n",
    "\n",
    "        # if gap_type == 'point':\n",
    "        #     hk = hk - E_ref*sigma_0\n",
    "        #     hkc = np.transpose(np.conjugate(hk))\n",
    "        #     hk = np.block([[np.zeros(hk.shape), hk], [hkc, np.zeros(hk.shape)]])\n",
    "\n",
    "        return hk\n",
    "    \n",
    "class SSH1DOBCPerturbation(NonHermitianHamiltonianOBC):\n",
    "    def __init__(self, E_ref=0.):\n",
    "        super().__init__(E_ref)\n",
    "        self.parameters = list()\n",
    "        self.initiate()\n",
    "\n",
    "    def get_n(self):\n",
    "        '''\n",
    "        n*n Hamiltonian\n",
    "        '''\n",
    "        return 2\n",
    "\n",
    "    def get_n_dim(self):\n",
    "        return 1\n",
    "\n",
    "    def get_parameters(self):\n",
    "        return self.parameters\n",
    "\n",
    "    def set_parameters(self, **kwargs):\n",
    "        self.parameters = kwargs['t1'], kwargs['t2'], kwargs['m1'], kwargs['m2']\n",
    "\n",
    "    def get_kpoints(self):\n",
    "        n_points = 5\n",
    "        kpoints = [[k] for k in np.linspace(0,np.pi,n_points)]\n",
    "        return kpoints\n",
    "\n",
    "    def initiate(self):\n",
    "        # different parameter region for the different gap type\n",
    "        t1 = -1+2*np.random.random()\n",
    "        t2 = -1+2*np.random.random()\n",
    "        m1 = -1+2*np.random.random()\n",
    "        m2 = -1+2*np.random.random()\n",
    "        self.parameters = t1, t2, m1, m2\n",
    "    \n",
    "    def get_Hamiltonian(self, k):\n",
    "        k = k[0]\n",
    "        t1, t2, m1, m2 = self.parameters\n",
    "        \n",
    "        hk = m1*sigma_x + m2*sigma_y\n",
    "        hk = hk + (t1+t2*np.cos(k))*sigma_x + t2*np.sin(k)*sigma_y\n",
    "        hk = hk*0.1\n",
    "\n",
    "        return hk"
   ]
  },
  {
   "cell_type": "code",
   "execution_count": 21,
   "metadata": {},
   "outputs": [
    {
     "name": "stdout",
     "output_type": "stream",
     "text": [
      "Number of samples:  182\n"
     ]
    },
    {
     "name": "stderr",
     "output_type": "stream",
     "text": [
      "/home/longyang/OSC/ml_topological_classification_non_-hermitian/cases_OBC/../topology_model/topology_comparator_utils.py:26: RuntimeWarning: divide by zero encountered in log10\n",
      "  return np.log10(a0)/epsilon\n",
      "/home/longyang/anaconda3/lib/python3.9/site-packages/scipy/optimize/_optimize.py:917: RuntimeWarning: invalid value encountered in subtract\n",
      "  np.max(np.abs(fsim[0] - fsim[1:])) <= fatol):\n",
      "/home/longyang/OSC/ml_topological_classification_non_-hermitian/cases_OBC/../topology_model/topology_comparator_utils.py:34: RuntimeWarning: divide by zero encountered in log10\n",
      "  if np.log10(np.abs(v)) < c_val:\n"
     ]
    },
    {
     "name": "stdout",
     "output_type": "stream",
     "text": [
      "[0 5]\n",
      "[117  65]\n",
      "The number of centers:  2\n"
     ]
    }
   ],
   "source": [
    "gap_type=\"real line\"\n",
    "E_ref = 0.\n",
    "hamiltonian_model = SSH1DOBC(E_ref=E_ref)\n",
    "generator = Generator(hamiltonian=hamiltonian_model, gap_type=gap_type)\n",
    "\n",
    "n_sample = 200\n",
    "_models, vs = generator.generate_models(n_sample)\n",
    "#Qs, vs = generator.generate(n_sample)\n",
    "n = generator.get_n()\n",
    "\n",
    "models = list()\n",
    "for model in _models:\n",
    "    if model.is_real_line_gap():\n",
    "        models.append(model)\n",
    "\n",
    "print(\"Number of samples: \", len(models))\n",
    "\n",
    "cluster = Cluster(similarity_function=topology_comparator, verbose=False)\n",
    "center_indices, group_number = cluster.fit(models)\n",
    "print(center_indices)\n",
    "print(group_number)\n",
    "print(\"The number of centers: \", len(center_indices))"
   ]
  },
  {
   "cell_type": "code",
   "execution_count": 22,
   "metadata": {},
   "outputs": [
    {
     "name": "stdout",
     "output_type": "stream",
     "text": [
      "(2.7990776848699372, 1.0, 2.815646494576399)\n",
      "(1.3229581824266679, 1.0, 2.945348744419909)\n"
     ]
    }
   ],
   "source": [
    "for model in [models[index] for index in center_indices]:\n",
    "    print(model.get_parameters())"
   ]
  },
  {
   "cell_type": "code",
   "execution_count": 23,
   "metadata": {},
   "outputs": [
    {
     "name": "stdout",
     "output_type": "stream",
     "text": [
      "The group number before introducing perturbations:  [117  65]\n",
      "[0 5]\n",
      "parameters:\n",
      "(2.7990776848699372, 1.0, 2.815646494576399)\n",
      "(1.3229581824266679, 1.0, 2.945348744419909)\n",
      "Gap type:  real line\n",
      "Similarity matrix for the centers: \n",
      "[[1. 0.]\n",
      " [0. 1.]]\n",
      "\n",
      "The new group number: \n",
      "[0, 5]\n",
      "[117, 65]\n",
      "The number of phases:  2\n"
     ]
    }
   ],
   "source": [
    "print(\"The group number before introducing perturbations: \", group_number)\n",
    "\n",
    "center_models = [models[i] for i in center_indices]\n",
    "\n",
    "\n",
    "print(center_indices)\n",
    "\n",
    "print(\"parameters:\")\n",
    "for model in center_models:\n",
    "    print(model.get_parameters())\n",
    "\n",
    "E_ref = 0.\n",
    "print(\"Gap type: \", gap_type)\n",
    "hamiltonian_perturbation = SSH1DOBCPerturbation(E_ref=E_ref)\n",
    "generator = Generator(hamiltonian=hamiltonian_perturbation, gap_type=gap_type)\n",
    "\n",
    "n_sample = 10\n",
    "perturbations, vs = generator.generate_models(n_sample)\n",
    "#Qs, vs = generator.generate(n_sample)\n",
    "n = generator.get_n()\n",
    "\n",
    "n_center = len(center_models)\n",
    "similarity_center = np.zeros((n_center, n_center))\n",
    "for i in range(n_center):\n",
    "    for j in range(i, n_center):\n",
    "        similarity_center[i,j] = topology_verifier(center_models[i], center_models[j], perturbations)\n",
    "        similarity_center[j,i] = similarity_center[i,j]\n",
    "\n",
    "print(\"Similarity matrix for the centers: \")\n",
    "print(similarity_center)\n",
    "\n",
    "print()\n",
    "print(\"The new group number: \")\n",
    "\n",
    "new_center_indices = list()\n",
    "new_group_number  = list()\n",
    "\n",
    "# Add the first element to the group\n",
    "new_center_indices.append(0)\n",
    "new_group_number.append(group_number[0])\n",
    "\n",
    "# cluster\n",
    "for i in range(1, n_center):\n",
    "    flag = True\n",
    "    for i_center_index in new_center_indices:\n",
    "        if similarity_center[i_center_index, i] > 0.5:\n",
    "            # topologically same\n",
    "            new_group_number[i_center_index] += group_number[i]\n",
    "            flag = False\n",
    "            break\n",
    "            \n",
    "    # topologically different\n",
    "    if flag:\n",
    "        new_center_indices.append(i)\n",
    "        new_group_number.append(group_number[i])\n",
    "                    \n",
    "new_center_indices = [center_indices[i] for i in new_center_indices]\n",
    "print(new_center_indices)\n",
    "print(new_group_number)\n",
    "print(\"The number of phases: \", len(new_group_number))\n",
    "\n",
    "# hamiltonian_perturbation = SSH1DPerturbation(E_ref=E_ref)\n",
    "# generator = Generator(hamiltonian=hamiltonian_perturbation, gap_type=gap_type)\n",
    "\n",
    "# n_sample = 100\n",
    "# perturbations, vs = generator.generate_models(n_sample)\n",
    "# new_center_indices, new_group_number = obtain_phase_center_and_number(center_indices, group_number, models, perturbations)\n",
    "# print(\"The number of phases: \", len(new_group_number))"
   ]
  },
  {
   "cell_type": "code",
   "execution_count": 24,
   "metadata": {},
   "outputs": [
    {
     "data": {
      "image/png": "[encoded data removed]",
      "text/plain": [
       "<Figure size 300x300 with 1 Axes>"
      ]
     },
     "metadata": {},
     "output_type": "display_data"
    }
   ],
   "source": [
    "plt.figure(figsize=(3,3))\n",
    "plt.bar(np.arange(len(new_group_number))+1, new_group_number)\n",
    "plt.xlim([0.5,len(new_group_number)+0.5])\n",
    "plt.xticks(list(range(1,len(new_group_number)+1)),fontsize=20)\n",
    "plt.ylim([0, np.max(new_group_number)*1.1])\n",
    "plt.yticks([0, int(np.max(new_group_number)/2), int(np.max(new_group_number))],fontsize=20)\n",
    "plt.xlabel(r\"$c$\",fontsize=20)\n",
    "plt.ylabel(r\"$M$\",fontsize=20,rotation=0,horizontalalignment='right')\n",
    "plt.show()"
   ]
  },
  {
   "cell_type": "code",
   "execution_count": 25,
   "metadata": {},
   "outputs": [],
   "source": [
    "classifier = Classifier(similarity_func=topology_comparator, cluster_centers=[models[index] for index in new_center_indices])\n",
    "n1 = 51\n",
    "n2 = 51\n",
    "t1s = np.linspace(0.001,3,n1)\n",
    "gammas = np.linspace(0.001,3,n2)\n",
    "v_list = np.zeros((n1, n2))\n",
    "\n",
    "\n",
    "for i in range(n1):\n",
    "    for j in range(n2):\n",
    "        hamiltonian = SSH1DOBC(E_ref=E_ref)\n",
    "        hamiltonian.set_parameters(t1=t1s[i], t2=1., gamma=gammas[j])\n",
    "        #print(hamiltonian.get_parameters())\n",
    "        if hamiltonian.is_real_line_gap():\n",
    "            _model = NonHermitianTopologicalModel(hamiltonian=hamiltonian, gap_type=\"real line\")\n",
    "            #v_list.append(1)\n",
    "            v_list[i,j] = classifier.classify(_model)"
   ]
  },
  {
   "cell_type": "code",
   "execution_count": 26,
   "metadata": {},
   "outputs": [
    {
     "data": {
      "image/png": "[encoded data removed]",
      "text/plain": [
       "<Figure size 400x400 with 2 Axes>"
      ]
     },
     "metadata": {},
     "output_type": "display_data"
    }
   ],
   "source": [
    "plt.figure(figsize=(4,4))\n",
    "plt.imshow(np.transpose(v_list), origin='lower',extent = [0,n1,0,n2])\n",
    "plt.xlabel(r\"$t_1$\",fontsize=20)\n",
    "plt.ylabel(r\"$\\gamma$\",fontsize=20,rotation=0,horizontalalignment='right')\n",
    "plt.xticks([0, n1/2, n1-1],[r\"0\", \"1.5\", r\"3\"],fontsize=20)\n",
    "plt.yticks([0, n2/2, n2-1],[r\"0\", \"1.5\", r\"3\"], fontsize=20)\n",
    "\n",
    "cb = plt.colorbar(ticks=range(len(center_indices)+1), fraction=0.046, pad=0.04)\n",
    "cb.ax.tick_params(labelsize=18)\n",
    "plt.tight_layout()\n",
    "plt.show()"
   ]
  },
  {
   "cell_type": "code",
   "execution_count": 27,
   "metadata": {},
   "outputs": [
    {
     "name": "stdout",
     "output_type": "stream",
     "text": [
      "1D_SSH_OBC_real\n"
     ]
    }
   ],
   "source": [
    "from tools import save_data, save_data_M\n",
    "\n",
    "name = \"1D_SSH_OBC_real\"\n",
    "save_data(new_center_indices, new_group_number, \"fig2_{0}_group_number.h5\".format(name))\n",
    "save_data_M(v_list, \"fig2_{0}_phase_diagram.h5\".format(name))\n",
    "print(name)"
   ]
  },
  {
   "cell_type": "code",
   "execution_count": 16,
   "metadata": {},
   "outputs": [],
   "source": [
    "# _Q1 = Qs[0][0]\n",
    "# _Q2 = Qs[53][0]\n",
    "\n",
    "# n_a = 51\n",
    "# a_list = np.linspace(0, 1, n_a)\n",
    "# vals = np.zeros((n_a, len(_Q1)))\n",
    "# for ia, a in enumerate(a_list):\n",
    "#     _Q = (1-a)*_Q1 + a*_Q2\n",
    "#     _val = np.linalg.eigvals(_Q)\n",
    "#     vals[ia] = np.real(_val)\n",
    "\n",
    "# for i in range(len(_Q1)):\n",
    "#     plt.scatter(a_list, vals[:,i])"
   ]
  }
 ],
 "metadata": {
  "kernelspec": {
   "display_name": "base",
   "language": "python",
   "name": "python3"
  },
  "language_info": {
   "codemirror_mode": {
    "name": "ipython",
    "version": 3
   },
   "file_extension": ".py",
   "mimetype": "text/x-python",
   "name": "python",
   "nbconvert_exporter": "python",
   "pygments_lexer": "ipython3",
   "version": "3.9.18"
  },
  "orig_nbformat": 4
 },
 "nbformat": 4,
 "nbformat_minor": 2
}
