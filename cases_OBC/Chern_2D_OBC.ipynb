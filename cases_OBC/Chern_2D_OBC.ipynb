{
 "cells": [
  {
   "cell_type": "code",
   "execution_count": 6,
   "metadata": {},
   "outputs": [],
   "source": [
    "import sys \n",
    "sys.path.append(\"..\") \n",
    "\n",
    "#from topological_models import generator\n",
    "import numpy as np\n",
    "import numpy.linalg as LA\n",
    "from topology_model import NonHermitianHamiltonian, NonHermitianTopologicalModel, NonHermitianHamiltonianOBC\n",
    "\n",
    "import matplotlib.pyplot as plt\n",
    "from machine_learning import Cluster\n",
    "from machine_learning import Classifier\n",
    "from topology_model import sigma_0, sigma_x, sigma_y, sigma_z\n",
    "from topology_model import Generator\n",
    "from topology_model import topology_comparator, topology_verifier, obtain_phase_center_and_number"
   ]
  },
  {
   "cell_type": "code",
   "execution_count": 7,
   "metadata": {},
   "outputs": [],
   "source": [
    "class Chern2DOBC(NonHermitianHamiltonian):\n",
    "    def __init__(self, E_ref=0.):\n",
    "        super().__init__(E_ref)\n",
    "        self.parameters = list()\n",
    "        self.initiate()\n",
    "\n",
    "    def get_n(self):\n",
    "        '''\n",
    "        n*n Hamiltonian\n",
    "        '''\n",
    "        return 2\n",
    "\n",
    "    def get_n_dim(self):\n",
    "        return 2\n",
    "\n",
    "    def get_parameters(self):\n",
    "        return self.parameters\n",
    "\n",
    "    def set_parameters(self, **kwargs):\n",
    "        self.parameters = kwargs['vx'], kwargs['vy'], kwargs['tx'], kwargs['ty'], kwargs['gamma'], kwargs['m']\n",
    "\n",
    "    def get_kpoints(self):\n",
    "        n_points = 3\n",
    "        kpoints = list()\n",
    "        for kx in np.linspace(0,np.pi,n_points):\n",
    "            for ky in np.linspace(0,np.pi,n_points):\n",
    "                kpoints.append([kx, ky])\n",
    "        return kpoints\n",
    "\n",
    "    def initiate(self):\n",
    "        tx = ty = vx = vy = 1.\n",
    "        m = 2*np.random.random() + 1.\n",
    "        gamma = 0.5*np.random.random()\n",
    "        self.parameters = vx, vy, tx, ty, gamma, m\n",
    "\n",
    "    def is_real_line_gap(self):\n",
    "        for k in self.get_kpoints():\n",
    "            hk = self.get_Hamiltonian(k)\n",
    "            Es = LA.eigvals(hk)\n",
    "            #print(np.abs(np.real(Es)))\n",
    "            if np.any(np.abs(np.real(Es - self.E_ref)) < 1e-3):\n",
    "                return False\n",
    "        return True     \n",
    "\n",
    "    def get_Hamiltonian(self, k):\n",
    "        kx, ky= k\n",
    "        hk = np.zeros((2,2), dtype=complex)\n",
    "        vx, vy, tx, ty, gamma, m = self.parameters\n",
    "\n",
    "        kx = kx - 1j*gamma/vx\n",
    "        ky = ky - 1j*gamma/vy\n",
    "        \n",
    "        hk = hk + (vx*np.sin(kx) + 1j*gamma)*sigma_x \\\n",
    "            + (vy*np.sin(ky) + 1j*gamma)*sigma_y \\\n",
    "            + (m - tx*np.cos(kx) - ty*np.cos(ky))*sigma_z\n",
    "\n",
    "        hk = hk - self.E_ref*sigma_0\n",
    "        \n",
    "        return hk\n",
    "    \n",
    "class Chern2DOBCPerturbation(NonHermitianHamiltonian):\n",
    "    def __init__(self, E_ref=0.):\n",
    "        super().__init__(E_ref)\n",
    "        self.parameters = list()\n",
    "        self.initiate()\n",
    "\n",
    "    def get_n(self):\n",
    "        '''\n",
    "        n*n Hamiltonian\n",
    "        '''\n",
    "        return 2\n",
    "\n",
    "    def get_n_dim(self):\n",
    "        return 2\n",
    "\n",
    "    def get_parameters(self):\n",
    "        return self.parameters\n",
    "\n",
    "    def set_parameters(self, **kwargs):\n",
    "        self.parameters = kwargs['vx'], kwargs['vy'], kwargs['tx'], kwargs['ty'], kwargs['gamma'], kwargs['m']\n",
    "\n",
    "    def get_kpoints(self):\n",
    "        n_points = 3\n",
    "        kpoints = list()\n",
    "        for kx in np.linspace(0,np.pi,n_points):\n",
    "            for ky in np.linspace(0,np.pi,n_points):\n",
    "                kpoints.append([kx, ky])\n",
    "        return kpoints\n",
    "\n",
    "    def initiate(self):\n",
    "        tx = ty = vx = vy = 1.\n",
    "        m = 2*np.random.random() + 1.\n",
    "        gamma = 0.5*np.random.random()\n",
    "        self.parameters = vx, vy, tx, ty, gamma, m\n",
    "\n",
    "    def is_real_line_gap(self):\n",
    "        for k in self.get_kpoints():\n",
    "            hk = self.get_Hamiltonian(k)\n",
    "            Es = LA.eigvals(hk)\n",
    "            #print(np.abs(np.real(Es)))\n",
    "            if np.any(np.abs(np.real(Es - self.E_ref)) < 1e-3):\n",
    "                return False\n",
    "        return True     \n",
    "\n",
    "    def get_Hamiltonian(self, k):\n",
    "        kx, ky= k\n",
    "        hk = np.zeros((2,2), dtype=complex)\n",
    "        vx, vy, tx, ty, gamma, m = self.parameters\n",
    "\n",
    "        kx = kx - 1j*gamma/vx\n",
    "        ky = ky - 1j*gamma/vy\n",
    "        \n",
    "        hk = hk + (vx*np.sin(kx) + 1j*gamma)*sigma_x \\\n",
    "            + (vy*np.sin(ky) + 1j*gamma)*sigma_y \\\n",
    "            + (m - tx*np.cos(kx) - ty*np.cos(ky))*sigma_z\n",
    "\n",
    "        hk = hk - self.E_ref*sigma_0\n",
    "        \n",
    "        return 0.1*hk"
   ]
  },
  {
   "cell_type": "code",
   "execution_count": 8,
   "metadata": {},
   "outputs": [
    {
     "name": "stdout",
     "output_type": "stream",
     "text": [
      "Number of samples:  198\n"
     ]
    }
   ],
   "source": [
    "#name = \"Chern2D\"\n",
    "gap_type=\"real line\"\n",
    "E_ref = 0.\n",
    "hamiltonian_model = Chern2DOBC(E_ref=E_ref)\n",
    "generator = Generator(hamiltonian=hamiltonian_model, gap_type=gap_type)\n",
    "\n",
    "n_sample = 200\n",
    "_models, vs = generator.generate_models(n_sample)\n",
    "Qs, vs = generator.generate(n_sample)\n",
    "n = generator.get_n()\n",
    "\n",
    "models = list()\n",
    "for model in _models:\n",
    "    if model.is_real_line_gap():\n",
    "        models.append(model)\n",
    "\n",
    "print(\"Number of samples: \", len(models))"
   ]
  },
  {
   "cell_type": "code",
   "execution_count": 9,
   "metadata": {},
   "outputs": [
    {
     "name": "stdout",
     "output_type": "stream",
     "text": [
      "[104  94]\n",
      "The number of centers:  2\n"
     ]
    }
   ],
   "source": [
    "cluster = Cluster(similarity_function=topology_comparator, verbose=False)\n",
    "center_indices, group_number = cluster.fit(models)\n",
    "print(group_number)\n",
    "print(\"The number of centers: \", len(center_indices))"
   ]
  },
  {
   "cell_type": "code",
   "execution_count": 10,
   "metadata": {},
   "outputs": [
    {
     "name": "stdout",
     "output_type": "stream",
     "text": [
      "Gap type:  real line\n",
      "The number of phases:  2\n",
      "[104, 94]\n"
     ]
    }
   ],
   "source": [
    "print(\"Gap type: \", gap_type)\n",
    "hamiltonian_perturbation = Chern2DOBCPerturbation(E_ref=E_ref)\n",
    "generator = Generator(hamiltonian=hamiltonian_perturbation, gap_type=gap_type)\n",
    "\n",
    "n_sample = 10\n",
    "perturbations, vs = generator.generate_models(n_sample)\n",
    "#Qs, vs = generator.generate(n_sample)\n",
    "n = generator.get_n()\n",
    "\n",
    "new_center_indices, new_group_number = obtain_phase_center_and_number(center_indices, group_number, models, perturbations)\n",
    "print(\"The number of phases: \", len(new_group_number))\n",
    "print(new_group_number)"
   ]
  },
  {
   "cell_type": "code",
   "execution_count": 11,
   "metadata": {},
   "outputs": [
    {
     "data": {
      "image/png": "[encoded data removed]",
      "text/plain": [
       "<Figure size 300x300 with 1 Axes>"
      ]
     },
     "metadata": {},
     "output_type": "display_data"
    }
   ],
   "source": [
    "plt.figure(figsize=(3,3))\n",
    "plt.bar(np.arange(len(new_group_number))+1, new_group_number)\n",
    "plt.xlim([0.5,len(new_group_number)+0.5])\n",
    "plt.xticks(list(range(1,len(new_group_number)+1)),fontsize=20)\n",
    "plt.ylim([0, np.max(new_group_number)*1.1])\n",
    "plt.yticks([0, int(np.max(new_group_number)/2), int(np.max(new_group_number))],fontsize=20)\n",
    "plt.xlabel(r\"$c$\",fontsize=20)\n",
    "plt.ylabel(r\"$M$\",fontsize=20,rotation=0,horizontalalignment='right')\n",
    "plt.show()"
   ]
  },
  {
   "cell_type": "code",
   "execution_count": 17,
   "metadata": {},
   "outputs": [
    {
     "name": "stdout",
     "output_type": "stream",
     "text": [
      "real line\n",
      "0\n",
      "1\n",
      "2\n",
      "3\n",
      "4\n",
      "5\n",
      "6\n",
      "7\n",
      "8\n",
      "9\n",
      "10\n",
      "11\n",
      "12\n",
      "13\n",
      "14\n",
      "15\n",
      "16\n",
      "17\n",
      "18\n",
      "19\n",
      "20\n",
      "21\n",
      "22\n",
      "23\n",
      "24\n",
      "25\n",
      "26\n",
      "27\n",
      "28\n",
      "29\n",
      "30\n"
     ]
    }
   ],
   "source": [
    "classifier = Classifier(similarity_func=topology_comparator, cluster_centers=[models[index] for index in new_center_indices])\n",
    "n1 = 51\n",
    "n2 = 51\n",
    "ms = np.linspace(1.01,3,n1)\n",
    "gammas = np.linspace(0.01,0.5,n2)\n",
    "v_list = np.zeros((n1,n2))\n",
    "\n",
    "print(gap_type)\n",
    "\n",
    "for i in range(n1):\n",
    "    for j in range(n2):\n",
    "        hamiltonian = Chern2DOBC(E_ref=0.)\n",
    "        hamiltonian.set_parameters(tx=1., ty=1., vx=1., vy=1., m=ms[i], gamma=gammas[j])\n",
    "        if hamiltonian.is_real_line_gap():\n",
    "            _model = NonHermitianTopologicalModel(hamiltonian=hamiltonian, gap_type=\"real line\")\n",
    "            #v_list.append(1)\n",
    "            v_list[i,j] = classifier.classify(_model)\n",
    "    print(i)"
   ]
  },
  {
   "cell_type": "code",
   "execution_count": 18,
   "metadata": {},
   "outputs": [
    {
     "data": {
      "image/png": "[encoded data removed]",
      "text/plain": [
       "<Figure size 400x400 with 2 Axes>"
      ]
     },
     "metadata": {},
     "output_type": "display_data"
    }
   ],
   "source": [
    "n1, n2 = v_list.shape\n",
    "\n",
    "plt.figure(figsize=(4,4))\n",
    "plt.imshow(np.transpose(v_list), origin='lower',extent = [0,n1,0,n2])\n",
    "plt.xlabel(r\"$m$\",fontsize=20)\n",
    "plt.ylabel(r\"$\\gamma$\",fontsize=20, rotation=0, horizontalalignment='right')\n",
    "plt.xticks([0, n1/2, n1-1],[r\"1\", r\"2\", r\"3\"],fontsize=20)\n",
    "plt.yticks([0, n2/2, n2-1],[r\"0\", r\"0.25\", r\"0.5\"], fontsize=20)\n",
    "\n",
    "cb = plt.colorbar(ticks=range(1, len(center_indices)+1), fraction=0.046, pad=0.04)\n",
    "cb.ax.tick_params(labelsize=18)\n",
    "\n",
    "plt.tight_layout()\n",
    "plt.show()"
   ]
  },
  {
   "cell_type": "code",
   "execution_count": 20,
   "metadata": {},
   "outputs": [
    {
     "name": "stdout",
     "output_type": "stream",
     "text": [
      "2D_Chern_OBC_real\n"
     ]
    }
   ],
   "source": [
    "from tools import save_data, save_data_M\n",
    "\n",
    "name = \"2D_Chern_OBC_real\"\n",
    "save_data(new_center_indices, new_group_number, \"fig2_{0}_group_number.h5\".format(name))\n",
    "save_data_M(v_list, \"fig2_{0}_phase_diagram.h5\".format(name))\n",
    "print(name)"
   ]
  },
  {
   "cell_type": "code",
   "execution_count": null,
   "metadata": {},
   "outputs": [],
   "source": []
  }
 ],
 "metadata": {
  "kernelspec": {
   "display_name": "base",
   "language": "python",
   "name": "python3"
  },
  "language_info": {
   "codemirror_mode": {
    "name": "ipython",
    "version": 3
   },
   "file_extension": ".py",
   "mimetype": "text/x-python",
   "name": "python",
   "nbconvert_exporter": "python",
   "pygments_lexer": "ipython3",
   "version": "3.9.18"
  },
  "orig_nbformat": 4
 },
 "nbformat": 4,
 "nbformat_minor": 2
}
