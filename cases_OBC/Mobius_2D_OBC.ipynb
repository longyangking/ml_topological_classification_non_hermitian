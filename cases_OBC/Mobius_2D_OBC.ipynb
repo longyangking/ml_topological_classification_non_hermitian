{
 "cells": [
  {
   "cell_type": "code",
   "execution_count": 1,
   "metadata": {},
   "outputs": [],
   "source": [
    "import sys \n",
    "sys.path.append(\"..\") \n",
    "\n",
    "#from topological_models import generator\n",
    "import numpy as np\n",
    "import numpy.linalg as LA\n",
    "\n",
    "from topology_model import NonHermitianHamiltonian, NonHermitianTopologicalModel\n",
    "import matplotlib.pyplot as plt\n",
    "from machine_learning import Cluster\n",
    "from machine_learning import Classifier\n",
    "from topology_model import sigma_0, sigma_x, sigma_y, sigma_z\n",
    "from topology_model import Generator\n",
    "from topology_model import topology_comparator, topology_verifier, obtain_phase_center_and_number"
   ]
  },
  {
   "cell_type": "code",
   "execution_count": 2,
   "metadata": {},
   "outputs": [],
   "source": [
    "class Mobius2DOBC(NonHermitianHamiltonian):\n",
    "    def __init__(self, E_ref=0.):\n",
    "        super().__init__(E_ref)\n",
    "        self.parameters = list()\n",
    "        self.initiate()\n",
    "\n",
    "    def get_n(self):\n",
    "        '''\n",
    "        n*n Hamiltonian\n",
    "        '''\n",
    "        return 4\n",
    "\n",
    "    def get_n_dim(self):\n",
    "        return 2\n",
    "\n",
    "    def get_parameters(self):\n",
    "        return self.parameters\n",
    "\n",
    "    def set_parameters(self, **kwargs):\n",
    "        self.parameters = kwargs['t1'], kwargs['t2'], kwargs['gamma'], kwargs['kappa']\n",
    "\n",
    "    def get_kpoints(self):\n",
    "        n_points = 3\n",
    "        kpoints = list()\n",
    "        for kx in np.linspace(-np.pi,np.pi,n_points):\n",
    "            for ky in np.linspace(-np.pi,np.pi,n_points):\n",
    "                kpoints.append([kx, ky])\n",
    "        return kpoints\n",
    "\n",
    "    def initiate(self):\n",
    "        t2 = 1.\n",
    "        kappa = 0.25\n",
    "        t1 = 2*np.random.random()\n",
    "        gamma = 2*np.random.random()\n",
    "        #gamma = 0.\n",
    "        self.parameters = t1, t2, gamma, kappa\n",
    "\n",
    "    def is_real_line_gap(self):\n",
    "        for k in self.get_kpoints():\n",
    "            hk = self.get_Hamiltonian(k)\n",
    "            Es = LA.eigvals(hk)\n",
    "            #print(np.abs(np.real(Es)))\n",
    "            if np.any(np.abs(np.real(Es - self.E_ref)) < 1e-3):\n",
    "                return False\n",
    "        return True  \n",
    "\n",
    "    def get_Hamiltonian(self, k):\n",
    "        kx, ky= k\n",
    "        t1, t2, gamma, kappa = self.parameters\n",
    "        deltat = 1e-10\n",
    "        g = np.sqrt(np.abs((t1-gamma/2)/(t1+gamma/2)))\n",
    "\n",
    "        hk = np.array([\n",
    "            [0, t1+gamma/2+t2/g*np.exp(-1j*ky), kappa+kappa*np.exp(-1j*kx), 0],\n",
    "            [t1-gamma/2+t2*g*np.exp(1j*ky), 0, 0, kappa+kappa*np.exp(-1j*kx)],\n",
    "            [kappa+kappa*np.exp(1j*kx), 0, 0, -(deltat + t1+gamma/2+t2/g*np.exp(-1j*ky))],\n",
    "            [0, kappa+kappa*np.exp(1j*kx), -(deltat + t1-gamma/2+t2*g*np.exp(1j*ky)), 0]\n",
    "        ])\n",
    "\n",
    "        hk = hk - self.E_ref*np.identity(4)\n",
    "        \n",
    "        return hk\n",
    "    \n",
    "class Mobius2DOBCPerturbation(NonHermitianHamiltonian):\n",
    "    def __init__(self, E_ref=0.):\n",
    "        super().__init__(E_ref)\n",
    "        self.parameters = list()\n",
    "        self.initiate()\n",
    "\n",
    "    def get_n(self):\n",
    "        '''\n",
    "        n*n Hamiltonian\n",
    "        '''\n",
    "        return 4\n",
    "\n",
    "    def get_n_dim(self):\n",
    "        return 2\n",
    "\n",
    "    def get_parameters(self):\n",
    "        return self.parameters\n",
    "\n",
    "    def set_parameters(self, **kwargs):\n",
    "        self.parameters = kwargs['t1'], kwargs['t2'], kwargs['kappa']\n",
    "\n",
    "    def get_kpoints(self):\n",
    "        n_points = 3\n",
    "        kpoints = list()\n",
    "        for kx in np.linspace(-np.pi,np.pi,n_points):\n",
    "            for ky in np.linspace(-np.pi,np.pi,n_points):\n",
    "                kpoints.append([kx, ky])\n",
    "        return kpoints\n",
    "\n",
    "    def initiate(self):\n",
    "        t2 = 1.\n",
    "        kappa = 0.25\n",
    "        t1 = 2*np.random.random()\n",
    "        #gamma = 3*np.random.random()\n",
    "        self.parameters = t1, t2, kappa\n",
    "\n",
    "    def is_real_line_gap(self):\n",
    "        return True  \n",
    "\n",
    "    def get_Hamiltonian(self, k):\n",
    "        kx, ky= k\n",
    "        t1, t2, kappa = self.parameters\n",
    "        \n",
    "        hk = np.array([\n",
    "            [0, t1+t2*np.exp(-1j*ky), kappa+kappa*np.exp(-1j*kx), 0],\n",
    "            [t1+t2*np.exp(1j*ky), 0, 0, kappa+kappa*np.exp(-1j*kx)],\n",
    "            [kappa+kappa*np.exp(1j*kx), 0, 0, -(t1+t2*np.exp(-1j*ky))],\n",
    "            [0, kappa+kappa*np.exp(1j*kx), -(t1+t2*np.exp(1j*ky)), 0]\n",
    "        ])\n",
    "\n",
    "        hk = hk - self.E_ref*np.identity(4)\n",
    "        \n",
    "        return 0.1*hk"
   ]
  },
  {
   "cell_type": "code",
   "execution_count": 3,
   "metadata": {},
   "outputs": [
    {
     "name": "stdout",
     "output_type": "stream",
     "text": [
      "Number of samples:  499\n"
     ]
    }
   ],
   "source": [
    "#name = \"Chern2D\"\n",
    "gap_type=\"real line\"\n",
    "E_ref = 0.\n",
    "hamiltonian_model = Mobius2DOBC(E_ref=E_ref)\n",
    "generator = Generator(hamiltonian=hamiltonian_model, gap_type=gap_type)\n",
    "\n",
    "n_sample = 500\n",
    "_models, vs = generator.generate_models(n_sample)\n",
    "#Qs, vs = generator.generate(n_sample)\n",
    "n = generator.get_n()\n",
    "\n",
    "models = list()\n",
    "for model in _models:\n",
    "    if model.is_real_line_gap():\n",
    "        models.append(model)\n",
    "\n",
    "print(\"Number of samples: \", len(models))"
   ]
  },
  {
   "cell_type": "code",
   "execution_count": 4,
   "metadata": {},
   "outputs": [],
   "source": [
    "# for imodel, model in enumerate(models):\n",
    "#     hk = model.get_Hamiltonian([0,0])\n",
    "#     values, Rvectors = LA.eig(hk)\n",
    "#     _, Lvectors = LA.eig(np.conjugate(np.transpose(hk)))\n",
    "\n",
    "#     Rvectors = np.transpose(Rvectors)\n",
    "#     Lvectors = np.transpose(Lvectors)\n",
    "\n",
    "#     indices = np.zeros(len(values), dtype=int)\n",
    "#     for iv, rvector in enumerate(Rvectors):\n",
    "#         _coeffs = np.zeros(len(values), dtype=complex)\n",
    "#         for jv, lvector in enumerate(Lvectors):\n",
    "#             _coeffs[jv] = np.conjugate(lvector).dot(rvector)\n",
    "\n",
    "#         #print(iv\n",
    "#         #print(np.around(np.abs(_coeffs),decimals=3))\n",
    "#         indices[iv] = int(np.argmax(np.abs(_coeffs)))\n",
    "\n",
    "#     if len(np.unique(indices)) != len(values):\n",
    "#         print(indices)\n",
    "#         print(imodel)\n",
    "#         print(model.get_parameters())\n",
    "#         raise Exception(\"Error in calculating the eigenvectors\")"
   ]
  },
  {
   "cell_type": "code",
   "execution_count": null,
   "metadata": {},
   "outputs": [
    {
     "name": "stderr",
     "output_type": "stream",
     "text": [
      "/home/longyang/OSC/ml_topological_classification_non_-hermitian/cases_OBC/../topology_model/topology_comparator_utils.py:26: RuntimeWarning: divide by zero encountered in log10\n",
      "  return np.log10(a0)/epsilon\n",
      "/home/longyang/anaconda3/lib/python3.9/site-packages/scipy/optimize/_optimize.py:917: RuntimeWarning: invalid value encountered in subtract\n",
      "  np.max(np.abs(fsim[0] - fsim[1:])) <= fatol):\n",
      "/home/longyang/OSC/ml_topological_classification_non_-hermitian/cases_OBC/../topology_model/topology_comparator_utils.py:34: RuntimeWarning: divide by zero encountered in log10\n",
      "  if np.log10(np.abs(v)) < c_val:\n"
     ]
    }
   ],
   "source": [
    "cluster = Cluster(similarity_function=topology_comparator, verbose=False)\n",
    "center_indices, group_number = cluster.fit(models)\n",
    "print(group_number)\n",
    "print(\"The number of centers: \", len(center_indices))"
   ]
  },
  {
   "cell_type": "code",
   "execution_count": null,
   "metadata": {},
   "outputs": [],
   "source": [
    "print(\"Gap type: \", gap_type)\n",
    "hamiltonian_perturbation = Mobius2DOBCPerturbation(E_ref=E_ref)\n",
    "generator = Generator(hamiltonian=hamiltonian_perturbation, gap_type=gap_type)\n",
    "\n",
    "n_sample = 10\n",
    "perturbations, vs = generator.generate_models(n_sample)\n",
    "#Qs, vs = generator.generate(n_sample)\n",
    "n = generator.get_n()\n",
    "\n",
    "new_center_indices, new_group_number = obtain_phase_center_and_number(center_indices, group_number, models, perturbations)\n",
    "print(\"The number of phases: \", len(new_group_number))\n",
    "print(new_group_number)"
   ]
  },
  {
   "cell_type": "code",
   "execution_count": null,
   "metadata": {},
   "outputs": [],
   "source": [
    "for model in [models[index] for index in new_center_indices]:\n",
    "    print(model.get_parameters())"
   ]
  },
  {
   "cell_type": "code",
   "execution_count": null,
   "metadata": {},
   "outputs": [],
   "source": [
    "plt.figure(figsize=(3,3))\n",
    "plt.bar(np.arange(len(new_group_number))+1, new_group_number)\n",
    "plt.xlim([0.5,len(new_group_number)+0.5])\n",
    "plt.xticks(list(range(1,len(new_group_number)+1)),fontsize=20)\n",
    "plt.ylim([0, np.max(new_group_number)*1.1])\n",
    "plt.yticks([0, int(np.max(new_group_number)/2), int(np.max(new_group_number))],fontsize=20)\n",
    "plt.xlabel(r\"$c$\",fontsize=20)\n",
    "plt.ylabel(r\"$M$\",fontsize=20,rotation=0,horizontalalignment='right')\n",
    "plt.show()"
   ]
  },
  {
   "cell_type": "markdown",
   "metadata": {},
   "source": [
    "# Phase diagram"
   ]
  },
  {
   "cell_type": "code",
   "execution_count": null,
   "metadata": {},
   "outputs": [],
   "source": [
    "classifier = Classifier(similarity_func=topology_comparator, cluster_centers=[models[index] for index in new_center_indices])\n",
    "n1 = 51\n",
    "n2 = 51\n",
    "t1s = np.linspace(0.0001,2,n1)\n",
    "gammas = np.linspace(0.001,2.,n2)\n",
    "v_list = np.zeros((n1,n2))\n",
    "\n",
    "print(gap_type)\n",
    "\n",
    "for i in range(n1):\n",
    "    for j in range(n2):\n",
    "        hamiltonian = Mobius2DOBC(E_ref=0.)\n",
    "        hamiltonian.set_parameters(t1=t1s[i], t2=1., gamma=gammas[j], kappa=1.)\n",
    "        if hamiltonian.is_real_line_gap():\n",
    "            _model = NonHermitianTopologicalModel(hamiltonian=hamiltonian, gap_type=\"real line\")\n",
    "            #v_list.append(1)\n",
    "            v_list[i,j] = classifier.classify(_model)\n",
    "    print(i)"
   ]
  },
  {
   "cell_type": "code",
   "execution_count": null,
   "metadata": {},
   "outputs": [],
   "source": [
    "plt.figure(figsize=(4,4))\n",
    "plt.imshow(np.transpose(v_list), origin='lower',extent = [0,n1,0,n2])\n",
    "plt.xlabel(r\"$t_1$\",fontsize=20)\n",
    "plt.ylabel(r\"$\\gamma$\",fontsize=20,rotation=0,horizontalalignment='right')\n",
    "plt.xticks([0, n1/2, n1-1],[r\"0\", \"1\", r\"2\"],fontsize=20)\n",
    "plt.yticks([0, n2/2, n2-1],[r\"0\", \"1\", r\"2\"], fontsize=20)\n",
    "\n",
    "cb = plt.colorbar(ticks=range(len(center_indices)+1), fraction=0.046, pad=0.04)\n",
    "cb.ax.tick_params(labelsize=18)\n",
    "plt.tight_layout()\n",
    "plt.show()"
   ]
  },
  {
   "cell_type": "markdown",
   "metadata": {},
   "source": [
    "# Save data"
   ]
  },
  {
   "cell_type": "code",
   "execution_count": null,
   "metadata": {},
   "outputs": [],
   "source": [
    "from tools import save_data, save_data_M\n",
    "\n",
    "name = \"2D_Mobius_OBC_real\"\n",
    "save_data(new_center_indices, new_group_number, \"fig3_{0}_group_number.h5\".format(name))\n",
    "save_data_M(v_list, \"fig3_{0}_phase_diagram.h5\".format(name))\n",
    "print(name)"
   ]
  },
  {
   "cell_type": "code",
   "execution_count": null,
   "metadata": {},
   "outputs": [],
   "source": []
  }
 ],
 "metadata": {
  "kernelspec": {
   "display_name": "Python 3 (ipykernel)",
   "language": "python",
   "name": "python3"
  },
  "language_info": {
   "codemirror_mode": {
    "name": "ipython",
    "version": 3
   },
   "file_extension": ".py",
   "mimetype": "text/x-python",
   "name": "python",
   "nbconvert_exporter": "python",
   "pygments_lexer": "ipython3",
   "version": "3.9.18"
  }
 },
 "nbformat": 4,
 "nbformat_minor": 2
}
