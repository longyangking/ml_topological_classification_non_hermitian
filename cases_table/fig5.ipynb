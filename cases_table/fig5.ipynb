{
 "cells": [
  {
   "cell_type": "code",
   "execution_count": 5,
   "metadata": {},
   "outputs": [],
   "source": [
    "import sys \n",
    "sys.path.append(\"..\") \n",
    "\n",
    "import matplotlib.pyplot as plt\n",
    "import numpy as np\n",
    "from tools import save_data, save_data_M, load_data, load_data_M\n",
    "from non_Hermitian_random_matrix import non_hermitian_symmetry_list, gap_types, non_Hermitian_symmetry_list_name, non_Hermitian_symmetry_list_name_parity"
   ]
  },
  {
   "cell_type": "markdown",
   "metadata": {},
   "source": [
    "# Check missing"
   ]
  },
  {
   "cell_type": "code",
   "execution_count": 6,
   "metadata": {},
   "outputs": [
    {
     "name": "stdout",
     "output_type": "stream",
     "text": [
      "Total missing:  0\n",
      "Total missing (P):  0\n"
     ]
    }
   ],
   "source": [
    "missing_list = list()\n",
    "missing_list_P = list()\n",
    "\n",
    "for gap_type in gap_types:\n",
    "    for n_dim in range(1, 9+1):\n",
    "        for isym, sym_name in enumerate(non_hermitian_symmetry_list):\n",
    "            filename = \"./data/data_{symmetry_class}_{gap_type}_dim_{n_dim}.h5\".format(\n",
    "                symmetry_class=sym_name, gap_type=gap_type, n_dim=n_dim)\n",
    "            try:\n",
    "                center_indices, group_number = load_data(filename)\n",
    "            except:\n",
    "                missing_list.append(\n",
    "                    \"{symmetry_class}: {gap_type} dim={n_dim}\".format(\n",
    "                symmetry_class=sym_name, gap_type=gap_type, n_dim=n_dim))\n",
    "\n",
    "            filename = \"./data_P/data_{symmetry_class}_{gap_type}_dim_{n_dim}_P.h5\".format(\n",
    "                symmetry_class=sym_name, gap_type=gap_type, n_dim=n_dim)\n",
    "            try:\n",
    "                center_indices, group_number = load_data(filename)\n",
    "            except:\n",
    "                missing_list_P.append(\n",
    "                    \"{symmetry_class}: {gap_type} dim={n_dim}\".format(\n",
    "                symmetry_class=sym_name, gap_type=gap_type, n_dim=n_dim))\n",
    "\n",
    "print(\"Total missing: \", len(missing_list))\n",
    "print(\"Total missing (P): \", len(missing_list_P))\n",
    "# for x in missing_list:\n",
    "#     print(x)"
   ]
  },
  {
   "cell_type": "markdown",
   "metadata": {},
   "source": [
    "# Export figures"
   ]
  },
  {
   "cell_type": "code",
   "execution_count": 12,
   "metadata": {},
   "outputs": [],
   "source": [
    "symmetry_list  = ['A', 'AIII', 'BDI', 'D', 'C', 'BDI:S-+']\n",
    "n_dim = 1\n",
    "\n",
    "for ig, gap_type in enumerate(gap_types):\n",
    "    \n",
    "    fig = plt.figure(figsize=(8,6))\n",
    "    for isym, sym_name in enumerate(symmetry_list):\n",
    "        filename = \"./data/data_{symmetry_class}_{gap_type}_dim_{n_dim}.h5\".format(\n",
    "            symmetry_class=sym_name, gap_type=gap_type, n_dim=n_dim)\n",
    "        try:\n",
    "            center_indices, group_number = load_data(filename)\n",
    "        except:\n",
    "            group_number = [0]\n",
    "\n",
    "        x_index = int(isym%7)\n",
    "        y_index = int(isym/7)\n",
    "\n",
    "        plt.subplot(2,3, isym+1)\n",
    "        plt.bar(np.arange(len(group_number))+1, group_number)\n",
    "        plt.xlim([0.5,len(group_number)+0.5])\n",
    "        if len(group_number)==1:\n",
    "            plt.xticks([1],fontsize=20)\n",
    "        elif len(group_number)==2:\n",
    "            plt.xticks([1,2], fontsize=20)\n",
    "        # elif len(group_number)==4:\n",
    "        #     plt.xticks([1,2,3,4], fontsize=20)\n",
    "        elif len(group_number)>2:\n",
    "            plt.xticks([1, len(group_number)], fontsize=20)\n",
    "\n",
    "        if np.max(group_number) != 0:\n",
    "            plt.ylim([0, np.max(group_number)*1.1])\n",
    "        else:\n",
    "            plt.ylim([0, 0.1])\n",
    "        plt.yticks([0, int(np.max(group_number)/2), int(np.max(group_number))],fontsize=20)\n",
    "        plt.xlabel(r\"$c$\",fontsize=20)\n",
    "        plt.ylabel(r\"$M$\",fontsize=20,rotation=0,horizontalalignment='right')\n",
    "        plt.title(non_Hermitian_symmetry_list_name[sym_name], fontsize=20, fontweight=\"bold\")\n",
    "\n",
    "\n",
    "    plt.tight_layout()\n",
    "    plt.savefig('./fig5/fig_table_{0}dim_{1}_group_number.svg'.format(n_dim, gap_type), bbox_inches=\"tight\")\n",
    "    plt.close(fig)"
   ]
  },
  {
   "cell_type": "code",
   "execution_count": null,
   "metadata": {},
   "outputs": [],
   "source": [
    "symmetry_list  = ['AI', 'AII', 'BDI', 'D', 'C', 'BDI:S-+']\n",
    "n_dim = 1\n",
    "\n",
    "for ig, gap_type in enumerate(gap_types):\n",
    "    \n",
    "    fig = plt.figure(figsize=(8,6))\n",
    "    for isym, sym_name in enumerate(symmetry_list):\n",
    "        filename = \"./data_P/data_{symmetry_class}_{gap_type}_dim_{n_dim}_P.h5\".format(\n",
    "            symmetry_class=sym_name, gap_type=gap_type, n_dim=n_dim)\n",
    "        try:\n",
    "            center_indices, group_number = load_data(filename)\n",
    "        except:\n",
    "            group_number = [0]\n",
    "\n",
    "        x_index = int(isym%7)\n",
    "        y_index = int(isym/7)\n",
    "\n",
    "        plt.subplot(2,3, isym+1)\n",
    "        plt.bar(np.arange(len(group_number))+1, group_number)\n",
    "        plt.xlim([0.5,len(group_number)+0.5])\n",
    "        if len(group_number)==1:\n",
    "            plt.xticks([1],fontsize=20)\n",
    "        elif len(group_number)==2:\n",
    "            plt.xticks([1,2], fontsize=20)\n",
    "        # elif len(group_number)==4:\n",
    "        #     plt.xticks([1,2,3,4], fontsize=20)\n",
    "        elif len(group_number)>2:\n",
    "            plt.xticks([1, len(group_number)], fontsize=20)\n",
    "\n",
    "        if np.max(group_number) != 0:\n",
    "            plt.ylim([0, np.max(group_number)*1.1])\n",
    "        else:\n",
    "            plt.ylim([0, 0.1])\n",
    "        plt.yticks([0, int(np.max(group_number)/2), int(np.max(group_number))],fontsize=20)\n",
    "        plt.xlabel(r\"$c$\",fontsize=20)\n",
    "        plt.ylabel(r\"$M$\",fontsize=20,rotation=0,horizontalalignment='right')\n",
    "        plt.title(non_Hermitian_symmetry_list_name_parity[sym_name], fontsize=20, fontweight=\"bold\")\n",
    "\n",
    "\n",
    "    plt.tight_layout()\n",
    "    plt.savefig('./fig5/fig_table_{0}dim_{1}_group_number_P.svg'.format(n_dim, gap_type), bbox_inches=\"tight\")\n",
    "    plt.close(fig)"
   ]
  },
  {
   "cell_type": "code",
   "execution_count": null,
   "metadata": {},
   "outputs": [],
   "source": []
  }
 ],
 "metadata": {
  "kernelspec": {
   "display_name": "base",
   "language": "python",
   "name": "python3"
  },
  "language_info": {
   "codemirror_mode": {
    "name": "ipython",
    "version": 3
   },
   "file_extension": ".py",
   "mimetype": "text/x-python",
   "name": "python",
   "nbconvert_exporter": "python",
   "pygments_lexer": "ipython3",
   "version": "3.9.18"
  }
 },
 "nbformat": 4,
 "nbformat_minor": 2
}
