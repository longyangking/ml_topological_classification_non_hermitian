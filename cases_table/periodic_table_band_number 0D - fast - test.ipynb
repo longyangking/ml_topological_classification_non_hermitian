{
 "cells": [
  {
   "cell_type": "code",
   "execution_count": 1,
   "metadata": {},
   "outputs": [
    {
     "name": "stdout",
     "output_type": "stream",
     "text": [
      "Numpy version:  1.26.3\n",
      "Scipy version:  1.11.4\n"
     ]
    },
    {
     "name": "stderr",
     "output_type": "stream",
     "text": [
      "/home/longyang/OSC/ml_topological_classification_non_-hermitian/cases_table/../topology_table/topological_model_deform.py:15: NumbaDeprecationWarning: \u001b[1mThe 'nopython' keyword argument was not supplied to the 'numba.jit' decorator. The implicit default value for this argument is currently False, but it will be changed to True in Numba 0.59.0. See https://numba.readthedocs.io/en/stable/reference/deprecation.html#deprecation-of-object-mode-fall-back-behaviour-when-using-jit for details.\u001b[0m\n",
      "  @nb.jit()\n",
      "/home/longyang/OSC/ml_topological_classification_non_-hermitian/cases_table/../topology_table/bk/topological_model.py:15: NumbaDeprecationWarning: \u001b[1mThe 'nopython' keyword argument was not supplied to the 'numba.jit' decorator. The implicit default value for this argument is currently False, but it will be changed to True in Numba 0.59.0. See https://numba.readthedocs.io/en/stable/reference/deprecation.html#deprecation-of-object-mode-fall-back-behaviour-when-using-jit for details.\u001b[0m\n",
      "  @nb.jit()\n"
     ]
    }
   ],
   "source": [
    "import sys \n",
    "sys.path.append(\"..\") \n",
    "\n",
    "import numpy as np\n",
    "import matplotlib.pyplot as plt\n",
    "import scipy as sp \n",
    "\n",
    "print(\"Numpy version: \", np.__version__)\n",
    "print(\"Scipy version: \", sp.__version__)\n",
    "\n",
    "from non_Hermitian_random_matrix import non_hermitian_symmetry_list, gap_types, is_complexification\n",
    "from non_Hermitian_random_matrix import DeformHamiltonian, DeformHamiltonianGenerator\n",
    "\n",
    "from machine_learning import Cluster\n",
    "from topology_table import DeformTopologicalModel\n",
    "from functools import partial\n",
    "import itertools\n",
    "\n",
    "from multiprocessing import Pool\n",
    "from tools import save_data, save_data_M, load_data, load_data_M"
   ]
  },
  {
   "cell_type": "code",
   "execution_count": 2,
   "metadata": {},
   "outputs": [],
   "source": [
    "def sim_func_Q(Q1, Q2):\n",
    "    nQ = len(Q1)\n",
    "    for n in range(nQ):\n",
    "        _Q = Q1[n]+Q2[n]\n",
    "        for v in np.linalg.eigvalsh(_Q):\n",
    "            if np.log10(np.abs(v)) < -10:\n",
    "                return 0\n",
    "    return 1\n",
    "\n",
    "def get_kpoints():\n",
    "    '''\n",
    "    Get the k points for 0D\n",
    "    '''\n",
    "    return [[1]]\n",
    "\n",
    "def fast_similarity_func(model1, model2):\n",
    "    kpoints = get_kpoints()\n",
    "    Q1 = model1.calculate_Q(kpoints)\n",
    "    Q2 = model2.calculate_Q(kpoints)\n",
    "    return sim_func_Q(Q1, Q2)"
   ]
  },
  {
   "cell_type": "markdown",
   "metadata": {
    "jp-MarkdownHeadingCollapsed": true
   },
   "source": [
    "# Parallel among different cases"
   ]
  },
  {
   "cell_type": "code",
   "execution_count": 5,
   "metadata": {},
   "outputs": [
    {
     "name": "stdout",
     "output_type": "stream",
     "text": [
      "Total case:  342\n"
     ]
    },
    {
     "name": "stdout",
     "output_type": "stream",
     "text": [
      "Calculating A: point dim = 0 n_band=8 n_sample=1000\n",
      "Calculating A: real line dim = 0 n_band=8 n_sample=1000\n",
      "Calculating A: real line dim = 0 n_band=24 n_sample=1000\n",
      "Calculating AIII: real line dim = 0 n_band=16 n_sample=1000\n",
      "Calculating A: imaginary line dim = 0 n_band=16 n_sample=1000\n",
      "\n",
      "Calculating AI: point dim = 0 n_band=24 n_sample=1000\n",
      "Calculating AI: real line dim = 0 n_band=24 n_sample=1000\n",
      "Calculating AI: point dim = 0 n_band=8 n_sample=1000\n",
      "Calculating BDI: real line dim = 0 n_band=16 n_sample=1000\n",
      "Calculating AIII: imaginary line dim = 0 n_band=24 n_sample=1000\n",
      "\n",
      "Calculating BDI: imaginary line dim = 0 n_band=24 n_sample=1000\n",
      "Calculating AIII: imaginary line dim = 0 n_band=8 n_sample=1000\n",
      "\n",
      "Calculating AI: imaginary line dim = 0 n_band=16 n_sample=1000\n",
      "Calculating A: point dim = 0 n_band=24 n_sample=1000\n",
      "\n",
      "\n",
      "\n",
      "\n",
      "Calculating D: real line dim = 0 n_band=24 n_sample=1000\n",
      "Calculating DIII: imaginary line dim = 0 n_band=24 n_sample=1000\n",
      "Calculating D: imaginary line dim = 0 n_band=16 n_sample=1000\n",
      "\n",
      "Calculating BDI: point dim = 0 n_band=16 n_sample=1000\n",
      "\n",
      "\n",
      "Calculating AII: real line dim = 0 n_band=8 n_sample=1000\n",
      "\n",
      "Calculating AII: real line dim = 0 n_band=24 n_sample=1000\n",
      "Calculating AII: point dim = 0 n_band=24 n_sample=1000\n",
      "\n",
      "Calculating CII: point dim = 0 n_band=16 n_sample=1000\n",
      "\n",
      "Calculating AII: imaginary line dim = 0 n_band=16 n_sample=1000\n",
      "Calculating DIII: point dim = 0 n_band=16 n_sample=1000\n",
      "Calculating CI: point dim = 0 n_band=16 n_sample=1000\n",
      "\n",
      "\n",
      "Calculating D: point dim = 0 n_band=8 n_sample=1000\n",
      "Calculating AI+: real line dim = 0 n_band=8 n_sample=1000\n",
      "\n",
      "\n",
      "Calculating C: point dim = 0 n_band=24 n_sample=1000\n",
      "Calculating C: real line dim = 0 n_band=24 n_sample=1000\n",
      "\n",
      "Calculating CI: real line dim = 0 n_band=16 n_sample=1000\n",
      "Calculating AI+: real line dim = 0 n_band=24 n_sample=1000\n",
      "Calculating CII: imaginary line dim = 0 n_band=24 n_sample=1000\n",
      "\n",
      "\n",
      "Calculating BDI: imaginary line dim = 0 n_band=8 n_sample=1000\n",
      "\n",
      "Calculating CII: real line dim = 0 n_band=16 n_sample=1000\n",
      "Calculating CII: imaginary line dim = 0 n_band=8 n_sample=1000\n",
      "Calculating AI+: point dim = 0 n_band=24 n_sample=1000\n",
      "Calculating AI+: imaginary line dim = 0 n_band=16 n_sample=1000\n",
      "\n",
      "\n",
      "\n",
      "\n",
      "Calculating D: point dim = 0 n_band=24 n_sample=1000\n",
      "\n",
      "Calculating BDI+: real line dim = 0 n_band=16 n_sample=1000\n",
      "Calculating C: real line dim = 0 n_band=8 n_sample=1000\n",
      "Calculating D: real line dim = 0 n_band=8 n_sample=1000\n",
      "Calculating CI: imaginary line dim = 0 n_band=8 n_sample=1000\n",
      "\n",
      "\n",
      "\n",
      "\n",
      "\n",
      "\n",
      "Calculating BDI+: imaginary line dim = 0 n_band=24 n_sample=1000\n",
      "\n",
      "Calculating DIII+: imaginary line dim = 0 n_band=16 n_sample=1000\n",
      "Calculating DIII: real line dim = 0 n_band=16 n_sample=1000\n",
      "\n",
      "\n",
      "Calculating AII+: imaginary line dim = 0 n_band=8 n_sample=1000\n",
      "Calculating AII+: real line dim = 0 n_band=16 n_sample=1000\n",
      "Calculating AII+: point dim = 0 n_band=16 n_sample=1000\n",
      "\n",
      "Calculating DIII+: real line dim = 0 n_band=24 n_sample=1000\n",
      "Calculating DIII: imaginary line dim = 0 n_band=8 n_sample=1000\n",
      "Calculating CII+: real line dim = 0 n_band=8 n_sample=1000\n",
      "\n",
      "\n",
      "\n",
      "\n",
      "Calculating AI+: point dim = 0 n_band=8 n_sample=1000\n",
      "Calculating CI: imaginary line dim = 0 n_band=24 n_sample=1000\n",
      "\n",
      "\n",
      "\n",
      "\n",
      "\n",
      "\n",
      "\n",
      "Calculating DIII+: point dim = 0 n_band=24 n_sample=1000\n",
      "\n",
      "Calculating AII: point dim = 0 n_band=8 n_sample=1000\n",
      "Calculating C: point dim = 0 n_band=8 n_sample=1000\n",
      "\n",
      "Calculating BDI+: point dim = 0 n_band=16 n_sample=1000\n",
      "\n",
      "\n",
      "\n",
      "\n",
      "\n",
      "\n",
      "\n",
      "Calculating AII+: imaginary line dim = 0 n_band=24 n_sample=1000\n",
      "\n",
      "Calculating BDI+: imaginary line dim = 0 n_band=8 n_sample=1000\n",
      "\n",
      "\n",
      "Calculating C: imaginary line dim = 0 n_band=16 n_sample=1000\n",
      "Calculating DIII+: point dim = 0 n_band=8 n_sample=1000\n",
      "Calculating DIII+: real line dim = 0 n_band=8 n_sample=1000\n",
      "Calculating AIII: point dim = 0 n_band=16 n_sample=1000\n",
      "\n",
      "\n",
      "\n",
      "\n",
      "Calculating AI: real line dim = 0 n_band=8 n_sample=1000\n",
      "\n"
     ]
    },
    {
     "name": "stderr",
     "output_type": "stream",
     "text": [
      "/tmp/ipykernel_144448/2434169657.py:6: RuntimeWarning: divide by zero encountered in log10\n",
      "  if np.log10(np.abs(v)) < -10:\n",
      "/tmp/ipykernel_144448/2434169657.py:6: RuntimeWarning: divide by zero encountered in log10\n",
      "  if np.log10(np.abs(v)) < -10:\n",
      "/tmp/ipykernel_144448/2434169657.py:6: RuntimeWarning: divide by zero encountered in log10\n",
      "  if np.log10(np.abs(v)) < -10:\n",
      "/tmp/ipykernel_144448/2434169657.py:6: RuntimeWarning: divide by zero encountered in log10\n",
      "  if np.log10(np.abs(v)) < -10:\n",
      "/tmp/ipykernel_144448/2434169657.py:6: RuntimeWarning: divide by zero encountered in log10\n",
      "  if np.log10(np.abs(v)) < -10:\n"
     ]
    },
    {
     "name": "stdout",
     "output_type": "stream",
     "text": [
      "Calculating AI+: point dim = 0 n_band=16 n_sample=1000\n",
      "\n"
     ]
    },
    {
     "name": "stderr",
     "output_type": "stream",
     "text": [
      "/tmp/ipykernel_144448/2434169657.py:6: RuntimeWarning: divide by zero encountered in log10\n",
      "  if np.log10(np.abs(v)) < -10:\n"
     ]
    },
    {
     "name": "stdout",
     "output_type": "stream",
     "text": [
      "Calculating DIII+: real line dim = 0 n_band=16 n_sample=1000\n",
      "\n",
      "Calculating C: point dim = 0 n_band=16 n_sample=1000\n",
      "\n",
      "Calculating AII: point dim = 0 n_band=16 n_sample=1000\n",
      "\n"
     ]
    },
    {
     "name": "stderr",
     "output_type": "stream",
     "text": [
      "/tmp/ipykernel_144448/2434169657.py:6: RuntimeWarning: divide by zero encountered in log10\n",
      "  if np.log10(np.abs(v)) < -10:\n"
     ]
    },
    {
     "name": "stdout",
     "output_type": "stream",
     "text": [
      "Calculating D: point dim = 0 n_band=16 n_sample=1000\n",
      "\n",
      "Calculating CII+: real line dim = 0 n_band=16 n_sample=1000\n",
      "\n",
      "Calculating C: real line dim = 0 n_band=16 n_sample=1000\n",
      "\n",
      "Calculating A: point dim = 0 n_band=16 n_sample=1000\n",
      "\n"
     ]
    },
    {
     "name": "stderr",
     "output_type": "stream",
     "text": [
      "/tmp/ipykernel_144448/2434169657.py:6: RuntimeWarning: divide by zero encountered in log10\n",
      "  if np.log10(np.abs(v)) < -10:\n"
     ]
    },
    {
     "name": "stdout",
     "output_type": "stream",
     "text": [
      "Calculating DIII+: point dim = 0 n_band=16 n_sample=1000\n",
      "\n",
      "Calculating D: real line dim = 0 n_band=16 n_sample=1000\n",
      "\n",
      "Calculating CII: imaginary line dim = 0 n_band=16 n_sample=1000\n",
      "\n"
     ]
    },
    {
     "name": "stderr",
     "output_type": "stream",
     "text": [
      "/tmp/ipykernel_144448/2434169657.py:6: RuntimeWarning: divide by zero encountered in log10\n",
      "  if np.log10(np.abs(v)) < -10:\n"
     ]
    },
    {
     "name": "stdout",
     "output_type": "stream",
     "text": [
      "Calculating AI: point dim = 0 n_band=16 n_sample=1000\n",
      "\n"
     ]
    },
    {
     "name": "stderr",
     "output_type": "stream",
     "text": [
      "/tmp/ipykernel_144448/2434169657.py:6: RuntimeWarning: divide by zero encountered in log10\n",
      "  if np.log10(np.abs(v)) < -10:\n",
      "/tmp/ipykernel_144448/2434169657.py:6: RuntimeWarning: divide by zero encountered in log10\n",
      "  if np.log10(np.abs(v)) < -10:\n"
     ]
    },
    {
     "name": "stdout",
     "output_type": "stream",
     "text": [
      "Calculating BDI: imaginary line dim = 0 n_band=16 n_sample=1000\n",
      "\n",
      "Calculating AII: real line dim = 0 n_band=16 n_sample=1000\n",
      "\n",
      "Calculating AII+: imaginary line dim = 0 n_band=16 n_sample=1000\n",
      "\n",
      "Calculating DIII: imaginary line dim = 0 n_band=16 n_sample=1000\n",
      "\n",
      "Calculating CI: imaginary line dim = 0 n_band=16 n_sample=1000\n",
      "\n",
      "Calculating A: real line dim = 0 n_band=16 n_sample=1000\n",
      "\n",
      "Calculating AI+: real line dim = 0 n_band=16 n_sample=1000\n",
      "\n",
      "Calculating AI: real line dim = 0 n_band=16 n_sample=1000\n",
      "\n",
      "Calculating AII+: point dim = 0 n_band=24 n_sample=1000\n",
      "\n",
      "Calculating AII: imaginary line dim = 0 n_band=24 n_sample=1000\n",
      "\n",
      "Calculating DIII: real line dim = 0 n_band=24 n_sample=1000\n",
      "\n",
      "Calculating C: imaginary line dim = 0 n_band=24 n_sample=1000\n",
      "\n",
      "Calculating CII: point dim = 0 n_band=24 n_sample=1000\n",
      "\n",
      "Calculating CI: real line dim = 0 n_band=24 n_sample=1000\n",
      "\n",
      "Calculating AIII: real line dim = 0 n_band=24 n_sample=1000\n",
      "\n",
      "Calculating CII: real line dim = 0 n_band=24 n_sample=1000\n",
      "\n",
      "Calculating CII+: real line dim = 0 n_band=24 n_sample=1000\n",
      "\n",
      "Calculating CII+: imaginary line dim = 0 n_band=16 n_sample=1000\n",
      "\n",
      "Calculating CII+: point dim = 0 n_band=8 n_sample=1000\n",
      "\n",
      "Calculating CII+: point dim = 0 n_band=24 n_sample=1000\n",
      "\n"
     ]
    },
    {
     "name": "stderr",
     "output_type": "stream",
     "text": [
      "/tmp/ipykernel_144448/2434169657.py:6: RuntimeWarning: divide by zero encountered in log10\n",
      "  if np.log10(np.abs(v)) < -10:\n"
     ]
    },
    {
     "name": "stdout",
     "output_type": "stream",
     "text": [
      "Calculating CI+: real line dim = 0 n_band=16 n_sample=1000\n",
      "\n",
      "Calculating CI+: imaginary line dim = 0 n_band=8 n_sample=1000\n",
      "\n",
      "Calculating CI+: imaginary line dim = 0 n_band=24 n_sample=1000\n",
      "\n",
      "Calculating CI+: point dim = 0 n_band=16 n_sample=1000\n",
      "\n",
      "Calculating A:S: real line dim = 0 n_band=8 n_sample=1000\n",
      "\n"
     ]
    },
    {
     "name": "stderr",
     "output_type": "stream",
     "text": [
      "/tmp/ipykernel_144448/2434169657.py:6: RuntimeWarning: divide by zero encountered in log10\n",
      "  if np.log10(np.abs(v)) < -10:\n"
     ]
    },
    {
     "name": "stdout",
     "output_type": "stream",
     "text": [
      "Calculating D: imaginary line dim = 0 n_band=24 n_sample=1000\n",
      "\n",
      "Calculating AI: imaginary line dim = 0 n_band=24 n_sample=1000\n",
      "\n",
      "Calculating BDI+: real line dim = 0 n_band=24 n_sample=1000\n",
      "\n",
      "Calculating BDI: point dim = 0 n_band=24 n_sample=1000\n",
      "\n",
      "Calculating A:S: real line dim = 0 n_band=16 n_sample=1000\n",
      "\n",
      "Calculating BDI: real line dim = 0 n_band=24 n_sample=1000\n",
      "\n"
     ]
    },
    {
     "name": "stderr",
     "output_type": "stream",
     "text": [
      "/tmp/ipykernel_144448/2434169657.py:6: RuntimeWarning: divide by zero encountered in log10\n",
      "  if np.log10(np.abs(v)) < -10:\n"
     ]
    },
    {
     "name": "stdout",
     "output_type": "stream",
     "text": [
      "Calculating CII+: point dim = 0 n_band=16 n_sample=1000\n",
      "\n",
      "Calculating A:S: real line dim = 0 n_band=24 n_sample=1000\n",
      "\n",
      "Calculating A:S: imaginary line dim = 0 n_band=16 n_sample=1000\n",
      "\n",
      "Calculating CI+: imaginary line dim = 0 n_band=16 n_sample=1000\n",
      "\n",
      "Calculating A:S: point dim = 0 n_band=8 n_sample=1000\n",
      "\n",
      "Calculating A:S: point dim = 0 n_band=16 n_sample=1000\n",
      "\n",
      "Calculating BDI+: imaginary line dim = 0 n_band=16 n_sample=1000\n",
      "\n",
      "Calculating CI+: real line dim = 0 n_band=24 n_sample=1000\n",
      "\n"
     ]
    },
    {
     "name": "stderr",
     "output_type": "stream",
     "text": [
      "/tmp/ipykernel_144448/2434169657.py:6: RuntimeWarning: divide by zero encountered in log10\n",
      "  if np.log10(np.abs(v)) < -10:\n"
     ]
    },
    {
     "name": "stdout",
     "output_type": "stream",
     "text": [
      "Calculating AIII: imaginary line dim = 0 n_band=16 n_sample=1000\n",
      "\n",
      "Calculating CI+: point dim = 0 n_band=24 n_sample=1000\n",
      "\n",
      "Calculating A:S: point dim = 0 n_band=24 n_sample=1000\n",
      "\n",
      "Calculating A:S: imaginary line dim = 0 n_band=24 n_sample=1000\n",
      "\n"
     ]
    },
    {
     "name": "stderr",
     "output_type": "stream",
     "text": [
      "/tmp/ipykernel_144448/2434169657.py:6: RuntimeWarning: divide by zero encountered in log10\n",
      "  if np.log10(np.abs(v)) < -10:\n"
     ]
    },
    {
     "name": "stdout",
     "output_type": "stream",
     "text": [
      "Calculating AIII:S+: real line dim = 0 n_band=16 n_sample=1000\n",
      "\n",
      "Calculating AIII:S+: imaginary line dim = 0 n_band=8 n_sample=1000\n",
      "\n",
      "Calculating BDI+: real line dim = 0 n_band=8 n_sample=1000\n",
      "\n",
      "Calculating CI: real line dim = 0 n_band=8 n_sample=1000\n",
      "\n",
      "Calculating CII: real line dim = 0 n_band=8 n_sample=1000\n",
      "\n",
      "Calculating DIII+: imaginary line dim = 0 n_band=8 n_sample=1000\n",
      "\n",
      "Calculating AIII: real line dim = 0 n_band=8 n_sample=1000\n",
      "\n",
      "Calculating DIII: real line dim = 0 n_band=8 n_sample=1000\n",
      "\n",
      "Calculating CII: point dim = 0 n_band=8 n_sample=1000\n",
      "\n"
     ]
    },
    {
     "name": "stderr",
     "output_type": "stream",
     "text": [
      "/tmp/ipykernel_144448/2434169657.py:6: RuntimeWarning: divide by zero encountered in log10\n",
      "  if np.log10(np.abs(v)) < -10:\n"
     ]
    },
    {
     "name": "stdout",
     "output_type": "stream",
     "text": [
      "Calculating AIII:S+: imaginary line dim = 0 n_band=16 n_sample=1000\n",
      "\n",
      "Calculating AIII:S+: imaginary line dim = 0 n_band=24 n_sample=1000\n",
      "\n",
      "Calculating AIII:S+: point dim = 0 n_band=16 n_sample=1000\n",
      "\n",
      "Calculating AIII:S-: real line dim = 0 n_band=8 n_sample=1000\n",
      "\n",
      "Calculating AIII:S-: real line dim = 0 n_band=24 n_sample=1000\n",
      "\n",
      "Calculating AIII:S-: imaginary line dim = 0 n_band=16 n_sample=1000\n",
      "\n",
      "Calculating AIII:S-: point dim = 0 n_band=8 n_sample=1000\n",
      "\n"
     ]
    },
    {
     "name": "stderr",
     "output_type": "stream",
     "text": [
      "/tmp/ipykernel_144448/2434169657.py:6: RuntimeWarning: divide by zero encountered in log10\n",
      "  if np.log10(np.abs(v)) < -10:\n",
      "/tmp/ipykernel_144448/2434169657.py:6: RuntimeWarning: divide by zero encountered in log10\n",
      "  if np.log10(np.abs(v)) < -10:\n"
     ]
    },
    {
     "name": "stdout",
     "output_type": "stream",
     "text": [
      "Calculating C: imaginary line dim = 0 n_band=8 n_sample=1000\n",
      "\n",
      "Calculating AIII:S-: point dim = 0 n_band=24 n_sample=1000\n",
      "\n",
      "Calculating BDI:S++: real line dim = 0 n_band=16 n_sample=1000\n",
      "\n",
      "Calculating AIII:S-: real line dim = 0 n_band=16 n_sample=1000\n",
      "\n",
      "Calculating AIII:S+: real line dim = 0 n_band=24 n_sample=1000\n",
      "\n",
      "Calculating BDI:S++: imaginary line dim = 0 n_band=8 n_sample=1000\n",
      "\n",
      "Calculating BDI:S++: imaginary line dim = 0 n_band=24 n_sample=1000\n",
      "\n",
      "Calculating BDI:S++: point dim = 0 n_band=16 n_sample=1000\n",
      "\n",
      "Calculating DIII:S--: real line dim = 0 n_band=8 n_sample=1000\n",
      "\n",
      "Calculating DIII:S--: real line dim = 0 n_band=24 n_sample=1000\n",
      "\n",
      "Calculating DIII:S--: imaginary line dim = 0 n_band=16 n_sample=1000\n",
      "\n",
      "Calculating CII+: imaginary line dim = 0 n_band=8 n_sample=1000\n",
      "\n",
      "Calculating DIII:S--: point dim = 0 n_band=8 n_sample=1000\n",
      "\n",
      "Calculating AIII:S+: point dim = 0 n_band=24 n_sample=1000\n",
      "\n",
      "Calculating DIII:S--: point dim = 0 n_band=24 n_sample=1000\n",
      "\n",
      "Calculating DIII:S--: real line dim = 0 n_band=16 n_sample=1000\n",
      "\n"
     ]
    },
    {
     "name": "stderr",
     "output_type": "stream",
     "text": [
      "/tmp/ipykernel_144448/2434169657.py:6: RuntimeWarning: divide by zero encountered in log10\n",
      "  if np.log10(np.abs(v)) < -10:\n"
     ]
    },
    {
     "name": "stdout",
     "output_type": "stream",
     "text": [
      "Calculating DIII:S--: point dim = 0 n_band=16 n_sample=1000\n",
      "\n",
      "Calculating BDI:S++: imaginary line dim = 0 n_band=16 n_sample=1000\n",
      "\n"
     ]
    },
    {
     "name": "stderr",
     "output_type": "stream",
     "text": [
      "/tmp/ipykernel_144448/2434169657.py:6: RuntimeWarning: divide by zero encountered in log10\n",
      "  if np.log10(np.abs(v)) < -10:\n"
     ]
    },
    {
     "name": "stdout",
     "output_type": "stream",
     "text": [
      "Calculating DIII: point dim = 0 n_band=24 n_sample=1000\n",
      "\n",
      "Calculating D: imaginary line dim = 0 n_band=8 n_sample=1000\n",
      "\n",
      "Calculating AII+: real line dim = 0 n_band=8 n_sample=1000\n",
      "\n",
      "Calculating DIII+: imaginary line dim = 0 n_band=24 n_sample=1000\n",
      "\n",
      "Calculating CII:S++: real line dim = 0 n_band=16 n_sample=1000\n",
      "\n",
      "Calculating A:S: imaginary line dim = 0 n_band=8 n_sample=1000\n",
      "\n",
      "Calculating BDI: real line dim = 0 n_band=8 n_sample=1000\n",
      "\n"
     ]
    },
    {
     "name": "stderr",
     "output_type": "stream",
     "text": [
      "/tmp/ipykernel_144448/2434169657.py:6: RuntimeWarning: divide by zero encountered in log10\n",
      "  if np.log10(np.abs(v)) < -10:\n"
     ]
    },
    {
     "name": "stdout",
     "output_type": "stream",
     "text": [
      "Calculating CII:S++: imaginary line dim = 0 n_band=8 n_sample=1000\n",
      "\n"
     ]
    },
    {
     "ename": "KeyboardInterrupt",
     "evalue": "",
     "output_type": "error",
     "traceback": [
      "\u001b[0;31m---------------------------------------------------------------------------\u001b[0m",
      "\u001b[0;31mKeyboardInterrupt\u001b[0m                         Traceback (most recent call last)",
      "Cell \u001b[0;32mIn[5], line 59\u001b[0m\n\u001b[1;32m     57\u001b[0m _worker \u001b[38;5;241m=\u001b[39m partial(worker, n_dim\u001b[38;5;241m=\u001b[39mn_dim, n_sample\u001b[38;5;241m=\u001b[39mn_sample)\n\u001b[1;32m     58\u001b[0m \u001b[38;5;28;01mwith\u001b[39;00m Pool(n_core) \u001b[38;5;28;01mas\u001b[39;00m pool:\n\u001b[0;32m---> 59\u001b[0m     \u001b[43mpool\u001b[49m\u001b[38;5;241;43m.\u001b[39;49m\u001b[43mmap\u001b[49m\u001b[43m(\u001b[49m\u001b[43m_worker\u001b[49m\u001b[43m,\u001b[49m\u001b[43m \u001b[49m\u001b[43mparameters\u001b[49m\u001b[43m)\u001b[49m\n",
      "File \u001b[0;32m~/anaconda3/lib/python3.9/multiprocessing/pool.py:364\u001b[0m, in \u001b[0;36mPool.map\u001b[0;34m(self, func, iterable, chunksize)\u001b[0m\n\u001b[1;32m    359\u001b[0m \u001b[38;5;28;01mdef\u001b[39;00m \u001b[38;5;21mmap\u001b[39m(\u001b[38;5;28mself\u001b[39m, func, iterable, chunksize\u001b[38;5;241m=\u001b[39m\u001b[38;5;28;01mNone\u001b[39;00m):\n\u001b[1;32m    360\u001b[0m \u001b[38;5;250m    \u001b[39m\u001b[38;5;124;03m'''\u001b[39;00m\n\u001b[1;32m    361\u001b[0m \u001b[38;5;124;03m    Apply `func` to each element in `iterable`, collecting the results\u001b[39;00m\n\u001b[1;32m    362\u001b[0m \u001b[38;5;124;03m    in a list that is returned.\u001b[39;00m\n\u001b[1;32m    363\u001b[0m \u001b[38;5;124;03m    '''\u001b[39;00m\n\u001b[0;32m--> 364\u001b[0m     \u001b[38;5;28;01mreturn\u001b[39;00m \u001b[38;5;28;43mself\u001b[39;49m\u001b[38;5;241;43m.\u001b[39;49m\u001b[43m_map_async\u001b[49m\u001b[43m(\u001b[49m\u001b[43mfunc\u001b[49m\u001b[43m,\u001b[49m\u001b[43m \u001b[49m\u001b[43miterable\u001b[49m\u001b[43m,\u001b[49m\u001b[43m \u001b[49m\u001b[43mmapstar\u001b[49m\u001b[43m,\u001b[49m\u001b[43m \u001b[49m\u001b[43mchunksize\u001b[49m\u001b[43m)\u001b[49m\u001b[38;5;241;43m.\u001b[39;49m\u001b[43mget\u001b[49m\u001b[43m(\u001b[49m\u001b[43m)\u001b[49m\n",
      "File \u001b[0;32m~/anaconda3/lib/python3.9/multiprocessing/pool.py:765\u001b[0m, in \u001b[0;36mApplyResult.get\u001b[0;34m(self, timeout)\u001b[0m\n\u001b[1;32m    764\u001b[0m \u001b[38;5;28;01mdef\u001b[39;00m \u001b[38;5;21mget\u001b[39m(\u001b[38;5;28mself\u001b[39m, timeout\u001b[38;5;241m=\u001b[39m\u001b[38;5;28;01mNone\u001b[39;00m):\n\u001b[0;32m--> 765\u001b[0m     \u001b[38;5;28;43mself\u001b[39;49m\u001b[38;5;241;43m.\u001b[39;49m\u001b[43mwait\u001b[49m\u001b[43m(\u001b[49m\u001b[43mtimeout\u001b[49m\u001b[43m)\u001b[49m\n\u001b[1;32m    766\u001b[0m     \u001b[38;5;28;01mif\u001b[39;00m \u001b[38;5;129;01mnot\u001b[39;00m \u001b[38;5;28mself\u001b[39m\u001b[38;5;241m.\u001b[39mready():\n\u001b[1;32m    767\u001b[0m         \u001b[38;5;28;01mraise\u001b[39;00m \u001b[38;5;167;01mTimeoutError\u001b[39;00m\n",
      "File \u001b[0;32m~/anaconda3/lib/python3.9/multiprocessing/pool.py:762\u001b[0m, in \u001b[0;36mApplyResult.wait\u001b[0;34m(self, timeout)\u001b[0m\n\u001b[1;32m    761\u001b[0m \u001b[38;5;28;01mdef\u001b[39;00m \u001b[38;5;21mwait\u001b[39m(\u001b[38;5;28mself\u001b[39m, timeout\u001b[38;5;241m=\u001b[39m\u001b[38;5;28;01mNone\u001b[39;00m):\n\u001b[0;32m--> 762\u001b[0m     \u001b[38;5;28;43mself\u001b[39;49m\u001b[38;5;241;43m.\u001b[39;49m\u001b[43m_event\u001b[49m\u001b[38;5;241;43m.\u001b[39;49m\u001b[43mwait\u001b[49m\u001b[43m(\u001b[49m\u001b[43mtimeout\u001b[49m\u001b[43m)\u001b[49m\n",
      "File \u001b[0;32m~/anaconda3/lib/python3.9/threading.py:581\u001b[0m, in \u001b[0;36mEvent.wait\u001b[0;34m(self, timeout)\u001b[0m\n\u001b[1;32m    579\u001b[0m signaled \u001b[38;5;241m=\u001b[39m \u001b[38;5;28mself\u001b[39m\u001b[38;5;241m.\u001b[39m_flag\n\u001b[1;32m    580\u001b[0m \u001b[38;5;28;01mif\u001b[39;00m \u001b[38;5;129;01mnot\u001b[39;00m signaled:\n\u001b[0;32m--> 581\u001b[0m     signaled \u001b[38;5;241m=\u001b[39m \u001b[38;5;28;43mself\u001b[39;49m\u001b[38;5;241;43m.\u001b[39;49m\u001b[43m_cond\u001b[49m\u001b[38;5;241;43m.\u001b[39;49m\u001b[43mwait\u001b[49m\u001b[43m(\u001b[49m\u001b[43mtimeout\u001b[49m\u001b[43m)\u001b[49m\n\u001b[1;32m    582\u001b[0m \u001b[38;5;28;01mreturn\u001b[39;00m signaled\n",
      "File \u001b[0;32m~/anaconda3/lib/python3.9/threading.py:312\u001b[0m, in \u001b[0;36mCondition.wait\u001b[0;34m(self, timeout)\u001b[0m\n\u001b[1;32m    310\u001b[0m \u001b[38;5;28;01mtry\u001b[39;00m:    \u001b[38;5;66;03m# restore state no matter what (e.g., KeyboardInterrupt)\u001b[39;00m\n\u001b[1;32m    311\u001b[0m     \u001b[38;5;28;01mif\u001b[39;00m timeout \u001b[38;5;129;01mis\u001b[39;00m \u001b[38;5;28;01mNone\u001b[39;00m:\n\u001b[0;32m--> 312\u001b[0m         \u001b[43mwaiter\u001b[49m\u001b[38;5;241;43m.\u001b[39;49m\u001b[43macquire\u001b[49m\u001b[43m(\u001b[49m\u001b[43m)\u001b[49m\n\u001b[1;32m    313\u001b[0m         gotit \u001b[38;5;241m=\u001b[39m \u001b[38;5;28;01mTrue\u001b[39;00m\n\u001b[1;32m    314\u001b[0m     \u001b[38;5;28;01melse\u001b[39;00m:\n",
      "\u001b[0;31mKeyboardInterrupt\u001b[0m: "
     ]
    }
   ],
   "source": [
    "def worker(parameter, n_dim, n_sample):\n",
    "    \n",
    "    non_Hermitian_symmetry_class, gap_type, n_band = parameter\n",
    "    n_sample_new = n_sample\n",
    "    \n",
    "    \n",
    "#     index_gap_type = {'real line':0, 'imaginary line':1, 'point':2}\n",
    "#     class_type =  non_Hermitian_topological_classification_list_0D[non_Hermitian_symmetry_class][index_gap_type[gap_type]]\n",
    "    \n",
    "#     if class_type == 'Z+Z':\n",
    "#         n_sample_new =  np.max([n_sample, int(10*(n_band/2+1)**2)])\n",
    "#     elif class_type == \"2Z+2Z\":\n",
    "#         n_sample_new = np.max([n_sample, int(10*(n_band/4+1)**2)])\n",
    "        \n",
    "    \n",
    "    filename = \"./data_number_of_band_test/data_{symmetry_class}_{gap_type}_dim_{n_dim}_band_{n_band}.h5\".format(\n",
    "        symmetry_class=non_Hermitian_symmetry_class, gap_type=gap_type, n_dim=n_dim, n_band=n_band)\n",
    "    \n",
    "    flag = False\n",
    "    try: \n",
    "        _x, _y = load_data(filename)\n",
    "    except:\n",
    "        print(\"Calculating {sym_class}: {gap_type} dim = {n_dim} n_band={n_band} n_sample={n_sample}\\n\".format(\n",
    "            sym_class=non_Hermitian_symmetry_class, gap_type=gap_type, n_dim=n_dim, n_band=n_band, n_sample=n_sample))\n",
    "    \n",
    "        flag = True\n",
    "\n",
    "    if flag:\n",
    "        generator  = DeformHamiltonianGenerator(\n",
    "                n=n_band, n_dim=n_dim, \n",
    "                non_Hermitian_symmetry_class=non_Hermitian_symmetry_class, gap_type=gap_type,\n",
    "                verbose=False)\n",
    "        hamiltonians = generator.generate(n_sample=n_sample_new)\n",
    "        models = [DeformTopologicalModel(hamiltonian=hamiltonian, gap_type=gap_type) for hamiltonian in hamiltonians]\n",
    "        # similarity_func = topology_comparator\n",
    "        # cluster = Cluster(similarity_function=similarity_func)\n",
    "        # center_indices, group_number = cluster.fit(models)\n",
    "\n",
    "        similarity_func = fast_similarity_func\n",
    "        cluster = Cluster(similarity_function=similarity_func)\n",
    "        center_indices, group_number = cluster.fit(models)\n",
    "        \n",
    "        filename = \"./data_number_of_band_test/data_{symmetry_class}_{gap_type}_dim_{n_dim}_band_{n_band}.h5\".format(\n",
    "            symmetry_class=non_Hermitian_symmetry_class, gap_type=gap_type, n_dim=n_dim, n_band=n_band)\n",
    "        save_data(center_indices, group_number, filename)\n",
    "    \n",
    "    #return len(group_number)\n",
    "\n",
    "n_dim = 0\n",
    "n_sample = 1000\n",
    "\n",
    "n_bands = 8*np.array([1,2,3])\n",
    "parameters = list(itertools.product(non_hermitian_symmetry_list, gap_types, n_bands))\n",
    "print(\"Total case: \", len(parameters))\n",
    "\n",
    "n_core = 64      \n",
    "_worker = partial(worker, n_dim=n_dim, n_sample=n_sample)\n",
    "with Pool(n_core) as pool:\n",
    "    pool.map(_worker, parameters)"
   ]
  },
  {
   "cell_type": "markdown",
   "metadata": {},
   "source": [
    "#  Parallel for single case"
   ]
  },
  {
   "cell_type": "code",
   "execution_count": 3,
   "metadata": {},
   "outputs": [
    {
     "name": "stdout",
     "output_type": "stream",
     "text": [
      "Total case:  342\n",
      "Calculating A: real line dim = 0 n_band=8 n_sample=3000\n",
      "\n"
     ]
    },
    {
     "name": "stderr",
     "output_type": "stream",
     "text": [
      "/tmp/ipykernel_144448/2434169657.py:6: RuntimeWarning: divide by zero encountered in log10\n",
      "  if np.log10(np.abs(v)) < -10:\n",
      "/tmp/ipykernel_144448/2434169657.py:6: RuntimeWarning: divide by zero encountered in log10\n",
      "  if np.log10(np.abs(v)) < -10:\n",
      "/tmp/ipykernel_144448/2434169657.py:6: RuntimeWarning: divide by zero encountered in log10\n",
      "  if np.log10(np.abs(v)) < -10:\n"
     ]
    },
    {
     "ename": "KeyboardInterrupt",
     "evalue": "",
     "output_type": "error",
     "traceback": [
      "\u001b[0;31m---------------------------------------------------------------------------\u001b[0m",
      "\u001b[0;31mKeyboardInterrupt\u001b[0m                         Traceback (most recent call last)",
      "Cell \u001b[0;32mIn[3], line 48\u001b[0m\n\u001b[1;32m     46\u001b[0m n_core \u001b[38;5;241m=\u001b[39m \u001b[38;5;241m64\u001b[39m\n\u001b[1;32m     47\u001b[0m _worker \u001b[38;5;241m=\u001b[39m partial(worker, n_dim\u001b[38;5;241m=\u001b[39mn_dim, n_sample\u001b[38;5;241m=\u001b[39mn_sample, n_core\u001b[38;5;241m=\u001b[39mn_core)\n\u001b[0;32m---> 48\u001b[0m \u001b[38;5;28;43mlist\u001b[39;49m\u001b[43m(\u001b[49m\u001b[38;5;28;43mmap\u001b[39;49m\u001b[43m(\u001b[49m\u001b[43m_worker\u001b[49m\u001b[43m,\u001b[49m\u001b[43m \u001b[49m\u001b[43mparameters\u001b[49m\u001b[43m)\u001b[49m\u001b[43m)\u001b[49m\n",
      "Cell \u001b[0;32mIn[3], line 31\u001b[0m, in \u001b[0;36mworker\u001b[0;34m(parameter, n_dim, n_sample, n_core)\u001b[0m\n\u001b[1;32m     29\u001b[0m similarity_func \u001b[38;5;241m=\u001b[39m fast_similarity_func\n\u001b[1;32m     30\u001b[0m cluster \u001b[38;5;241m=\u001b[39m Cluster(similarity_function\u001b[38;5;241m=\u001b[39msimilarity_func, n_core\u001b[38;5;241m=\u001b[39mn_core)\n\u001b[0;32m---> 31\u001b[0m center_indices, group_number \u001b[38;5;241m=\u001b[39m \u001b[43mcluster\u001b[49m\u001b[38;5;241;43m.\u001b[39;49m\u001b[43mfit\u001b[49m\u001b[43m(\u001b[49m\u001b[43mmodels\u001b[49m\u001b[43m)\u001b[49m\n\u001b[1;32m     33\u001b[0m filename \u001b[38;5;241m=\u001b[39m \u001b[38;5;124m\"\u001b[39m\u001b[38;5;124m./data_number_of_band_test/data_\u001b[39m\u001b[38;5;132;01m{symmetry_class}\u001b[39;00m\u001b[38;5;124m_\u001b[39m\u001b[38;5;132;01m{gap_type}\u001b[39;00m\u001b[38;5;124m_dim_\u001b[39m\u001b[38;5;132;01m{n_dim}\u001b[39;00m\u001b[38;5;124m_band_\u001b[39m\u001b[38;5;132;01m{n_band}\u001b[39;00m\u001b[38;5;124m.h5\u001b[39m\u001b[38;5;124m\"\u001b[39m\u001b[38;5;241m.\u001b[39mformat(\n\u001b[1;32m     34\u001b[0m     symmetry_class\u001b[38;5;241m=\u001b[39mnon_Hermitian_symmetry_class, gap_type\u001b[38;5;241m=\u001b[39mgap_type, n_dim\u001b[38;5;241m=\u001b[39mn_dim, n_band\u001b[38;5;241m=\u001b[39mn_band)\n\u001b[1;32m     35\u001b[0m save_data(center_indices, group_number, filename)\n",
      "File \u001b[0;32m~/OSC/ml_topological_classification_non_-hermitian/cases_table/../machine_learning/cluster.py:26\u001b[0m, in \u001b[0;36mCluster.fit\u001b[0;34m(self, Xs)\u001b[0m\n\u001b[1;32m     23\u001b[0m     \u001b[38;5;28mprint\u001b[39m(\u001b[38;5;124m\"\u001b[39m\u001b[38;5;124mStart to cluster data by my own method with the size as [\u001b[39m\u001b[38;5;132;01m{0}\u001b[39;00m\u001b[38;5;124m] with sc = \u001b[39m\u001b[38;5;132;01m{1}\u001b[39;00m\u001b[38;5;124m.\u001b[39m\u001b[38;5;124m\"\u001b[39m\u001b[38;5;241m.\u001b[39mformat(n_sample, \u001b[38;5;28mself\u001b[39m\u001b[38;5;241m.\u001b[39msc))\n\u001b[1;32m     25\u001b[0m \u001b[38;5;28;01mif\u001b[39;00m \u001b[38;5;28mself\u001b[39m\u001b[38;5;241m.\u001b[39mn_core \u001b[38;5;241m>\u001b[39m \u001b[38;5;241m1\u001b[39m:\n\u001b[0;32m---> 26\u001b[0m     \u001b[38;5;28;01mreturn\u001b[39;00m \u001b[38;5;28;43mself\u001b[39;49m\u001b[38;5;241;43m.\u001b[39;49m\u001b[43m__fit_parallel\u001b[49m\u001b[43m(\u001b[49m\u001b[43mXs\u001b[49m\u001b[43m)\u001b[49m\n\u001b[1;32m     28\u001b[0m \u001b[38;5;66;03m# if self.verbose:\u001b[39;00m\n\u001b[1;32m     29\u001b[0m \u001b[38;5;66;03m#     starttime = time.time()\u001b[39;00m\n\u001b[1;32m     30\u001b[0m \u001b[38;5;66;03m#     print(\"Calculating similarities with the data size as [{0}] .... \".format(n_sample),end=\"\")\u001b[39;00m\n\u001b[0;32m   (...)\u001b[0m\n\u001b[1;32m     42\u001b[0m \u001b[38;5;66;03m#     endtime = time.time()\u001b[39;00m\n\u001b[1;32m     43\u001b[0m \u001b[38;5;66;03m#     print(\"Done. Dc = [{0}]. Spend time as [{1} seconds]\".format(self.dc, np.around(endtime-starttime,3)))\u001b[39;00m\n\u001b[1;32m     46\u001b[0m \u001b[38;5;28;01mif\u001b[39;00m \u001b[38;5;28mself\u001b[39m\u001b[38;5;241m.\u001b[39mverbose:\n",
      "File \u001b[0;32m~/OSC/ml_topological_classification_non_-hermitian/cases_table/../machine_learning/cluster.py:122\u001b[0m, in \u001b[0;36mCluster.__fit_parallel\u001b[0;34m(self, Xs)\u001b[0m\n\u001b[1;32m    119\u001b[0m \u001b[38;5;28;01mif\u001b[39;00m \u001b[38;5;28mlen\u001b[39m(centers) \u001b[38;5;241m<\u001b[39m n_core:\n\u001b[1;32m    120\u001b[0m     n_core \u001b[38;5;241m=\u001b[39m \u001b[38;5;28mlen\u001b[39m(centers)\n\u001b[0;32m--> 122\u001b[0m \u001b[38;5;28;01mwith\u001b[39;00m \u001b[43mPool\u001b[49m\u001b[43m(\u001b[49m\u001b[43mn_core\u001b[49m\u001b[43m)\u001b[49m \u001b[38;5;28;01mas\u001b[39;00m pool:\n\u001b[1;32m    123\u001b[0m     similarities \u001b[38;5;241m=\u001b[39m pool\u001b[38;5;241m.\u001b[39mmap(f, centers)\n\u001b[1;32m    125\u001b[0m flags \u001b[38;5;241m=\u001b[39m np\u001b[38;5;241m.\u001b[39marray(similarities) \u001b[38;5;241m>\u001b[39m \u001b[38;5;28mself\u001b[39m\u001b[38;5;241m.\u001b[39msc\n",
      "File \u001b[0;32m~/anaconda3/lib/python3.9/multiprocessing/context.py:119\u001b[0m, in \u001b[0;36mBaseContext.Pool\u001b[0;34m(self, processes, initializer, initargs, maxtasksperchild)\u001b[0m\n\u001b[1;32m    117\u001b[0m \u001b[38;5;250m\u001b[39m\u001b[38;5;124;03m'''Returns a process pool object'''\u001b[39;00m\n\u001b[1;32m    118\u001b[0m \u001b[38;5;28;01mfrom\u001b[39;00m \u001b[38;5;21;01m.\u001b[39;00m\u001b[38;5;21;01mpool\u001b[39;00m \u001b[38;5;28;01mimport\u001b[39;00m Pool\n\u001b[0;32m--> 119\u001b[0m \u001b[38;5;28;01mreturn\u001b[39;00m \u001b[43mPool\u001b[49m\u001b[43m(\u001b[49m\u001b[43mprocesses\u001b[49m\u001b[43m,\u001b[49m\u001b[43m \u001b[49m\u001b[43minitializer\u001b[49m\u001b[43m,\u001b[49m\u001b[43m \u001b[49m\u001b[43minitargs\u001b[49m\u001b[43m,\u001b[49m\u001b[43m \u001b[49m\u001b[43mmaxtasksperchild\u001b[49m\u001b[43m,\u001b[49m\n\u001b[1;32m    120\u001b[0m \u001b[43m            \u001b[49m\u001b[43mcontext\u001b[49m\u001b[38;5;241;43m=\u001b[39;49m\u001b[38;5;28;43mself\u001b[39;49m\u001b[38;5;241;43m.\u001b[39;49m\u001b[43mget_context\u001b[49m\u001b[43m(\u001b[49m\u001b[43m)\u001b[49m\u001b[43m)\u001b[49m\n",
      "File \u001b[0;32m~/anaconda3/lib/python3.9/multiprocessing/pool.py:212\u001b[0m, in \u001b[0;36mPool.__init__\u001b[0;34m(self, processes, initializer, initargs, maxtasksperchild, context)\u001b[0m\n\u001b[1;32m    210\u001b[0m \u001b[38;5;28mself\u001b[39m\u001b[38;5;241m.\u001b[39m_processes \u001b[38;5;241m=\u001b[39m processes\n\u001b[1;32m    211\u001b[0m \u001b[38;5;28;01mtry\u001b[39;00m:\n\u001b[0;32m--> 212\u001b[0m     \u001b[38;5;28;43mself\u001b[39;49m\u001b[38;5;241;43m.\u001b[39;49m\u001b[43m_repopulate_pool\u001b[49m\u001b[43m(\u001b[49m\u001b[43m)\u001b[49m\n\u001b[1;32m    213\u001b[0m \u001b[38;5;28;01mexcept\u001b[39;00m \u001b[38;5;167;01mException\u001b[39;00m:\n\u001b[1;32m    214\u001b[0m     \u001b[38;5;28;01mfor\u001b[39;00m p \u001b[38;5;129;01min\u001b[39;00m \u001b[38;5;28mself\u001b[39m\u001b[38;5;241m.\u001b[39m_pool:\n",
      "File \u001b[0;32m~/anaconda3/lib/python3.9/multiprocessing/pool.py:303\u001b[0m, in \u001b[0;36mPool._repopulate_pool\u001b[0;34m(self)\u001b[0m\n\u001b[1;32m    302\u001b[0m \u001b[38;5;28;01mdef\u001b[39;00m \u001b[38;5;21m_repopulate_pool\u001b[39m(\u001b[38;5;28mself\u001b[39m):\n\u001b[0;32m--> 303\u001b[0m     \u001b[38;5;28;01mreturn\u001b[39;00m \u001b[38;5;28;43mself\u001b[39;49m\u001b[38;5;241;43m.\u001b[39;49m\u001b[43m_repopulate_pool_static\u001b[49m\u001b[43m(\u001b[49m\u001b[38;5;28;43mself\u001b[39;49m\u001b[38;5;241;43m.\u001b[39;49m\u001b[43m_ctx\u001b[49m\u001b[43m,\u001b[49m\u001b[43m \u001b[49m\u001b[38;5;28;43mself\u001b[39;49m\u001b[38;5;241;43m.\u001b[39;49m\u001b[43mProcess\u001b[49m\u001b[43m,\u001b[49m\n\u001b[1;32m    304\u001b[0m \u001b[43m                                        \u001b[49m\u001b[38;5;28;43mself\u001b[39;49m\u001b[38;5;241;43m.\u001b[39;49m\u001b[43m_processes\u001b[49m\u001b[43m,\u001b[49m\n\u001b[1;32m    305\u001b[0m \u001b[43m                                        \u001b[49m\u001b[38;5;28;43mself\u001b[39;49m\u001b[38;5;241;43m.\u001b[39;49m\u001b[43m_pool\u001b[49m\u001b[43m,\u001b[49m\u001b[43m \u001b[49m\u001b[38;5;28;43mself\u001b[39;49m\u001b[38;5;241;43m.\u001b[39;49m\u001b[43m_inqueue\u001b[49m\u001b[43m,\u001b[49m\n\u001b[1;32m    306\u001b[0m \u001b[43m                                        \u001b[49m\u001b[38;5;28;43mself\u001b[39;49m\u001b[38;5;241;43m.\u001b[39;49m\u001b[43m_outqueue\u001b[49m\u001b[43m,\u001b[49m\u001b[43m \u001b[49m\u001b[38;5;28;43mself\u001b[39;49m\u001b[38;5;241;43m.\u001b[39;49m\u001b[43m_initializer\u001b[49m\u001b[43m,\u001b[49m\n\u001b[1;32m    307\u001b[0m \u001b[43m                                        \u001b[49m\u001b[38;5;28;43mself\u001b[39;49m\u001b[38;5;241;43m.\u001b[39;49m\u001b[43m_initargs\u001b[49m\u001b[43m,\u001b[49m\n\u001b[1;32m    308\u001b[0m \u001b[43m                                        \u001b[49m\u001b[38;5;28;43mself\u001b[39;49m\u001b[38;5;241;43m.\u001b[39;49m\u001b[43m_maxtasksperchild\u001b[49m\u001b[43m,\u001b[49m\n\u001b[1;32m    309\u001b[0m \u001b[43m                                        \u001b[49m\u001b[38;5;28;43mself\u001b[39;49m\u001b[38;5;241;43m.\u001b[39;49m\u001b[43m_wrap_exception\u001b[49m\u001b[43m)\u001b[49m\n",
      "File \u001b[0;32m~/anaconda3/lib/python3.9/multiprocessing/pool.py:326\u001b[0m, in \u001b[0;36mPool._repopulate_pool_static\u001b[0;34m(ctx, Process, processes, pool, inqueue, outqueue, initializer, initargs, maxtasksperchild, wrap_exception)\u001b[0m\n\u001b[1;32m    324\u001b[0m w\u001b[38;5;241m.\u001b[39mname \u001b[38;5;241m=\u001b[39m w\u001b[38;5;241m.\u001b[39mname\u001b[38;5;241m.\u001b[39mreplace(\u001b[38;5;124m'\u001b[39m\u001b[38;5;124mProcess\u001b[39m\u001b[38;5;124m'\u001b[39m, \u001b[38;5;124m'\u001b[39m\u001b[38;5;124mPoolWorker\u001b[39m\u001b[38;5;124m'\u001b[39m)\n\u001b[1;32m    325\u001b[0m w\u001b[38;5;241m.\u001b[39mdaemon \u001b[38;5;241m=\u001b[39m \u001b[38;5;28;01mTrue\u001b[39;00m\n\u001b[0;32m--> 326\u001b[0m \u001b[43mw\u001b[49m\u001b[38;5;241;43m.\u001b[39;49m\u001b[43mstart\u001b[49m\u001b[43m(\u001b[49m\u001b[43m)\u001b[49m\n\u001b[1;32m    327\u001b[0m pool\u001b[38;5;241m.\u001b[39mappend(w)\n\u001b[1;32m    328\u001b[0m util\u001b[38;5;241m.\u001b[39mdebug(\u001b[38;5;124m'\u001b[39m\u001b[38;5;124madded worker\u001b[39m\u001b[38;5;124m'\u001b[39m)\n",
      "File \u001b[0;32m~/anaconda3/lib/python3.9/multiprocessing/process.py:121\u001b[0m, in \u001b[0;36mBaseProcess.start\u001b[0;34m(self)\u001b[0m\n\u001b[1;32m    118\u001b[0m \u001b[38;5;28;01massert\u001b[39;00m \u001b[38;5;129;01mnot\u001b[39;00m _current_process\u001b[38;5;241m.\u001b[39m_config\u001b[38;5;241m.\u001b[39mget(\u001b[38;5;124m'\u001b[39m\u001b[38;5;124mdaemon\u001b[39m\u001b[38;5;124m'\u001b[39m), \\\n\u001b[1;32m    119\u001b[0m        \u001b[38;5;124m'\u001b[39m\u001b[38;5;124mdaemonic processes are not allowed to have children\u001b[39m\u001b[38;5;124m'\u001b[39m\n\u001b[1;32m    120\u001b[0m _cleanup()\n\u001b[0;32m--> 121\u001b[0m \u001b[38;5;28mself\u001b[39m\u001b[38;5;241m.\u001b[39m_popen \u001b[38;5;241m=\u001b[39m \u001b[38;5;28;43mself\u001b[39;49m\u001b[38;5;241;43m.\u001b[39;49m\u001b[43m_Popen\u001b[49m\u001b[43m(\u001b[49m\u001b[38;5;28;43mself\u001b[39;49m\u001b[43m)\u001b[49m\n\u001b[1;32m    122\u001b[0m \u001b[38;5;28mself\u001b[39m\u001b[38;5;241m.\u001b[39m_sentinel \u001b[38;5;241m=\u001b[39m \u001b[38;5;28mself\u001b[39m\u001b[38;5;241m.\u001b[39m_popen\u001b[38;5;241m.\u001b[39msentinel\n\u001b[1;32m    123\u001b[0m \u001b[38;5;66;03m# Avoid a refcycle if the target function holds an indirect\u001b[39;00m\n\u001b[1;32m    124\u001b[0m \u001b[38;5;66;03m# reference to the process object (see bpo-30775)\u001b[39;00m\n",
      "File \u001b[0;32m~/anaconda3/lib/python3.9/multiprocessing/context.py:277\u001b[0m, in \u001b[0;36mForkProcess._Popen\u001b[0;34m(process_obj)\u001b[0m\n\u001b[1;32m    274\u001b[0m \u001b[38;5;129m@staticmethod\u001b[39m\n\u001b[1;32m    275\u001b[0m \u001b[38;5;28;01mdef\u001b[39;00m \u001b[38;5;21m_Popen\u001b[39m(process_obj):\n\u001b[1;32m    276\u001b[0m     \u001b[38;5;28;01mfrom\u001b[39;00m \u001b[38;5;21;01m.\u001b[39;00m\u001b[38;5;21;01mpopen_fork\u001b[39;00m \u001b[38;5;28;01mimport\u001b[39;00m Popen\n\u001b[0;32m--> 277\u001b[0m     \u001b[38;5;28;01mreturn\u001b[39;00m \u001b[43mPopen\u001b[49m\u001b[43m(\u001b[49m\u001b[43mprocess_obj\u001b[49m\u001b[43m)\u001b[49m\n",
      "File \u001b[0;32m~/anaconda3/lib/python3.9/multiprocessing/popen_fork.py:16\u001b[0m, in \u001b[0;36mPopen.__init__\u001b[0;34m(self, process_obj)\u001b[0m\n\u001b[1;32m     15\u001b[0m \u001b[38;5;28;01mdef\u001b[39;00m \u001b[38;5;21m__init__\u001b[39m(\u001b[38;5;28mself\u001b[39m, process_obj):\n\u001b[0;32m---> 16\u001b[0m     \u001b[43mutil\u001b[49m\u001b[38;5;241;43m.\u001b[39;49m\u001b[43m_flush_std_streams\u001b[49m\u001b[43m(\u001b[49m\u001b[43m)\u001b[49m\n\u001b[1;32m     17\u001b[0m     \u001b[38;5;28mself\u001b[39m\u001b[38;5;241m.\u001b[39mreturncode \u001b[38;5;241m=\u001b[39m \u001b[38;5;28;01mNone\u001b[39;00m\n\u001b[1;32m     18\u001b[0m     \u001b[38;5;28mself\u001b[39m\u001b[38;5;241m.\u001b[39mfinalizer \u001b[38;5;241m=\u001b[39m \u001b[38;5;28;01mNone\u001b[39;00m\n",
      "File \u001b[0;32m~/anaconda3/lib/python3.9/multiprocessing/util.py:435\u001b[0m, in \u001b[0;36m_flush_std_streams\u001b[0;34m()\u001b[0m\n\u001b[1;32m    433\u001b[0m \u001b[38;5;28;01mdef\u001b[39;00m \u001b[38;5;21m_flush_std_streams\u001b[39m():\n\u001b[1;32m    434\u001b[0m     \u001b[38;5;28;01mtry\u001b[39;00m:\n\u001b[0;32m--> 435\u001b[0m         \u001b[43msys\u001b[49m\u001b[38;5;241;43m.\u001b[39;49m\u001b[43mstdout\u001b[49m\u001b[38;5;241;43m.\u001b[39;49m\u001b[43mflush\u001b[49m\u001b[43m(\u001b[49m\u001b[43m)\u001b[49m\n\u001b[1;32m    436\u001b[0m     \u001b[38;5;28;01mexcept\u001b[39;00m (\u001b[38;5;167;01mAttributeError\u001b[39;00m, \u001b[38;5;167;01mValueError\u001b[39;00m):\n\u001b[1;32m    437\u001b[0m         \u001b[38;5;28;01mpass\u001b[39;00m\n",
      "File \u001b[0;32m~/anaconda3/lib/python3.9/site-packages/ipykernel/iostream.py:564\u001b[0m, in \u001b[0;36mOutStream.flush\u001b[0;34m(self)\u001b[0m\n\u001b[1;32m    562\u001b[0m     \u001b[38;5;28mself\u001b[39m\u001b[38;5;241m.\u001b[39mpub_thread\u001b[38;5;241m.\u001b[39mschedule(evt\u001b[38;5;241m.\u001b[39mset)\n\u001b[1;32m    563\u001b[0m     \u001b[38;5;66;03m# and give a timeout to avoid\u001b[39;00m\n\u001b[0;32m--> 564\u001b[0m     \u001b[38;5;28;01mif\u001b[39;00m \u001b[38;5;129;01mnot\u001b[39;00m \u001b[43mevt\u001b[49m\u001b[38;5;241;43m.\u001b[39;49m\u001b[43mwait\u001b[49m\u001b[43m(\u001b[49m\u001b[38;5;28;43mself\u001b[39;49m\u001b[38;5;241;43m.\u001b[39;49m\u001b[43mflush_timeout\u001b[49m\u001b[43m)\u001b[49m:\n\u001b[1;32m    565\u001b[0m         \u001b[38;5;66;03m# write directly to __stderr__ instead of warning because\u001b[39;00m\n\u001b[1;32m    566\u001b[0m         \u001b[38;5;66;03m# if this is happening sys.stderr may be the problem.\u001b[39;00m\n\u001b[1;32m    567\u001b[0m         \u001b[38;5;28mprint\u001b[39m(\u001b[38;5;124m\"\u001b[39m\u001b[38;5;124mIOStream.flush timed out\u001b[39m\u001b[38;5;124m\"\u001b[39m, file\u001b[38;5;241m=\u001b[39msys\u001b[38;5;241m.\u001b[39m__stderr__)\n\u001b[1;32m    568\u001b[0m \u001b[38;5;28;01melse\u001b[39;00m:\n",
      "File \u001b[0;32m~/anaconda3/lib/python3.9/threading.py:581\u001b[0m, in \u001b[0;36mEvent.wait\u001b[0;34m(self, timeout)\u001b[0m\n\u001b[1;32m    579\u001b[0m signaled \u001b[38;5;241m=\u001b[39m \u001b[38;5;28mself\u001b[39m\u001b[38;5;241m.\u001b[39m_flag\n\u001b[1;32m    580\u001b[0m \u001b[38;5;28;01mif\u001b[39;00m \u001b[38;5;129;01mnot\u001b[39;00m signaled:\n\u001b[0;32m--> 581\u001b[0m     signaled \u001b[38;5;241m=\u001b[39m \u001b[38;5;28;43mself\u001b[39;49m\u001b[38;5;241;43m.\u001b[39;49m\u001b[43m_cond\u001b[49m\u001b[38;5;241;43m.\u001b[39;49m\u001b[43mwait\u001b[49m\u001b[43m(\u001b[49m\u001b[43mtimeout\u001b[49m\u001b[43m)\u001b[49m\n\u001b[1;32m    582\u001b[0m \u001b[38;5;28;01mreturn\u001b[39;00m signaled\n",
      "File \u001b[0;32m~/anaconda3/lib/python3.9/threading.py:316\u001b[0m, in \u001b[0;36mCondition.wait\u001b[0;34m(self, timeout)\u001b[0m\n\u001b[1;32m    314\u001b[0m \u001b[38;5;28;01melse\u001b[39;00m:\n\u001b[1;32m    315\u001b[0m     \u001b[38;5;28;01mif\u001b[39;00m timeout \u001b[38;5;241m>\u001b[39m \u001b[38;5;241m0\u001b[39m:\n\u001b[0;32m--> 316\u001b[0m         gotit \u001b[38;5;241m=\u001b[39m \u001b[43mwaiter\u001b[49m\u001b[38;5;241;43m.\u001b[39;49m\u001b[43macquire\u001b[49m\u001b[43m(\u001b[49m\u001b[38;5;28;43;01mTrue\u001b[39;49;00m\u001b[43m,\u001b[49m\u001b[43m \u001b[49m\u001b[43mtimeout\u001b[49m\u001b[43m)\u001b[49m\n\u001b[1;32m    317\u001b[0m     \u001b[38;5;28;01melse\u001b[39;00m:\n\u001b[1;32m    318\u001b[0m         gotit \u001b[38;5;241m=\u001b[39m waiter\u001b[38;5;241m.\u001b[39macquire(\u001b[38;5;28;01mFalse\u001b[39;00m)\n",
      "\u001b[0;31mKeyboardInterrupt\u001b[0m: "
     ]
    }
   ],
   "source": [
    "def worker(parameter, n_dim, n_sample, n_core):\n",
    "    \n",
    "    non_Hermitian_symmetry_class, gap_type, n_band = parameter\n",
    "    n_sample_new = n_sample    \n",
    "    \n",
    "    filename = \"./data_number_of_band_test/data_{symmetry_class}_{gap_type}_dim_{n_dim}_band_{n_band}.h5\".format(\n",
    "        symmetry_class=non_Hermitian_symmetry_class, gap_type=gap_type, n_dim=n_dim, n_band=n_band)\n",
    "    \n",
    "    flag = False\n",
    "    try: \n",
    "        _x, _y = load_data(filename)\n",
    "    except:\n",
    "        print(\"Calculating {sym_class}: {gap_type} dim = {n_dim} n_band={n_band} n_sample={n_sample}\\n\".format(\n",
    "            sym_class=non_Hermitian_symmetry_class, gap_type=gap_type, n_dim=n_dim, n_band=n_band, n_sample=n_sample))\n",
    "    \n",
    "        flag = True\n",
    "\n",
    "    if flag:\n",
    "        generator  = DeformHamiltonianGenerator(\n",
    "                n=n_band, n_dim=n_dim, \n",
    "                non_Hermitian_symmetry_class=non_Hermitian_symmetry_class, gap_type=gap_type,\n",
    "                verbose=False)\n",
    "        hamiltonians = generator.generate(n_sample=n_sample_new)\n",
    "        models = [DeformTopologicalModel(hamiltonian=hamiltonian, gap_type=gap_type) for hamiltonian in hamiltonians]\n",
    "        # similarity_func = topology_comparator\n",
    "        # cluster = Cluster(similarity_function=similarity_func)\n",
    "        # center_indices, group_number = cluster.fit(models)\n",
    "\n",
    "        similarity_func = fast_similarity_func\n",
    "        cluster = Cluster(similarity_function=similarity_func, n_core=n_core)\n",
    "        center_indices, group_number = cluster.fit(models)\n",
    "        \n",
    "        filename = \"./data_number_of_band_test/data_{symmetry_class}_{gap_type}_dim_{n_dim}_band_{n_band}.h5\".format(\n",
    "            symmetry_class=non_Hermitian_symmetry_class, gap_type=gap_type, n_dim=n_dim, n_band=n_band)\n",
    "        save_data(center_indices, group_number, filename)\n",
    "    \n",
    "    #return len(group_number)\n",
    "\n",
    "n_dim = 0\n",
    "n_sample = 3000\n",
    "\n",
    "n_bands = 8*np.array([1,2,3])\n",
    "parameters = list(itertools.product(non_hermitian_symmetry_list, gap_types, n_bands))\n",
    "print(\"Total case: \", len(parameters))\n",
    "\n",
    "n_core = 64\n",
    "_worker = partial(worker, n_dim=n_dim, n_sample=n_sample, n_core=n_core)\n",
    "list(map(_worker, parameters))"
   ]
  },
  {
   "cell_type": "code",
   "execution_count": null,
   "metadata": {},
   "outputs": [],
   "source": []
  }
 ],
 "metadata": {
  "kernelspec": {
   "display_name": "Python 3 (ipykernel)",
   "language": "python",
   "name": "python3"
  },
  "language_info": {
   "codemirror_mode": {
    "name": "ipython",
    "version": 3
   },
   "file_extension": ".py",
   "mimetype": "text/x-python",
   "name": "python",
   "nbconvert_exporter": "python",
   "pygments_lexer": "ipython3",
   "version": "3.9.18"
  }
 },
 "nbformat": 4,
 "nbformat_minor": 4
}
