{
 "cells": [
  {
   "cell_type": "code",
   "execution_count": 6,
   "metadata": {},
   "outputs": [
    {
     "name": "stdout",
     "output_type": "stream",
     "text": [
      "Numpy version:  1.23.5\n",
      "Scipy version:  1.11.1\n"
     ]
    }
   ],
   "source": [
    "import sys \n",
    "sys.path.append(\"..\")\n",
    "import os \n",
    "\n",
    "import numpy as np\n",
    "import matplotlib.pyplot as plt\n",
    "import scipy as sp \n",
    "\n",
    "print(\"Numpy version: \", np.__version__)\n",
    "print(\"Scipy version: \", sp.__version__)\n",
    "\n",
    "from non_Hermitian_random_matrix import non_hermitian_symmetry_list, gap_types, is_complexification\n",
    "from non_Hermitian_random_matrix import DeformHamiltonian, DeformHamiltonianGenerator\n",
    "\n",
    "from machine_learning import Cluster\n",
    "from topology_table import DeformTopologicalModel\n",
    "from functools import partial\n",
    "import itertools\n",
    "\n",
    "from multiprocessing import Pool\n",
    "from tools import save_data, save_data_M, load_data, load_data_M"
   ]
  },
  {
   "cell_type": "code",
   "execution_count": 19,
   "metadata": {},
   "outputs": [],
   "source": [
    "n_dim=2\n",
    "gap_type='imaginary line'\n",
    "\n",
    "for non_Hermitian_symmetry_class in non_hermitian_symmetry_list:\n",
    "    for gap_type in gap_types:\n",
    "        filename = \"./data/data_{symmetry_class}_{gap_type}_dim_{n_dim}.h5\".format(\n",
    "                symmetry_class=non_Hermitian_symmetry_class, gap_type=gap_type, n_dim=n_dim)\n",
    "\n",
    "        flag = False\n",
    "        try: \n",
    "            _x, _y = load_data(filename)\n",
    "            #print(_x)\n",
    "            #print(non_Hermitian_symmetry_class, gap_type, len(_y))\n",
    "            os.remove(filename)\n",
    "        except:\n",
    "            flag = True"
   ]
  },
  {
   "cell_type": "code",
   "execution_count": null,
   "metadata": {},
   "outputs": [],
   "source": []
  }
 ],
 "metadata": {
  "kernelspec": {
   "display_name": "base",
   "language": "python",
   "name": "python3"
  },
  "language_info": {
   "codemirror_mode": {
    "name": "ipython",
    "version": 3
   },
   "file_extension": ".py",
   "mimetype": "text/x-python",
   "name": "python",
   "nbconvert_exporter": "python",
   "pygments_lexer": "ipython3",
   "version": "3.9.18"
  }
 },
 "nbformat": 4,
 "nbformat_minor": 2
}
