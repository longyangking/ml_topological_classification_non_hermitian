{
 "cells": [
  {
   "cell_type": "code",
   "execution_count": 1,
   "metadata": {},
   "outputs": [
    {
     "name": "stdout",
     "output_type": "stream",
     "text": [
      "Numpy version:  1.23.5\n",
      "Scipy version:  1.11.1\n"
     ]
    }
   ],
   "source": [
    "import sys \n",
    "sys.path.append(\"..\") \n",
    "\n",
    "import numpy as np\n",
    "import matplotlib.pyplot as plt\n",
    "import scipy as sp \n",
    "\n",
    "print(\"Numpy version: \", np.__version__)\n",
    "print(\"Scipy version: \", sp.__version__)\n",
    "\n",
    "from non_Hermitian_random_matrix import non_hermitian_symmetry_list, gap_types, is_complexification\n",
    "from non_Hermitian_random_matrix import DeformHamiltonian, DeformHamiltonianGenerator\n",
    "\n",
    "from machine_learning import Cluster\n",
    "from topology_table import DeformTopologicalModel\n",
    "from functools import partial\n",
    "import itertools\n",
    "\n",
    "from multiprocessing import Pool\n",
    "from tools import save_data, save_data_M, load_data, load_data_M"
   ]
  },
  {
   "cell_type": "markdown",
   "metadata": {},
   "source": [
    "# Run in parallel"
   ]
  },
  {
   "cell_type": "code",
   "execution_count": 2,
   "metadata": {},
   "outputs": [
    {
     "name": "stdout",
     "output_type": "stream",
     "text": [
      "Total case:  1026\n"
     ]
    },
    {
     "name": "stderr",
     "output_type": "stream",
     "text": [
      "/tmp/ipykernel_53072/3807818536.py:11: RuntimeWarning: divide by zero encountered in log10\n",
      "  if np.log10(np.abs(v)) < -10:\n"
     ]
    }
   ],
   "source": [
    "n_sample = 500\n",
    "n_band = 8\n",
    "n_mesh = 1 # very fast mode\n",
    "is_inverse_parity = False\n",
    "\n",
    "def sim_func_Q(Q1, Q2):\n",
    "    nQ = len(Q1)\n",
    "    for n in range(nQ):\n",
    "        _Q = Q1[n]+Q2[n]\n",
    "        for v in np.linalg.eigvalsh(_Q):\n",
    "            if np.log10(np.abs(v)) < -10:\n",
    "                return 0\n",
    "    return 1\n",
    "\n",
    "def get_kpoints(n_dim, n_mesh):\n",
    "    '''\n",
    "    Get the k points\n",
    "    '''\n",
    "    if n_dim == 1:\n",
    "        kpoints = [[k] for k in np.linspace(0, np.pi, n_mesh)]\n",
    "    else:\n",
    "        values = [np.linspace(0, np.pi, n_mesh) for i in range(n_dim)]\n",
    "        kpoints = list(itertools.product(*values))\n",
    "\n",
    "    return kpoints\n",
    "\n",
    "def fast_similarity_func(model1, model2, n_dim, n_mesh=3):\n",
    "    kpoints = get_kpoints(n_dim, n_mesh=n_mesh)\n",
    "    Q1 = model1.calculate_Q(kpoints)\n",
    "    Q2 = model2.calculate_Q(kpoints)\n",
    "    return sim_func_Q(Q1, Q2)\n",
    "\n",
    "def worker(parameter, n_band, n_sample, n_mesh, is_inverse_parity):\n",
    "    non_Hermitian_symmetry_class, n_dim, gap_type = parameter\n",
    "    \n",
    "    filename = \"./data/data_{symmetry_class}_{gap_type}_dim_{n_dim}.h5\".format(\n",
    "        symmetry_class=non_Hermitian_symmetry_class, gap_type=gap_type, n_dim=n_dim)\n",
    "\n",
    "    flag = False\n",
    "    try: \n",
    "        _x, _y = load_data(filename)\n",
    "    except:\n",
    "        flag = True\n",
    "\n",
    "#     print(\"Calculating {sym_class}: {gap_type} dim = {n_dim} n_band={n_band} n_sample={n_sample}\\n\".format(\n",
    "#         sym_class=non_Hermitian_symmetry_class, gap_type=gap_type, n_dim=n_dim, n_band=n_band, n_sample=n_sample))\n",
    "\n",
    "    if flag:\n",
    "        generator  = DeformHamiltonianGenerator(\n",
    "                n=n_band, n_dim=n_dim, \n",
    "                non_Hermitian_symmetry_class=non_Hermitian_symmetry_class, gap_type=gap_type,\n",
    "                is_inverse_parity = is_inverse_parity,\n",
    "                verbose=False)\n",
    "        hamiltonians = generator.generate(n_sample=n_sample)\n",
    "        models = [DeformTopologicalModel(hamiltonian=hamiltonian, gap_type=gap_type) for hamiltonian in hamiltonians]\n",
    "        \n",
    "        similarity_func = partial(fast_similarity_func, n_dim=n_dim, n_mesh=n_mesh)\n",
    "        cluster = Cluster(similarity_function=similarity_func)\n",
    "        center_indices, group_number = cluster.fit(models)\n",
    "        \n",
    "        #filename = \"./data_P/data_{symmetry_class}_{gap_type}_dim_{n_dim}_P.h5\".format(\n",
    "        #    symmetry_class=non_Hermitian_symmetry_class, gap_type=gap_type, n_dim=n_dim)\n",
    "        save_data(center_indices, group_number, filename)\n",
    "    \n",
    "n_dims = range(1, 9+1)\n",
    "parameters = list(itertools.product(non_hermitian_symmetry_list, n_dims, gap_types))\n",
    "print(\"Total case: \", len(parameters))\n",
    "\n",
    "_worker = partial(worker, n_band=n_band, n_sample=n_sample, n_mesh=n_mesh, is_inverse_parity=is_inverse_parity)\n",
    "\n",
    "n_core = 32\n",
    "with Pool(n_core) as pool:\n",
    "    pool.map(_worker, parameters)"
   ]
  },
  {
   "cell_type": "code",
   "execution_count": null,
   "metadata": {},
   "outputs": [],
   "source": []
  }
 ],
 "metadata": {
  "kernelspec": {
   "display_name": "Python 3 (ipykernel)",
   "language": "python",
   "name": "python3"
  },
  "language_info": {
   "codemirror_mode": {
    "name": "ipython",
    "version": 3
   },
   "file_extension": ".py",
   "mimetype": "text/x-python",
   "name": "python",
   "nbconvert_exporter": "python",
   "pygments_lexer": "ipython3",
   "version": "3.9.18"
  }
 },
 "nbformat": 4,
 "nbformat_minor": 2
}
