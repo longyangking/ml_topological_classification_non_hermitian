{
 "cells": [
  {
   "cell_type": "code",
   "execution_count": 2,
   "metadata": {},
   "outputs": [],
   "source": [
    "import sys \n",
    "sys.path.append(\"..\") \n",
    "\n",
    "import matplotlib.pyplot as plt\n",
    "import numpy as np\n",
    "from tools import save_data, save_data_M, load_data, load_data_M\n",
    "from non_Hermitian_random_matrix import non_hermitian_symmetry_list, gap_types, non_Hermitian_symmetry_list_name"
   ]
  },
  {
   "cell_type": "markdown",
   "metadata": {},
   "source": [
    "# Check missing"
   ]
  },
  {
   "cell_type": "code",
   "execution_count": 3,
   "metadata": {},
   "outputs": [
    {
     "name": "stdout",
     "output_type": "stream",
     "text": [
      "Total missing:  0\n"
     ]
    }
   ],
   "source": [
    "missing_list = list()\n",
    "for gap_type in gap_types:\n",
    "    for n_dim in range(1, 9+1):\n",
    "        for isym, sym_name in enumerate(non_hermitian_symmetry_list):\n",
    "            filename = \"./data/data_{symmetry_class}_{gap_type}_dim_{n_dim}.h5\".format(\n",
    "                symmetry_class=sym_name, gap_type=gap_type, n_dim=n_dim)\n",
    "            try:\n",
    "                center_indices, group_number = load_data(filename)\n",
    "            except:\n",
    "                missing_list.append(\n",
    "                    \"{symmetry_class}: {gap_type} dim={n_dim}\".format(\n",
    "                symmetry_class=sym_name, gap_type=gap_type, n_dim=n_dim))\n",
    "\n",
    "print(\"Total missing: \", len(missing_list))\n",
    "# for x in missing_list:\n",
    "#     print(x)"
   ]
  },
  {
   "cell_type": "markdown",
   "metadata": {},
   "source": [
    "# Export figures"
   ]
  },
  {
   "cell_type": "code",
   "execution_count": 4,
   "metadata": {},
   "outputs": [
    {
     "name": "stdout",
     "output_type": "stream",
     "text": [
      "real line 1\n",
      "real line 2\n",
      "real line 3\n",
      "real line 4\n",
      "real line 5\n",
      "real line 6\n",
      "real line 7\n",
      "real line 8\n",
      "real line 9\n",
      "imaginary line 1\n",
      "imaginary line 2\n",
      "imaginary line 3\n",
      "imaginary line 4\n",
      "imaginary line 5\n",
      "imaginary line 6\n",
      "imaginary line 7\n",
      "imaginary line 8\n",
      "imaginary line 9\n",
      "point 1\n",
      "point 2\n",
      "point 3\n",
      "point 4\n",
      "point 5\n",
      "point 6\n",
      "point 7\n",
      "point 8\n",
      "point 9\n"
     ]
    }
   ],
   "source": [
    "for gap_type in gap_types:\n",
    "    for n_dim in range(1, 9+1):\n",
    "\n",
    "        fig = plt.figure(figsize=(20,32))\n",
    "        for isym, sym_name in enumerate(non_hermitian_symmetry_list):\n",
    "            filename = \"./data/data_{symmetry_class}_{gap_type}_dim_{n_dim}.h5\".format(\n",
    "                symmetry_class=sym_name, gap_type=gap_type, n_dim=n_dim)\n",
    "            try:\n",
    "                center_indices, group_number = load_data(filename)\n",
    "            except:\n",
    "                group_number = [0]\n",
    "\n",
    "            x_index = int(isym%7)\n",
    "            y_index = int(isym/7)\n",
    "\n",
    "            plt.subplot(8,5, isym+1)\n",
    "            plt.bar(np.arange(len(group_number))+1, group_number)\n",
    "            plt.xlim([0.5,len(group_number)+0.5])\n",
    "            if len(group_number)==1:\n",
    "                plt.xticks([1],fontsize=20)\n",
    "            elif len(group_number)==2:\n",
    "                plt.xticks([1,2], fontsize=20)\n",
    "            # elif len(group_number)==4:\n",
    "            #     plt.xticks([1,2,3,4], fontsize=20)\n",
    "            elif len(group_number)>2:\n",
    "                plt.xticks([1, len(group_number)], fontsize=20)\n",
    "\n",
    "            if np.max(group_number) != 0:\n",
    "                plt.ylim([0, np.max(group_number)*1.1])\n",
    "            else:\n",
    "                plt.ylim([0, 0.1])\n",
    "            plt.yticks([0, int(np.max(group_number)/2), int(np.max(group_number))],fontsize=20)\n",
    "            plt.xlabel(r\"$c$\",fontsize=20)\n",
    "            plt.ylabel(r\"$M$\",fontsize=20,rotation=0,horizontalalignment='right')\n",
    "            plt.title(non_Hermitian_symmetry_list_name[sym_name], fontsize=20)\n",
    "\n",
    "\n",
    "        plt.tight_layout()\n",
    "        plt.savefig('./figs/fig_table_{0}dim_{1}_group_number.pdf'.format(n_dim, gap_type), bbox_inches=\"tight\")\n",
    "        plt.close(fig)\n",
    "\n",
    "        print(gap_type, n_dim)\n",
    "#plt.show()"
   ]
  },
  {
   "cell_type": "code",
   "execution_count": null,
   "metadata": {},
   "outputs": [],
   "source": []
  }
 ],
 "metadata": {
  "kernelspec": {
   "display_name": "base",
   "language": "python",
   "name": "python3"
  },
  "language_info": {
   "codemirror_mode": {
    "name": "ipython",
    "version": 3
   },
   "file_extension": ".py",
   "mimetype": "text/x-python",
   "name": "python",
   "nbconvert_exporter": "python",
   "pygments_lexer": "ipython3",
   "version": "3.9.18"
  }
 },
 "nbformat": 4,
 "nbformat_minor": 2
}
