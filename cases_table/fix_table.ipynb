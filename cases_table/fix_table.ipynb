{
 "cells": [
  {
   "cell_type": "code",
   "execution_count": null,
   "metadata": {},
   "outputs": [],
   "source": [
    "import sys \n",
    "sys.path.append(\"..\") \n",
    "\n",
    "import numpy as np\n",
    "import matplotlib.pyplot as plt\n",
    "import scipy as sp \n",
    "\n",
    "print(\"Numpy version: \", np.__version__)\n",
    "print(\"Scipy version: \", sp.__version__)\n",
    "\n",
    "from non_Hermitian_random_matrix import non_hermitian_symmetry_list, gap_types, is_complexification\n",
    "from non_Hermitian_random_matrix import DeformHamiltonian, DeformHamiltonianGenerator\n",
    "\n",
    "from machine_learning import Cluster\n",
    "from topology_table import DeformTopologicalModel, topology_comparator\n",
    "from functools import partial\n",
    "\n",
    "from multiprocessing import Pool\n",
    "from tools import save_data, save_data_M, load_data, load_data_M"
   ]
  },
  {
   "cell_type": "code",
   "execution_count": null,
   "metadata": {},
   "outputs": [],
   "source": [
    "n_sample = 500\n",
    "n_band = 8\n",
    "\n",
    "def worker(non_Hermitian_symmetry_class, n_dim, n_band, gap_type, n_sample):\n",
    "    print(\"Calculating {sym_class}: {gap_type} dim = {n_dim} n_band={n_band} n_sample={n_sample}\\n\".format(\n",
    "        sym_class=non_Hermitian_symmetry_class, gap_type=gap_type, n_dim=n_dim, n_band=n_band, n_sample=n_sample))\n",
    "\n",
    "    generator  = DeformHamiltonianGenerator(\n",
    "            n=n_band, n_dim=n_dim, \n",
    "            non_Hermitian_symmetry_class=non_Hermitian_symmetry_class, gap_type=gap_type,\n",
    "            verbose=False)\n",
    "    hamiltonians = generator.generate(n_sample=n_sample)\n",
    "    models = [DeformTopologicalModel(hamiltonian=hamiltonian, gap_type=gap_type) for hamiltonian in hamiltonians]\n",
    "    similarity_func = topology_comparator\n",
    "    cluster = Cluster(similarity_function=similarity_func)\n",
    "    center_indices, group_number = cluster.fit(models)\n",
    "    \n",
    "    filename = \"./data/data_{symmetry_class}_{gap_type}_dim_{n_dim}.h5\".format(\n",
    "        symmetry_class=non_Hermitian_symmetry_class, gap_type=gap_type, n_dim=n_dim)\n",
    "    save_data(center_indices, group_number, filename)\n",
    "    \n",
    "    #return len(group_number)\n",
    "\n",
    "n_core = 32\n",
    "for gap_type in gap_types:\n",
    "    for n_dim in range(9+1):\n",
    "#        group_number_list = np.zeros(len(non_hermitian_symmetry_list))\n",
    "\n",
    "#         print(\"Calculating {gap_type} dim = {n_dim} n_band={n_band} n_sample={n_sample} in parallel with n_core={n_core}\".format(\n",
    "#             gap_type=gap_type, n_dim=n_dim, n_band=n_band, n_sample=n_sample, n_core=n_core))\n",
    "\n",
    "        _worker = partial(worker, n_dim=n_dim, n_band=n_band, gap_type=gap_type, n_sample=n_sample)\n",
    "        with Pool(n_core) as pool:\n",
    "            pool.map(_worker, non_hermitian_symmetry_list)\n",
    "        \n",
    "#         filename = \"./data/data_table_{gap_type}_dim_{n_dim}.h5\".format(gap_type=gap_type, n_dim=n_dim)\n",
    "#         save_data(non_hermitian_symmetry_list, group_number_list, filename)"
   ]
  }
 ],
 "metadata": {
  "language_info": {
   "name": "python"
  }
 },
 "nbformat": 4,
 "nbformat_minor": 2
}
