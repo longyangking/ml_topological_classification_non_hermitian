{
 "cells": [
  {
   "cell_type": "code",
   "execution_count": 1,
   "metadata": {},
   "outputs": [],
   "source": [
    "import sys \n",
    "sys.path.append(\"..\") \n",
    "\n",
    "import matplotlib.pyplot as plt\n",
    "import numpy as np\n",
    "from tools import save_data, save_data_M, load_data, load_data_M\n",
    "from non_Hermitian_random_matrix import non_hermitian_symmetry_list, gap_types, non_Hermitian_symmetry_list_name"
   ]
  },
  {
   "cell_type": "markdown",
   "metadata": {},
   "source": [
    "# Check missing"
   ]
  },
  {
   "cell_type": "code",
   "execution_count": 2,
   "metadata": {},
   "outputs": [
    {
     "name": "stdout",
     "output_type": "stream",
     "text": [
      "Total missing:  0\n"
     ]
    }
   ],
   "source": [
    "missing_list = list()\n",
    "n_bands = 8*np.array([1,2,3,6,8,10,12])\n",
    "n_dim = 0\n",
    "delete_list = list()\n",
    "\n",
    "for gap_type in gap_types:\n",
    "    for ib, n_band in enumerate(n_bands):\n",
    "        for isym, sym_name in enumerate(non_hermitian_symmetry_list):\n",
    "            filename = \"./data_number_of_band/data_{symmetry_class}_{gap_type}_dim_{n_dim}_band_{n_band}.h5\".format(\n",
    "                symmetry_class=sym_name, gap_type=gap_type, n_dim=n_dim, n_band=n_band)\n",
    "            try:\n",
    "                center_indices, group_number = load_data(filename)\n",
    "            except:\n",
    "                missing_list.append(\n",
    "                    \"{symmetry_class}: {gap_type} dim={n_dim}, band={n_band}\".format(\n",
    "                symmetry_class=sym_name, gap_type=gap_type, n_dim=n_dim, n_band=n_band))\n",
    "\n",
    "                delete_list.append(filename)\n",
    "\n",
    "print(\"Total missing: \", len(missing_list))\n",
    "for x in missing_list:\n",
    "    print(x)"
   ]
  },
  {
   "cell_type": "code",
   "execution_count": 24,
   "metadata": {},
   "outputs": [],
   "source": [
    "#np.save('delete_list',delete_list)"
   ]
  },
  {
   "cell_type": "code",
   "execution_count": 25,
   "metadata": {},
   "outputs": [
    {
     "data": {
      "text/plain": [
       "'./data_number_of_band/data_AIII_imaginary line_dim_0_band_48.h5'"
      ]
     },
     "execution_count": 25,
     "metadata": {},
     "output_type": "execute_result"
    }
   ],
   "source": [
    "delete_list = np.load('delete_list.npy')\n",
    "delete_list[0]"
   ]
  },
  {
   "cell_type": "code",
   "execution_count": 26,
   "metadata": {},
   "outputs": [
    {
     "data": {
      "text/plain": [
       "False"
      ]
     },
     "execution_count": 26,
     "metadata": {},
     "output_type": "execute_result"
    }
   ],
   "source": [
    "import os\n",
    "os.path.exists(delete_list[0])"
   ]
  },
  {
   "cell_type": "markdown",
   "metadata": {},
   "source": [
    "# Export Figure"
   ]
  },
  {
   "cell_type": "code",
   "execution_count": 3,
   "metadata": {},
   "outputs": [
    {
     "name": "stdout",
     "output_type": "stream",
     "text": [
      "real line\n",
      "imaginary line\n",
      "point\n"
     ]
    }
   ],
   "source": [
    "#gap_type = gap_types[0]\n",
    "n_dim = 0\n",
    "#n_bands = 8*np.array([1,2,3,6,8,10,12])\n",
    "n_bands = 8*np.array([1,2,3,6,8,10,12])\n",
    "\n",
    "for gap_type in gap_types:\n",
    "    fig = plt.figure(figsize=(20,32))\n",
    "    for isym, sym_name in enumerate(non_hermitian_symmetry_list):\n",
    "        group_number_list = np.zeros(len(n_bands))\n",
    "        for ib, n_band in enumerate(n_bands):\n",
    "            filename = \"./data_number_of_band/data_{symmetry_class}_{gap_type}_dim_{n_dim}_band_{n_band}.h5\".format(\n",
    "                symmetry_class=sym_name, gap_type=gap_type, n_dim=n_dim, n_band=n_band)\n",
    "            try:\n",
    "                center_indices, group_number = load_data(filename)\n",
    "            except:\n",
    "                # raise Exception(\"Missing: data_{symmetry_class}_{gap_type}_dim_{n_dim}_band_{n_band}.h5\".format(\n",
    "                # symmetry_class=sym_name, gap_type=gap_type, n_dim=n_dim, n_band=n_band))\n",
    "                group_number = []\n",
    "            \n",
    "            group_number_list[ib] = len(group_number)\n",
    "\n",
    "        x_index = int(isym%7)\n",
    "        y_index = int(isym/7)\n",
    "\n",
    "        plt.subplot(8,5, isym+1)\n",
    "        plt.bar(range(1, len(n_bands)+1), group_number_list)\n",
    "        for i, v in enumerate(group_number_list):\n",
    "            plt.text(i + 1, v*1.05+0.1, str(int(v)), fontsize = 20, ha='center', va='center')\n",
    "\n",
    "        plt.xlim([0.5,len(n_bands)+0.5])\n",
    "        plt.xticks(ticks=range(1, len(n_bands)+1), labels=n_bands, fontsize=20)\n",
    "        plt.ylim([0, np.max(group_number_list)*1.1+0.5])\n",
    "        plt.yticks([0, int(np.max(group_number_list)/2), int(np.max(group_number_list))],fontsize=20)\n",
    "        plt.xlabel(r\"$n$\",fontsize=20)\n",
    "        plt.ylabel(r\"$N_c$\",fontsize=20,rotation=0,horizontalalignment='right')\n",
    "        plt.title(non_Hermitian_symmetry_list_name[sym_name], fontsize=20, fontweight=\"bold\")\n",
    "\n",
    "\n",
    "    plt.tight_layout()\n",
    "    plt.savefig('fig_table_{0}dim_{1}_phase_vs_number_of_band.pdf'.format(n_dim, gap_type), bbox_inches=\"tight\")\n",
    "    plt.close(fig)\n",
    "\n",
    "    print(gap_type)"
   ]
  },
  {
   "cell_type": "code",
   "execution_count": null,
   "metadata": {},
   "outputs": [],
   "source": []
  }
 ],
 "metadata": {
  "kernelspec": {
   "display_name": "base",
   "language": "python",
   "name": "python3"
  },
  "language_info": {
   "codemirror_mode": {
    "name": "ipython",
    "version": 3
   },
   "file_extension": ".py",
   "mimetype": "text/x-python",
   "name": "python",
   "nbconvert_exporter": "python",
   "pygments_lexer": "ipython3",
   "version": "3.9.18"
  }
 },
 "nbformat": 4,
 "nbformat_minor": 2
}
