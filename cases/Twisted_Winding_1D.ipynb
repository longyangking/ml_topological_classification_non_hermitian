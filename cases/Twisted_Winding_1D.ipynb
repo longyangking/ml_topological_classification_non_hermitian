{
 "cells": [
  {
   "cell_type": "code",
   "execution_count": 1,
   "metadata": {},
   "outputs": [],
   "source": [
    "import sys \n",
    "sys.path.append(\"..\") \n",
    "\n",
    "#from topological_models import generator\n",
    "import numpy as np\n",
    "from topology_model import NonHermitianHamiltonian, NonHermitianTopologicalModel\n",
    "import matplotlib.pyplot as plt\n",
    "from machine_learning import Cluster\n",
    "from machine_learning import Classifier\n",
    "from topology_model import sigma_0, sigma_x, sigma_y, sigma_z\n",
    "from topology_model import Generator\n",
    "from topology_model import topology_comparator"
   ]
  },
  {
   "cell_type": "code",
   "execution_count": 11,
   "metadata": {},
   "outputs": [],
   "source": [
    "class TwistedWinding(NonHermitianHamiltonian):\n",
    "    def __init__(self, E_ref=0.):\n",
    "        super().__init__(E_ref)\n",
    "\n",
    "        self.kappas = None\n",
    "        self.initiate()\n",
    "\n",
    "    def get_n(self):\n",
    "        return 1\n",
    "\n",
    "    def get_n_dim(self):\n",
    "        return 1\n",
    "\n",
    "    def get_parameters(self):\n",
    "        return self.kappas\n",
    "    \n",
    "    def set_parameters(self, **kwargs):\n",
    "        self.kappas = kwargs['kappa1'], kwargs['kappa2']\n",
    "\n",
    "    def initiate(self):\n",
    "        kappa1 = 1.0\n",
    "        kappa2 = 3*np.random.random()\n",
    "        self.kappas = kappa1, kappa2\n",
    "\n",
    "    def get_kpoints(self):\n",
    "        n_points = 11\n",
    "        kpoints = [[k] for k in np.linspace(0,np.pi,n_points)]\n",
    "        return kpoints\n",
    "    \n",
    "    def get_Hamiltonian(self, k):\n",
    "        k = k[0]\n",
    "        kappa1, kappa2 = self.kappas\n",
    "        #hk = np.zeros(1, dtype=complex)\n",
    "        hk = kappa1*np.exp(-1j*k) + kappa1*np.exp(1j*k) + kappa2*np.exp(-2j*k) - self.E_ref\n",
    "        return hk\n",
    "\n",
    "    def get_topological_invariant(self):\n",
    "        kappa1, kappa2 = self.kappas\n",
    "        if kappa1 > kappa2:\n",
    "            return -1\n",
    "        elif kappa1 < kappa2:\n",
    "            return 1\n",
    "        else:\n",
    "            return 0"
   ]
  },
  {
   "cell_type": "code",
   "execution_count": 12,
   "metadata": {},
   "outputs": [],
   "source": [
    "gap_type = 'point'\n",
    "E_ref = 1j\n",
    "generator = Generator(hamiltonian=TwistedWinding(E_ref=E_ref), gap_type=gap_type)\n",
    "\n",
    "n_sample = 100\n",
    "#models, vs = generator.generate_models(n_sample)\n",
    "models, vs = generator.generate_models(n_sample)\n",
    "n = generator.get_n()"
   ]
  },
  {
   "cell_type": "code",
   "execution_count": 22,
   "metadata": {},
   "outputs": [
    {
     "name": "stdout",
     "output_type": "stream",
     "text": [
      "[37 34 29]\n",
      "The number of centers:  3\n"
     ]
    }
   ],
   "source": [
    "cluster = Cluster(similarity_function=topology_comparator, verbose=False)\n",
    "center_indices, group_number = cluster.fit(models)\n",
    "print(group_number)\n",
    "print(\"The number of centers: \", len(center_indices))"
   ]
  },
  {
   "cell_type": "code",
   "execution_count": 23,
   "metadata": {},
   "outputs": [
    {
     "data": {
      "image/png": "[encoded data removed]",
      "text/plain": [
       "<Figure size 300x200 with 1 Axes>"
      ]
     },
     "metadata": {},
     "output_type": "display_data"
    }
   ],
   "source": [
    "plt.figure(figsize=(3,2))\n",
    "plt.bar(np.arange(len(group_number))+1, group_number)\n",
    "plt.xlim([0.5,len(group_number)+0.5])\n",
    "plt.xticks(list(range(1,len(group_number)+1)),fontsize=20)\n",
    "plt.ylim([0, np.max(group_number)*1.1])\n",
    "plt.yticks([0, int(np.max(group_number)/2), int(np.max(group_number))],fontsize=20)\n",
    "plt.xlabel(r\"$c$\",fontsize=20)\n",
    "plt.ylabel(r\"$M$\",fontsize=20,rotation=0,horizontalalignment='right')\n",
    "plt.show()"
   ]
  },
  {
   "cell_type": "code",
   "execution_count": 24,
   "metadata": {},
   "outputs": [
    {
     "name": "stdout",
     "output_type": "stream",
     "text": [
      "(1.0, 0.25762721244683284)\n",
      "(1.0, 1.6490427150065412)\n",
      "(1.0, 2.5252079405531087)\n"
     ]
    }
   ],
   "source": [
    "for model in [models[index] for index in center_indices]:\n",
    "    print(model.get_parameters())"
   ]
  },
  {
   "attachments": {},
   "cell_type": "markdown",
   "metadata": {},
   "source": [
    "# Phase diagram"
   ]
  },
  {
   "cell_type": "code",
   "execution_count": 6,
   "metadata": {},
   "outputs": [],
   "source": [
    "# classifier = Classifier(similarity_func=topology_comparator, cluster_centers=[models[index] for index in center_indices])\n",
    "# n1 = 21\n",
    "# n2 = 21\n",
    "# kappa1s = np.linspace(0.001,2,n1)\n",
    "# kappa2s = np.linspace(0.001,2,n2)\n",
    "# v_list = np.zeros((n1,n2))\n",
    "\n",
    "# for i in range(n1):\n",
    "#     for j in range(n2):\n",
    "#         hamiltonian = TwistedWinding(E_ref=0.)\n",
    "#         hamiltonian.set_parameters(kappa1=kappa1s[i], kappa2=kappa2s[j])\n",
    "#         #print(hamiltonian.get_parameters())\n",
    "#         _model = NonHermitianTopologicalModel(hamiltonian=hamiltonian, gap_type=gap_type)\n",
    "#             #v_list.append(1)\n",
    "#             # t1_list.append(t1s[i])\n",
    "#             # gamma_list.append(gammas[j])\n",
    "#         v_list[i,j] = classifier.classify(_model)"
   ]
  },
  {
   "cell_type": "code",
   "execution_count": 7,
   "metadata": {},
   "outputs": [],
   "source": [
    "# plt.figure(figsize=(4,4))\n",
    "# plt.imshow(v_list)    \n",
    "# plt.xlabel(r\"$J_1$\",fontsize=20)\n",
    "# plt.ylabel(r\"$J_2$\",fontsize=20,rotation=0,horizontalalignment='right')\n",
    "# plt.xticks([0, n1/2, n1-1],[r\"0\", \"0.5\", r\"1\"],fontsize=20)\n",
    "# plt.yticks([0, n2/2, n2-1],[r\"0\", \"0.5\", r\"1\"], fontsize=20)\n",
    "\n",
    "# # cmap = plt.cm.rainbow\n",
    "# # norm = matplotlib.colors.BoundaryNorm(np.arange(-2.5, 3, 1), cmap.N)\n",
    "# cb = plt.colorbar(ticks=range(len(center_indices)+1), fraction=0.046, pad=0.04)\n",
    "# cb.ax.tick_params(labelsize=18)\n",
    "# plt.tight_layout()\n",
    "# plt.show()"
   ]
  },
  {
   "cell_type": "code",
   "execution_count": 25,
   "metadata": {},
   "outputs": [],
   "source": [
    "classifier = Classifier(similarity_func=topology_comparator, cluster_centers=[models[index] for index in center_indices])\n",
    "n1 = 51\n",
    "kappa1 = 1.0\n",
    "kappa2s = np.linspace(0.001,3,n1)\n",
    "v_list = np.zeros(n1)\n",
    "\n",
    "for i in range(n1):\n",
    "    hamiltonian = TwistedWinding(E_ref=E_ref)\n",
    "    hamiltonian.set_parameters(kappa1=kappa1, kappa2=kappa2s[i])\n",
    "    #print(hamiltonian.get_parameters())\n",
    "    _model = NonHermitianTopologicalModel(hamiltonian=hamiltonian, gap_type=gap_type)\n",
    "    v_list[i] = classifier.classify(_model)"
   ]
  },
  {
   "cell_type": "code",
   "execution_count": 28,
   "metadata": {},
   "outputs": [
    {
     "data": {
      "image/png": "[encoded data removed]",
      "text/plain": [
       "<Figure size 400x400 with 1 Axes>"
      ]
     },
     "metadata": {},
     "output_type": "display_data"
    }
   ],
   "source": [
    "plt.figure(figsize=(4,4))\n",
    "plt.plot(kappa2s, v_list,'-o')\n",
    "plt.xticks([0, 1, 2, 3],fontsize=20)\n",
    "plt.yticks(range(1, len(group_number)+1),fontsize=20)\n",
    "plt.xlim([-0.05, 3.05])\n",
    "plt.ylim([1-0.05,len(group_number)+.05])\n",
    "plt.xlabel(r\"$\\kappa_2/\\kappa_1$\",fontsize=20)\n",
    "plt.ylabel(r\"c\",fontsize=20,rotation=0,horizontalalignment='right')\n",
    "\n",
    "plt.tight_layout()\n",
    "plt.show()"
   ]
  },
  {
   "cell_type": "markdown",
   "metadata": {},
   "source": [
    "# Save data"
   ]
  },
  {
   "cell_type": "code",
   "execution_count": 29,
   "metadata": {},
   "outputs": [
    {
     "name": "stdout",
     "output_type": "stream",
     "text": [
      "1D_Twisted_Winding\n"
     ]
    }
   ],
   "source": [
    "from tools import save_data, save_data_M\n",
    "\n",
    "name = \"1D_Twisted_Winding\"\n",
    "save_data(center_indices, group_number, \"fig2_{0}_group_number.h5\".format(name))\n",
    "save_data_M(v_list, \"fig2_{0}_phase_diagram.h5\".format(name))\n",
    "print(name)"
   ]
  },
  {
   "cell_type": "code",
   "execution_count": null,
   "metadata": {},
   "outputs": [],
   "source": []
  }
 ],
 "metadata": {
  "kernelspec": {
   "display_name": "base",
   "language": "python",
   "name": "python3"
  },
  "language_info": {
   "codemirror_mode": {
    "name": "ipython",
    "version": 3
   },
   "file_extension": ".py",
   "mimetype": "text/x-python",
   "name": "python",
   "nbconvert_exporter": "python",
   "pygments_lexer": "ipython3",
   "version": "3.9.18"
  },
  "orig_nbformat": 4
 },
 "nbformat": 4,
 "nbformat_minor": 2
}
