{
 "cells": [
  {
   "cell_type": "code",
   "execution_count": 1,
   "metadata": {},
   "outputs": [],
   "source": [
    "import sys \n",
    "sys.path.append(\"..\") \n",
    "\n",
    "#from topological_models import generator\n",
    "import numpy as np\n",
    "from topology_model import NonHermitianHamiltonian, NonHermitianTopologicalModel\n",
    "import matplotlib.pyplot as plt\n",
    "from machine_learning import Cluster\n",
    "from machine_learning import Classifier\n",
    "from topology_model import sigma_0, sigma_x, sigma_y, sigma_z\n",
    "from topology_model import Generator\n",
    "from topology_model import topology_comparator, obtain_phase_center_and_number"
   ]
  },
  {
   "cell_type": "code",
   "execution_count": 2,
   "metadata": {},
   "outputs": [],
   "source": [
    "class Z21D(NonHermitianHamiltonian):\n",
    "    def __init__(self, E_ref=0.):\n",
    "        super().__init__(E_ref)\n",
    "\n",
    "        self.parameters = None\n",
    "        self.initiate()\n",
    "\n",
    "    def get_n(self):\n",
    "        return 2\n",
    "\n",
    "    def get_n_dim(self):\n",
    "        return 1\n",
    "\n",
    "    def get_parameters(self):\n",
    "        return self.parameters\n",
    "    \n",
    "    def set_parameters(self, **kwargs):\n",
    "        self.parameters = kwargs['t0'], kwargs['delta'], kwargs['g']\n",
    "\n",
    "    def initiate(self):\n",
    "        t0 = 1.0\n",
    "        delta = -0.3 + 0.6*np.random.random()\n",
    "        g = 0.3*np.random.random()\n",
    "        self.parameters = t0, delta, g\n",
    "\n",
    "    def get_kpoints(self):\n",
    "        n_points = 11\n",
    "        kpoints = [[k] for k in np.linspace(0,np.pi,n_points)]\n",
    "        return kpoints\n",
    "    \n",
    "    def get_Hamiltonian(self, k):\n",
    "        k = k[0]\n",
    "        t0, delta, g = self.parameters\n",
    "        \n",
    "        hk = 2*t0*np.cos(k)*sigma_0 + 2*delta*np.sin(k)*sigma_x + 2j*g*np.sin(k)*sigma_z\n",
    "        \n",
    "        hk = hk - self.E_ref*sigma_0\n",
    "        return hk\n",
    "\n",
    "class Z21DPerturbation(Z21D):\n",
    "    def __init__(self, E_ref=0.):\n",
    "        super().__init__(E_ref)\n",
    "        self.parameters = list()\n",
    "        self.initiate()\n",
    "\n",
    "    def initiate(self):\n",
    "        # different parameter region for the different gap type\n",
    "        t0 = -1.0 + 2*np.random.random()\n",
    "        delta = -0.3 + 0.6*np.random.random()\n",
    "        g = 0.3*np.random.random()\n",
    "        self.parameters = t0, delta, g\n",
    "    \n",
    "    def get_Hamiltonian(self, k):\n",
    "        hk = super().get_Hamiltonian(k)\n",
    "        hk = hk*0.05\n",
    "        return hk"
   ]
  },
  {
   "cell_type": "code",
   "execution_count": 3,
   "metadata": {},
   "outputs": [],
   "source": [
    "gap_type = 'point'\n",
    "E_ref = 0.2j\n",
    "generator = Generator(hamiltonian=Z21D(E_ref=E_ref), gap_type=gap_type)\n",
    "\n",
    "n_sample = 100\n",
    "#models, vs = generator.generate_models(n_sample)\n",
    "models, vs = generator.generate_models(n_sample)\n",
    "n = generator.get_n()"
   ]
  },
  {
   "cell_type": "code",
   "execution_count": 4,
   "metadata": {},
   "outputs": [
    {
     "name": "stdout",
     "output_type": "stream",
     "text": [
      "[58 42]\n",
      "The number of centers:  2\n"
     ]
    }
   ],
   "source": [
    "cluster = Cluster(similarity_function=topology_comparator, verbose=False)\n",
    "center_indices, group_number = cluster.fit(models)\n",
    "print(group_number)\n",
    "print(\"The number of centers: \", len(center_indices))"
   ]
  },
  {
   "cell_type": "code",
   "execution_count": 5,
   "metadata": {},
   "outputs": [
    {
     "name": "stdout",
     "output_type": "stream",
     "text": [
      "Gap type:  point\n",
      "The number of phases:  2\n",
      "[58, 42]\n"
     ]
    }
   ],
   "source": [
    "print(\"Gap type: \", gap_type)\n",
    "hamiltonian_perturbation = Z21DPerturbation(E_ref=E_ref)\n",
    "generator = Generator(hamiltonian=hamiltonian_perturbation, gap_type=gap_type)\n",
    "\n",
    "n_sample = 100\n",
    "perturbations, vs = generator.generate_models(n_sample)\n",
    "#Qs, vs = generator.generate(n_sample)\n",
    "n = generator.get_n()\n",
    "\n",
    "new_center_indices, new_group_number = obtain_phase_center_and_number(center_indices, group_number, models, perturbations)\n",
    "print(\"The number of phases: \", len(new_group_number))\n",
    "print(new_group_number)"
   ]
  },
  {
   "cell_type": "code",
   "execution_count": 6,
   "metadata": {},
   "outputs": [
    {
     "data": {
      "image/png": "[encoded data removed]",
      "text/plain": [
       "<Figure size 300x300 with 1 Axes>"
      ]
     },
     "metadata": {},
     "output_type": "display_data"
    }
   ],
   "source": [
    "plt.figure(figsize=(3,3))\n",
    "plt.bar(np.arange(len(new_group_number))+1, new_group_number)\n",
    "plt.xlim([0.5,len(new_group_number)+0.5])\n",
    "plt.xticks(list(range(1,len(new_group_number)+1)),fontsize=20)\n",
    "plt.ylim([0, np.max(new_group_number)*1.1])\n",
    "plt.yticks([0, int(np.max(new_group_number)/2), int(np.max(new_group_number))],fontsize=20)\n",
    "plt.xlabel(r\"$c$\",fontsize=20)\n",
    "plt.ylabel(r\"$M$\",fontsize=20,rotation=0,horizontalalignment='right')\n",
    "plt.show()"
   ]
  },
  {
   "attachments": {},
   "cell_type": "markdown",
   "metadata": {},
   "source": [
    "# Phase diagram"
   ]
  },
  {
   "cell_type": "code",
   "execution_count": 7,
   "metadata": {},
   "outputs": [],
   "source": [
    "classifier = Classifier(similarity_func=topology_comparator, cluster_centers=[models[index] for index in new_center_indices])\n",
    "\n",
    "n1 = 51\n",
    "n2 = 51\n",
    "deltas = np.linspace(-0.3,0.3,n1)\n",
    "gs = np.linspace(0,0.3,n2)\n",
    "\n",
    "v_list = np.zeros((n1,n2))\n",
    "\n",
    "for i in range(n1):\n",
    "    for j in range(n2):\n",
    "        hamiltonian = Z21D(E_ref=E_ref)\n",
    "        hamiltonian.set_parameters(t0=1.0, delta=deltas[i], g=gs[j])\n",
    "        #print(hamiltonian.get_parameters())\n",
    "        #if hamiltonian.is_real_line_gap():\n",
    "        _model = NonHermitianTopologicalModel(hamiltonian=hamiltonian, gap_type=gap_type)\n",
    "        v_list[i,j] = classifier.classify(_model)"
   ]
  },
  {
   "cell_type": "code",
   "execution_count": 8,
   "metadata": {},
   "outputs": [
    {
     "data": {
      "image/png": "[encoded data removed]",
      "text/plain": [
       "<Figure size 400x400 with 2 Axes>"
      ]
     },
     "metadata": {},
     "output_type": "display_data"
    }
   ],
   "source": [
    "n1, n2 = v_list.shape\n",
    "\n",
    "plt.figure(figsize=(4,4))\n",
    "plt.imshow(np.transpose(v_list), origin='lower',extent = [0,n1,0,n2])\n",
    "plt.xlabel(r\"$\\Delta$\",fontsize=20)\n",
    "plt.ylabel(r\"$g$\",fontsize=20, rotation=0, horizontalalignment='right')\n",
    "plt.xticks([0, n1/2, n1-1],[r\"-0.3\", r\"0\", r\"0.3\"],fontsize=20)\n",
    "plt.yticks([0, n2/2, n2-1],[r\"0\", r\"0.15\", r\"0.3\"], fontsize=20)\n",
    "\n",
    "cb = plt.colorbar(ticks=range(1, len(center_indices)+1), fraction=0.046, pad=0.04)\n",
    "cb.ax.tick_params(labelsize=18)\n",
    "\n",
    "plt.tight_layout()\n",
    "plt.show()"
   ]
  },
  {
   "cell_type": "markdown",
   "metadata": {},
   "source": [
    "# Save data"
   ]
  },
  {
   "cell_type": "code",
   "execution_count": 10,
   "metadata": {},
   "outputs": [
    {
     "name": "stdout",
     "output_type": "stream",
     "text": [
      "1D_Z2\n"
     ]
    }
   ],
   "source": [
    "from tools import save_data, save_data_M\n",
    "\n",
    "name = \"1D_Z2\"\n",
    "save_data(center_indices, group_number, \"figs_{0}_group_number.h5\".format(name))\n",
    "save_data_M(v_list, \"figs_{0}_phase_diagram.h5\".format(name))\n",
    "print(name)"
   ]
  }
 ],
 "metadata": {
  "kernelspec": {
   "display_name": "base",
   "language": "python",
   "name": "python3"
  },
  "language_info": {
   "codemirror_mode": {
    "name": "ipython",
    "version": 3
   },
   "file_extension": ".py",
   "mimetype": "text/x-python",
   "name": "python",
   "nbconvert_exporter": "python",
   "pygments_lexer": "ipython3",
   "version": "3.12.7"
  },
  "orig_nbformat": 4
 },
 "nbformat": 4,
 "nbformat_minor": 2
}
