{
 "cells": [
  {
   "cell_type": "code",
   "execution_count": 1,
   "metadata": {},
   "outputs": [],
   "source": [
    "import sys \n",
    "sys.path.append(\"..\") \n",
    "\n",
    "#from topological_models import generator\n",
    "import numpy as np\n",
    "from topology_model import NonHermitianHamiltonian, NonHermitianTopologicalModel\n",
    "import matplotlib.pyplot as plt\n",
    "import matplotlib\n",
    "from machine_learning import Cluster\n",
    "from machine_learning import Classifier\n",
    "from topology_model import sigma_0, sigma_x, sigma_y, sigma_z\n",
    "from topology_model import Generator\n",
    "from topology_model import topology_comparator\n",
    "\n",
    "from tools import save_data, save_data_M"
   ]
  },
  {
   "cell_type": "code",
   "execution_count": 6,
   "metadata": {},
   "outputs": [],
   "source": [
    "class HatanoNelson1D(NonHermitianHamiltonian):\n",
    "    def __init__(self, E_ref=0.):\n",
    "        super().__init__(E_ref)\n",
    "        self.Js = None\n",
    "        self.initiate()\n",
    "\n",
    "    def get_n(self):\n",
    "        return 1\n",
    "\n",
    "    def get_n_dim(self):\n",
    "        return 1\n",
    "\n",
    "    def get_parameters(self):\n",
    "        return self.Js\n",
    "    \n",
    "    def set_parameters(self, **kwargs):\n",
    "        self.Js = kwargs['J1'], kwargs['J2']\n",
    "\n",
    "    def initiate(self):\n",
    "        # J1 = np.random.random()\n",
    "        # J2 = np.random.random()\n",
    "        J1 = 1.\n",
    "        J2 = 2*np.random.random()\n",
    "        self.Js = J1, J2\n",
    "\n",
    "    def get_kpoints(self):\n",
    "        n_points = 11\n",
    "        kpoints = [[k] for k in np.linspace(0,np.pi,n_points)]\n",
    "        return kpoints\n",
    "    \n",
    "    def get_Hamiltonian(self, k):\n",
    "        k = k[0]\n",
    "        J1, J2 = self.Js\n",
    "        hk = np.zeros(1, dtype=complex)\n",
    "        hk = hk + J1*np.exp(-1j*k) + J2*np.exp(1j*k) - self.E_ref\n",
    "        \n",
    "        return hk\n",
    "\n",
    "    def get_topological_invariant(self):\n",
    "        J1, J2 = self.Js\n",
    "        if J1 > J2:\n",
    "            return -1\n",
    "        elif J1 < J2:\n",
    "            return 1\n",
    "        else:\n",
    "            return 0"
   ]
  },
  {
   "cell_type": "markdown",
   "metadata": {},
   "source": [
    "# $E_f = 0.5i$"
   ]
  },
  {
   "cell_type": "code",
   "execution_count": 9,
   "metadata": {},
   "outputs": [
    {
     "name": "stdout",
     "output_type": "stream",
     "text": [
      "The number of centers:  2\n"
     ]
    },
    {
     "data": {
      "image/png": "[encoded data removed]",
      "text/plain": [
       "<Figure size 300x200 with 1 Axes>"
      ]
     },
     "metadata": {},
     "output_type": "display_data"
    }
   ],
   "source": [
    "gap_type = 'point'\n",
    "E_ref = 0.5j\n",
    "generator = Generator(hamiltonian=HatanoNelson1D(E_ref=E_ref), gap_type=gap_type)\n",
    "\n",
    "n_sample = 100\n",
    "#models, vs = generator.generate_models(n_sample)\n",
    "models, vs = generator.generate_models(n_sample)\n",
    "n = generator.get_n()\n",
    "\n",
    "cluster = Cluster(similarity_function= topology_comparator,  verbose=False)\n",
    "center_indices, group_number = cluster.fit(models)\n",
    "print(\"The number of centers: \", len(center_indices))\n",
    "\n",
    "plt.figure(figsize=(3,2))\n",
    "plt.bar(np.arange(len(group_number))+1, group_number)\n",
    "plt.xlim([0.5,len(group_number)+0.5])\n",
    "plt.xticks(list(range(1,len(group_number)+1)),fontsize=20)\n",
    "plt.ylim([0, np.max(group_number)*1.1])\n",
    "plt.yticks([0, int(np.max(group_number)/2), int(np.max(group_number))],fontsize=20)\n",
    "plt.xlabel(r\"$c$\",fontsize=20)\n",
    "plt.ylabel(r\"$M$\",fontsize=20,rotation=0,horizontalalignment='right')\n",
    "plt.show()"
   ]
  },
  {
   "cell_type": "code",
   "execution_count": 10,
   "metadata": {},
   "outputs": [
    {
     "data": {
      "image/png": "[encoded data removed]",
      "text/plain": [
       "<Figure size 400x400 with 1 Axes>"
      ]
     },
     "metadata": {},
     "output_type": "display_data"
    }
   ],
   "source": [
    "classifier = Classifier(similarity_func=topology_comparator, cluster_centers=[models[index] for index in center_indices])\n",
    "n1 = 51\n",
    "J1 = 1.0\n",
    "J2s = np.linspace(0.001,2,n1)\n",
    "v_list = np.zeros(n1)\n",
    "\n",
    "for i in range(n1):\n",
    "    hamiltonian = HatanoNelson1D(E_ref=E_ref)\n",
    "    hamiltonian.set_parameters(J1=J1, J2=J2s[i])\n",
    "    _model = NonHermitianTopologicalModel(hamiltonian=hamiltonian, gap_type=gap_type)\n",
    "    v_list[i] = classifier.classify(_model)\n",
    "\n",
    "plt.figure(figsize=(4,4))\n",
    "plt.plot(J2s, v_list,'-o')\n",
    "plt.xticks([0, 1, 2],fontsize=20)\n",
    "plt.yticks(range(1, len(group_number)+1),fontsize=20)\n",
    "plt.xlim([-0.05, 2.05])\n",
    "plt.ylim([1-0.05,len(group_number)+.05])\n",
    "plt.xlabel(r\"$J_2/J_1$\",fontsize=20)\n",
    "plt.ylabel(r\"c\",fontsize=20,rotation=0,horizontalalignment='right')\n",
    "\n",
    "plt.tight_layout()\n",
    "plt.show()"
   ]
  },
  {
   "cell_type": "markdown",
   "metadata": {},
   "source": [
    "# $E_f = 3.$"
   ]
  },
  {
   "cell_type": "code",
   "execution_count": 11,
   "metadata": {},
   "outputs": [
    {
     "name": "stdout",
     "output_type": "stream",
     "text": [
      "The number of centers:  1\n"
     ]
    },
    {
     "data": {
      "image/png": "[encoded data removed]",
      "text/plain": [
       "<Figure size 300x200 with 1 Axes>"
      ]
     },
     "metadata": {},
     "output_type": "display_data"
    }
   ],
   "source": [
    "gap_type = 'point'\n",
    "E_ref = 3.\n",
    "generator = Generator(hamiltonian=HatanoNelson1D(E_ref=E_ref), gap_type=gap_type)\n",
    "\n",
    "n_sample = 100\n",
    "#models, vs = generator.generate_models(n_sample)\n",
    "models, vs = generator.generate_models(n_sample)\n",
    "n = generator.get_n()\n",
    "\n",
    "cluster = Cluster(similarity_function= topology_comparator,  verbose=False)\n",
    "center_indices, group_number = cluster.fit(models)\n",
    "print(\"The number of centers: \", len(center_indices))\n",
    "\n",
    "plt.figure(figsize=(3,2))\n",
    "plt.bar(np.arange(len(group_number))+1, group_number)\n",
    "plt.xlim([0.5,len(group_number)+0.5])\n",
    "plt.xticks(list(range(1,len(group_number)+1)),fontsize=20)\n",
    "plt.ylim([0, np.max(group_number)*1.1])\n",
    "plt.yticks([0, int(np.max(group_number)/2), int(np.max(group_number))],fontsize=20)\n",
    "plt.xlabel(r\"$c$\",fontsize=20)\n",
    "plt.ylabel(r\"$M$\",fontsize=20,rotation=0,horizontalalignment='right')\n",
    "plt.show()"
   ]
  },
  {
   "cell_type": "code",
   "execution_count": 13,
   "metadata": {},
   "outputs": [
    {
     "data": {
      "image/png": "[encoded data removed]",
      "text/plain": [
       "<Figure size 400x400 with 1 Axes>"
      ]
     },
     "metadata": {},
     "output_type": "display_data"
    }
   ],
   "source": [
    "classifier = Classifier(similarity_func=topology_comparator, cluster_centers=[models[index] for index in center_indices])\n",
    "n1 = 51\n",
    "J1 = 1.0\n",
    "J2s = np.linspace(0.001,1.999,n1)\n",
    "v_list = np.zeros(n1)\n",
    "\n",
    "for i in range(n1):\n",
    "    hamiltonian = HatanoNelson1D(E_ref=E_ref)\n",
    "    hamiltonian.set_parameters(J1=J1, J2=J2s[i])\n",
    "    _model = NonHermitianTopologicalModel(hamiltonian=hamiltonian, gap_type=gap_type)\n",
    "    v_list[i] = classifier.classify(_model)\n",
    "\n",
    "plt.figure(figsize=(4,4))\n",
    "plt.plot(J2s, v_list,'-o')\n",
    "plt.xticks([0, 1, 2],fontsize=20)\n",
    "plt.yticks(range(1, len(group_number)+1),fontsize=20)\n",
    "plt.xlim([-0.05, 2.05])\n",
    "plt.ylim([1-0.05,len(group_number)+.05])\n",
    "plt.xlabel(r\"$J_2/J_1$\",fontsize=20)\n",
    "plt.ylabel(r\"c\",fontsize=20,rotation=0,horizontalalignment='right')\n",
    "\n",
    "plt.tight_layout()\n",
    "plt.show()"
   ]
  },
  {
   "cell_type": "markdown",
   "metadata": {},
   "source": [
    "# $E_f = 0.8-0.4j $"
   ]
  },
  {
   "cell_type": "code",
   "execution_count": 14,
   "metadata": {},
   "outputs": [
    {
     "name": "stdout",
     "output_type": "stream",
     "text": [
      "The number of centers:  2\n"
     ]
    },
    {
     "data": {
      "image/png": "[encoded data removed]",
      "text/plain": [
       "<Figure size 300x200 with 1 Axes>"
      ]
     },
     "metadata": {},
     "output_type": "display_data"
    }
   ],
   "source": [
    "gap_type = 'point'\n",
    "E_ref = 0.8-0.4j\n",
    "generator = Generator(hamiltonian=HatanoNelson1D(E_ref=E_ref), gap_type=gap_type)\n",
    "\n",
    "n_sample = 100\n",
    "#models, vs = generator.generate_models(n_sample)\n",
    "models, vs = generator.generate_models(n_sample)\n",
    "n = generator.get_n()\n",
    "\n",
    "cluster = Cluster(similarity_function= topology_comparator,  verbose=False)\n",
    "center_indices, group_number = cluster.fit(models)\n",
    "print(\"The number of centers: \", len(center_indices))\n",
    "\n",
    "plt.figure(figsize=(3,2))\n",
    "plt.bar(np.arange(len(group_number))+1, group_number)\n",
    "plt.xlim([0.5,len(group_number)+0.5])\n",
    "plt.xticks(list(range(1,len(group_number)+1)),fontsize=20)\n",
    "plt.ylim([0, np.max(group_number)*1.1])\n",
    "plt.yticks([0, int(np.max(group_number)/2), int(np.max(group_number))],fontsize=20)\n",
    "plt.xlabel(r\"$c$\",fontsize=20)\n",
    "plt.ylabel(r\"$M$\",fontsize=20,rotation=0,horizontalalignment='right')\n",
    "plt.show()"
   ]
  },
  {
   "cell_type": "code",
   "execution_count": 15,
   "metadata": {},
   "outputs": [
    {
     "data": {
      "image/png": "[encoded data removed]",
      "text/plain": [
       "<Figure size 400x400 with 1 Axes>"
      ]
     },
     "metadata": {},
     "output_type": "display_data"
    }
   ],
   "source": [
    "classifier = Classifier(similarity_func=topology_comparator, cluster_centers=[models[index] for index in center_indices])\n",
    "n1 = 51\n",
    "J1 = 1.0\n",
    "J2s = np.linspace(0.001,1.999,n1)\n",
    "v_list = np.zeros(n1)\n",
    "\n",
    "for i in range(n1):\n",
    "    hamiltonian = HatanoNelson1D(E_ref=E_ref)\n",
    "    hamiltonian.set_parameters(J1=J1, J2=J2s[i])\n",
    "    _model = NonHermitianTopologicalModel(hamiltonian=hamiltonian, gap_type=gap_type)\n",
    "    v_list[i] = classifier.classify(_model)\n",
    "\n",
    "plt.figure(figsize=(4,4))\n",
    "plt.plot(J2s, v_list,'-o')\n",
    "plt.xticks([0, 1, 2],fontsize=20)\n",
    "plt.yticks(range(1, len(group_number)+1),fontsize=20)\n",
    "plt.xlim([-0.05, 2.05])\n",
    "plt.ylim([1-0.05,len(group_number)+.05])\n",
    "plt.xlabel(r\"$J_2/J_1$\",fontsize=20)\n",
    "plt.ylabel(r\"c\",fontsize=20,rotation=0,horizontalalignment='right')\n",
    "\n",
    "plt.tight_layout()\n",
    "plt.show()"
   ]
  },
  {
   "cell_type": "code",
   "execution_count": null,
   "metadata": {},
   "outputs": [],
   "source": []
  }
 ],
 "metadata": {
  "kernelspec": {
   "display_name": "base",
   "language": "python",
   "name": "python3"
  },
  "language_info": {
   "codemirror_mode": {
    "name": "ipython",
    "version": 3
   },
   "file_extension": ".py",
   "mimetype": "text/x-python",
   "name": "python",
   "nbconvert_exporter": "python",
   "pygments_lexer": "ipython3",
   "version": "3.9.18"
  },
  "orig_nbformat": 4
 },
 "nbformat": 4,
 "nbformat_minor": 2
}
