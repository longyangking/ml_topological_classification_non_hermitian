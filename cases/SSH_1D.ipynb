{
 "cells": [
  {
   "cell_type": "code",
   "execution_count": 1,
   "metadata": {},
   "outputs": [],
   "source": [
    "import sys \n",
    "sys.path.append(\"..\") \n",
    "\n",
    "#from topological_models import generator\n",
    "import numpy as np\n",
    "import numpy.linalg as LA\n",
    "\n",
    "from topology_model import NonHermitianHamiltonian, NonHermitianTopologicalModel\n",
    "import matplotlib.pyplot as plt\n",
    "from machine_learning import Cluster\n",
    "from machine_learning import Classifier\n",
    "from topology_model import sigma_0, sigma_x, sigma_y, sigma_z\n",
    "from topology_model import Generator\n",
    "from topology_model import topology_comparator, topology_verifier, obtain_phase_center_and_number"
   ]
  },
  {
   "cell_type": "markdown",
   "metadata": {},
   "source": [
    "# Define model"
   ]
  },
  {
   "cell_type": "code",
   "execution_count": 19,
   "metadata": {},
   "outputs": [],
   "source": [
    "class SSH1D(NonHermitianHamiltonian):\n",
    "    def __init__(self, E_ref=0.):\n",
    "        super().__init__(E_ref)\n",
    "        self.parameters = list()\n",
    "        self.initiate()\n",
    "\n",
    "    def get_n(self):\n",
    "        '''\n",
    "        n*n Hamiltonian\n",
    "        '''\n",
    "        return 2\n",
    "\n",
    "    def get_n_dim(self):\n",
    "        return 1\n",
    "\n",
    "    def get_parameters(self):\n",
    "        return self.parameters\n",
    "\n",
    "    def set_parameters(self, **kwargs):\n",
    "        self.parameters = kwargs['t1'], kwargs['t2'], kwargs['gamma']\n",
    "\n",
    "    def get_kpoints(self):\n",
    "        n_points = 5\n",
    "        kpoints = [[k] for k in np.linspace(0, np.pi, n_points)]\n",
    "        return kpoints\n",
    "\n",
    "    def initiate(self):\n",
    "        # different parameter region for the different gap type\n",
    "        t1 = 3*np.random.random()\n",
    "        #t1 = 2\n",
    "        #t1 = 2*np.random.random()\n",
    "        t2 = 1.\n",
    "        #gamma = 3*np.random.random()\n",
    "        gamma = 3.*np.random.random()\n",
    "\n",
    "        self.parameters = t1, t2, gamma\n",
    "\n",
    "    def is_real_line_gap(self):\n",
    "        t1, t2, gamma = self.parameters\n",
    "        # if not ((t1 >= t2 + gamma/2) \n",
    "        #         or (t1 <= -t2 - gamma/2) \n",
    "        #         or ((t1 >= t2 - gamma/2) and (t1 <= -t2 + gamma/2)) \n",
    "        #         or ((t1 <= t2 - gamma/2) and (t1 >= -t2 + gamma/2))):\n",
    "        #     return False\n",
    "        if not ((t1 >= t2 + gamma/2) \n",
    "                or (t1 <= -t2 - gamma/2) \n",
    "                or ((t1 <= t2 - gamma/2) and (t1 >= -t2 + gamma/2))):\n",
    "            return False\n",
    "        return True  \n",
    "    \n",
    "    def is_imaginary_line_gap(self):\n",
    "        return not self.is_real_line_gap()\n",
    "    \n",
    "    def get_Hamiltonian(self, k):\n",
    "        k = k[0]\n",
    "        hk = np.zeros((2,2), dtype=complex)\n",
    "        t1, t2, gamma = self.parameters\n",
    "        \n",
    "        hk = hk + (t1+t2*np.cos(k))*sigma_x + (t2*np.sin(k) - 1j/2*gamma)*sigma_y\n",
    "        hk = hk - self.E_ref*sigma_0\n",
    "\n",
    "        # if gap_type == 'point':\n",
    "        #     hk = hk - E_ref*sigma_0\n",
    "        #     hkc = np.transpose(np.conjugate(hk))\n",
    "        #     hk = np.block([[np.zeros(hk.shape), hk], [hkc, np.zeros(hk.shape)]])\n",
    "\n",
    "        return hk\n",
    "    \n",
    "class SSH1DPerturbation(NonHermitianHamiltonian):\n",
    "    def __init__(self, E_ref=0.):\n",
    "        super().__init__(E_ref)\n",
    "        self.parameters = list()\n",
    "        self.initiate()\n",
    "\n",
    "    def get_n(self):\n",
    "        '''\n",
    "        n*n Hamiltonian\n",
    "        '''\n",
    "        return 2\n",
    "\n",
    "    def get_n_dim(self):\n",
    "        return 1\n",
    "\n",
    "    def get_parameters(self):\n",
    "        return self.parameters\n",
    "\n",
    "    def set_parameters(self, **kwargs):\n",
    "        self.parameters = kwargs['t1'], kwargs['t2'], kwargs['m1'], kwargs['m2']\n",
    "\n",
    "    def get_kpoints(self):\n",
    "        n_points = 5\n",
    "        kpoints = [[k] for k in np.linspace(0,np.pi,n_points)]\n",
    "        return kpoints\n",
    "\n",
    "    def initiate(self):\n",
    "        # different parameter region for the different gap type\n",
    "        t1 = -1+2*np.random.random()\n",
    "        t2 = -1+2*np.random.random()\n",
    "        m1 = -1+2*np.random.random()\n",
    "        m2 = -1+2*np.random.random()\n",
    "        self.parameters = t1, t2, m1, m2\n",
    "    \n",
    "    def get_Hamiltonian(self, k):\n",
    "        k = k[0]\n",
    "        t1, t2, m1, m2 = self.parameters\n",
    "        \n",
    "        hk = m1*sigma_x + m2*sigma_y\n",
    "        hk = hk + (t1+t2*np.cos(k))*sigma_x + t2*np.sin(k)*sigma_y\n",
    "        hk = hk*0.1\n",
    "\n",
    "        return hk"
   ]
  },
  {
   "attachments": {},
   "cell_type": "markdown",
   "metadata": {},
   "source": [
    "# Point gap"
   ]
  },
  {
   "cell_type": "code",
   "execution_count": 20,
   "metadata": {},
   "outputs": [
    {
     "name": "stderr",
     "output_type": "stream",
     "text": [
      "/home/longyang/OSC/ml_topological_classification_non_-hermitian/cases/../topology_model/topology_comparator_utils.py:26: RuntimeWarning: divide by zero encountered in log10\n",
      "  return np.log10(a0)/epsilon\n",
      "/home/longyang/anaconda3/lib/python3.9/site-packages/scipy/optimize/_optimize.py:917: RuntimeWarning: invalid value encountered in subtract\n",
      "  np.max(np.abs(fsim[0] - fsim[1:])) <= fatol):\n",
      "/home/longyang/OSC/ml_topological_classification_non_-hermitian/cases/../topology_model/topology_comparator_utils.py:34: RuntimeWarning: divide by zero encountered in log10\n",
      "  if np.log10(np.abs(v)) < c_val:\n"
     ]
    },
    {
     "name": "stdout",
     "output_type": "stream",
     "text": [
      "[ 0  2  5 48]\n",
      "[218 213  63   6]\n",
      "The number of centers:  4\n"
     ]
    }
   ],
   "source": [
    "gap_type=\"point\"\n",
    "E_ref = 0.\n",
    "generator = Generator(hamiltonian=SSH1D(E_ref=E_ref), gap_type=gap_type)\n",
    "\n",
    "n_sample = 500\n",
    "models, vs = generator.generate_models(n_sample)\n",
    "#Qs, vs = generator.generate(n_sample)\n",
    "n = generator.get_n()\n",
    "\n",
    "cluster = Cluster(similarity_function=topology_comparator, verbose=False)\n",
    "center_indices, group_number = cluster.fit(models)\n",
    "print(center_indices)\n",
    "print(group_number)\n",
    "print(\"The number of centers: \", len(center_indices))"
   ]
  },
  {
   "cell_type": "code",
   "execution_count": 21,
   "metadata": {},
   "outputs": [
    {
     "name": "stdout",
     "output_type": "stream",
     "text": [
      "The group number before introducing perturbations:  [218 213  63   6]\n",
      "(0.6314640546200945, 1.0, 2.1007404751951664)\n",
      "(2.5674995130451035, 1.0, 0.8544796741015228)\n",
      "(0.26798299323821895, 1.0, 1.3779263948030653)\n",
      "(0.03857094101158387, 1.0, 2.411644632015754)\n",
      "Gap type:  point\n",
      "Similarity matrix for the centers: \n",
      "[[1. 0. 1. 1.]\n",
      " [0. 1. 0. 0.]\n",
      " [1. 0. 1. 1.]\n",
      " [1. 0. 1. 1.]]\n",
      "\n",
      "The new group number: \n",
      "[0, 2]\n",
      "[287, 213]\n",
      "The number of phases:  2\n",
      "The number of phases:  2\n"
     ]
    }
   ],
   "source": [
    "print(\"The group number before introducing perturbations: \", group_number)\n",
    "\n",
    "center_models = [models[i] for i in center_indices]\n",
    "\n",
    "for model in center_models:\n",
    "    print(model.get_parameters())\n",
    "\n",
    "E_ref = 0.\n",
    "print(\"Gap type: \", gap_type)\n",
    "hamiltonian_perturbation = SSH1DPerturbation(E_ref=E_ref)\n",
    "generator = Generator(hamiltonian=hamiltonian_perturbation, gap_type=gap_type)\n",
    "\n",
    "n_sample = 100\n",
    "perturbations, vs = generator.generate_models(n_sample)\n",
    "#Qs, vs = generator.generate(n_sample)\n",
    "n = generator.get_n()\n",
    "\n",
    "n_center = len(center_models)\n",
    "similarity_center = np.zeros((n_center, n_center))\n",
    "for i in range(n_center):\n",
    "    for j in range(i, n_center):\n",
    "        similarity_center[i,j] = topology_verifier(center_models[i], center_models[j], perturbations)\n",
    "        similarity_center[j,i] = similarity_center[i,j]\n",
    "\n",
    "print(\"Similarity matrix for the centers: \")\n",
    "print(similarity_center)\n",
    "\n",
    "print()\n",
    "print(\"The new group number: \")\n",
    "\n",
    "new_center_indices = list()\n",
    "new_number_group = list()\n",
    "\n",
    "# Add the first element to the group\n",
    "new_center_indices.append(0)\n",
    "new_number_group.append(group_number[0])\n",
    "\n",
    "# cluster\n",
    "for i in range(1, n_center):\n",
    "    flag = True\n",
    "    for i_center_index in new_center_indices:\n",
    "        if similarity_center[i_center_index, i] > 0.5:\n",
    "            # topologically same\n",
    "            new_number_group[i_center_index] += group_number[i]\n",
    "            flag = False\n",
    "            break\n",
    "            \n",
    "    # topologically different\n",
    "    if flag:\n",
    "        new_center_indices.append(i)\n",
    "        new_number_group.append(group_number[i])\n",
    "                    \n",
    "print([center_indices[i] for i in new_center_indices])\n",
    "print(new_number_group)\n",
    "print(\"The number of phases: \", len(new_number_group))\n",
    "\n",
    "# hamiltonian_perturbation = SSH1DPerturbation(E_ref=E_ref)\n",
    "# generator = Generator(hamiltonian=hamiltonian_perturbation, gap_type=gap_type)\n",
    "\n",
    "# n_sample = 100\n",
    "# perturbations, vs = generator.generate_models(n_sample)\n",
    "new_center_indices, new_group_number = obtain_phase_center_and_number(center_indices, group_number, models, perturbations)\n",
    "print(\"The number of phases: \", len(new_group_number))"
   ]
  },
  {
   "cell_type": "code",
   "execution_count": 22,
   "metadata": {},
   "outputs": [
    {
     "data": {
      "image/png": "[encoded data removed]",
      "text/plain": [
       "<Figure size 300x300 with 1 Axes>"
      ]
     },
     "metadata": {},
     "output_type": "display_data"
    }
   ],
   "source": [
    "plt.figure(figsize=(3,3))\n",
    "plt.bar(np.arange(len(new_group_number))+1, new_group_number)\n",
    "plt.xlim([0.5,len(new_group_number)+0.5])\n",
    "plt.xticks(list(range(1,len(new_group_number)+1)),fontsize=20)\n",
    "plt.ylim([0, np.max(new_group_number)*1.1])\n",
    "plt.yticks([0, int(np.max(new_group_number)/2), int(np.max(new_group_number))],fontsize=20)\n",
    "plt.xlabel(r\"$c$\",fontsize=20)\n",
    "plt.ylabel(r\"$M$\",fontsize=20,rotation=0,horizontalalignment='right')\n",
    "plt.show()"
   ]
  },
  {
   "cell_type": "markdown",
   "metadata": {},
   "source": [
    "# Phase Diagram (point gap)"
   ]
  },
  {
   "cell_type": "code",
   "execution_count": 23,
   "metadata": {},
   "outputs": [
    {
     "name": "stdout",
     "output_type": "stream",
     "text": [
      "point\n"
     ]
    }
   ],
   "source": [
    "classifier = Classifier(similarity_func=topology_comparator, cluster_centers=[models[index] for index in new_center_indices])\n",
    "n1 = 51\n",
    "n2 = 51\n",
    "t1s = np.linspace(0.001,3,n1)\n",
    "gammas = np.linspace(0.001,3,n2)\n",
    "v_list = np.zeros((n1,n2))\n",
    "\n",
    "print(gap_type)\n",
    "\n",
    "for i in range(n1):\n",
    "    for j in range(n2):\n",
    "        hamiltonian = SSH1D(E_ref=0.)\n",
    "        hamiltonian.set_parameters(t1=t1s[i], t2=1., gamma=gammas[j])\n",
    "        _model = NonHermitianTopologicalModel(hamiltonian=hamiltonian, gap_type=gap_type)\n",
    "        v_list[i,j] = classifier.classify(_model)\n",
    "        print(i)"
   ]
  },
  {
   "cell_type": "code",
   "execution_count": 24,
   "metadata": {},
   "outputs": [
    {
     "data": {
      "image/png": "[encoded data removed]",
      "text/plain": [
       "<Figure size 400x400 with 2 Axes>"
      ]
     },
     "metadata": {},
     "output_type": "display_data"
    }
   ],
   "source": [
    "plt.figure(figsize=(4,4))\n",
    "plt.imshow(np.transpose(v_list), origin='lower',extent = [0,n1,0,n2])\n",
    "plt.xlabel(r\"$t_1$\",fontsize=20)\n",
    "plt.ylabel(r\"$\\gamma$\",fontsize=20,rotation=0,horizontalalignment='right')\n",
    "plt.xticks([0, n1/2, n1-1],[r\"0\", \"1.5\", r\"3\"],fontsize=20)\n",
    "plt.yticks([0, n2/2, n2-1],[r\"0\", \"1.5\", r\"3\"], fontsize=20)\n",
    "\n",
    "cb = plt.colorbar(ticks=range(len(center_indices)+1), fraction=0.046, pad=0.04)\n",
    "cb.ax.tick_params(labelsize=18)\n",
    "plt.tight_layout()\n",
    "plt.show()"
   ]
  },
  {
   "cell_type": "code",
   "execution_count": 25,
   "metadata": {},
   "outputs": [
    {
     "name": "stdout",
     "output_type": "stream",
     "text": [
      "1D_SSH_point\n"
     ]
    }
   ],
   "source": [
    "from tools import save_data, save_data_M\n",
    "\n",
    "name = \"1D_SSH_point\"\n",
    "save_data(new_center_indices, new_group_number, \"fig2_{0}_group_number.h5\".format(name))\n",
    "save_data_M(v_list, \"fig2_{0}_phase_diagram.h5\".format(name))\n",
    "print(name)"
   ]
  },
  {
   "attachments": {},
   "cell_type": "markdown",
   "metadata": {},
   "source": [
    "# Real line gap"
   ]
  },
  {
   "cell_type": "code",
   "execution_count": 3,
   "metadata": {},
   "outputs": [],
   "source": [
    "class SSH1D(NonHermitianHamiltonian):\n",
    "    def __init__(self, E_ref=0.):\n",
    "        super().__init__(E_ref)\n",
    "        self.parameters = list()\n",
    "        self.initiate()\n",
    "\n",
    "    def get_n(self):\n",
    "        '''\n",
    "        n*n Hamiltonian\n",
    "        '''\n",
    "        return 2\n",
    "\n",
    "    def get_n_dim(self):\n",
    "        return 1\n",
    "\n",
    "    def get_parameters(self):\n",
    "        return self.parameters\n",
    "\n",
    "    def set_parameters(self, **kwargs):\n",
    "        self.parameters = kwargs['t1'], kwargs['t2'], kwargs['gamma']\n",
    "\n",
    "    def get_kpoints(self):\n",
    "        n_points = 5\n",
    "        kpoints = [[k] for k in np.linspace(0, np.pi, n_points)]\n",
    "        return kpoints\n",
    "\n",
    "    def initiate(self):\n",
    "        # different parameter region for the different gap type\n",
    "        t1 = 3*np.random.random()\n",
    "        #t1 = 2\n",
    "        #t1 = 2*np.random.random()\n",
    "        t2 = 1.\n",
    "        #gamma = 3*np.random.random()\n",
    "        gamma = 3.*np.random.random()\n",
    "\n",
    "        self.parameters = t1, t2, gamma\n",
    "\n",
    "    def is_real_line_gap(self):\n",
    "        t1, t2, gamma = self.parameters\n",
    "        # if not ((t1 >= t2 + gamma/2) \n",
    "        #         or (t1 <= -t2 - gamma/2) \n",
    "        #         or ((t1 >= t2 - gamma/2) and (t1 <= -t2 + gamma/2)) \n",
    "        #         or ((t1 <= t2 - gamma/2) and (t1 >= -t2 + gamma/2))):\n",
    "        #     return False\n",
    "        if not ((t1 >= t2 + gamma/2) \n",
    "                or (t1 <= -t2 - gamma/2) \n",
    "                or ((t1 <= t2 - gamma/2) and (t1 >= -t2 + gamma/2))):\n",
    "            return False\n",
    "        return True  \n",
    "    \n",
    "    def is_imaginary_line_gap(self):\n",
    "        return not self.is_real_line_gap()\n",
    "    \n",
    "    def get_Hamiltonian(self, k):\n",
    "        k = k[0]\n",
    "        hk = np.zeros((2,2), dtype=complex)\n",
    "        t1, t2, gamma = self.parameters\n",
    "        \n",
    "        hk = hk + (t1+t2*np.cos(k))*sigma_x + (t2*np.sin(k) - 1j/2*gamma)*sigma_y\n",
    "        hk = hk - self.E_ref*sigma_0\n",
    "\n",
    "        # if gap_type == 'point':\n",
    "        #     hk = hk - E_ref*sigma_0\n",
    "        #     hkc = np.transpose(np.conjugate(hk))\n",
    "        #     hk = np.block([[np.zeros(hk.shape), hk], [hkc, np.zeros(hk.shape)]])\n",
    "\n",
    "        return hk\n",
    "    \n",
    "class SSH1DPerturbation(NonHermitianHamiltonian):\n",
    "    def __init__(self, E_ref=0.):\n",
    "        super().__init__(E_ref)\n",
    "        self.parameters = list()\n",
    "        self.initiate()\n",
    "\n",
    "    def get_n(self):\n",
    "        '''\n",
    "        n*n Hamiltonian\n",
    "        '''\n",
    "        return 2\n",
    "\n",
    "    def get_n_dim(self):\n",
    "        return 1\n",
    "\n",
    "    def get_parameters(self):\n",
    "        return self.parameters\n",
    "\n",
    "    def set_parameters(self, **kwargs):\n",
    "        self.parameters = kwargs['t1'], kwargs['t2'], kwargs['m1'], kwargs['m2']\n",
    "\n",
    "    def get_kpoints(self):\n",
    "        n_points = 5\n",
    "        kpoints = [[k] for k in np.linspace(0,np.pi,n_points)]\n",
    "        return kpoints\n",
    "\n",
    "    def initiate(self):\n",
    "        # different parameter region for the different gap type\n",
    "        t1 = -1+2*np.random.random()\n",
    "        t2 = -1+2*np.random.random()\n",
    "        m1 = -1+2*np.random.random()\n",
    "        m2 = -1+2*np.random.random()\n",
    "        self.parameters = t1, t2, m1, m2\n",
    "    \n",
    "    def get_Hamiltonian(self, k):\n",
    "        k = k[0]\n",
    "        t1, t2, m1, m2 = self.parameters\n",
    "        \n",
    "        hk = m1*sigma_x + m2*sigma_y\n",
    "        hk = hk + (t1+t2*np.cos(k))*sigma_x + t2*np.sin(k)*sigma_y\n",
    "        hk = hk*0.1\n",
    "\n",
    "        return hk"
   ]
  },
  {
   "cell_type": "code",
   "execution_count": 9,
   "metadata": {},
   "outputs": [
    {
     "name": "stdout",
     "output_type": "stream",
     "text": [
      "Number of samples:  519\n",
      "[0 2]\n",
      "[426  93]\n",
      "The number of centers:  2\n"
     ]
    }
   ],
   "source": [
    "gap_type=\"real line\"\n",
    "E_ref = 0.\n",
    "hamiltonian_model = SSH1D(E_ref=E_ref)\n",
    "generator = Generator(hamiltonian=hamiltonian_model, gap_type=gap_type)\n",
    "\n",
    "n_sample = 1000\n",
    "_models, vs = generator.generate_models(n_sample)\n",
    "#Qs, vs = generator.generate(n_sample)\n",
    "n = generator.get_n()\n",
    "\n",
    "models = list()\n",
    "for model in _models:\n",
    "    if model.is_real_line_gap():\n",
    "        models.append(model)\n",
    "\n",
    "print(\"Number of samples: \", len(models))\n",
    "\n",
    "cluster = Cluster(similarity_function=topology_comparator, verbose=False)\n",
    "center_indices, group_number = cluster.fit(models)\n",
    "print(center_indices)\n",
    "print(group_number)\n",
    "print(\"The number of centers: \", len(center_indices))"
   ]
  },
  {
   "cell_type": "code",
   "execution_count": 10,
   "metadata": {},
   "outputs": [
    {
     "name": "stdout",
     "output_type": "stream",
     "text": [
      "The number of phases:  2\n"
     ]
    }
   ],
   "source": [
    "# center_models = [models[i] for i in center_indices]\n",
    "# for model in center_models:\n",
    "#     print(model.get_parameters())\n",
    "\n",
    "E_ref = 0.\n",
    "hamiltonian_perturbation = SSH1DPerturbation(E_ref=E_ref)\n",
    "generator = Generator(hamiltonian=hamiltonian_perturbation, gap_type=gap_type)\n",
    "\n",
    "n_sample = 100\n",
    "perturbations, vs = generator.generate_models(n_sample)\n",
    "#Qs, vs = generator.generate(n_sample)\n",
    "# n = generator.get_n()\n",
    "\n",
    "# n_center = len(center_models)\n",
    "# similarity_center = np.zeros((n_center, n_center))\n",
    "# for i in range(n_center):\n",
    "#     for j in range(n_center):\n",
    "#         similarity_center[i,j] = topology_verifier(center_models[i], center_models[j], perturbations)\n",
    "\n",
    "# print(similarity_center)\n",
    "\n",
    "new_center_indices, new_group_number = obtain_phase_center_and_number(center_indices, group_number, models, perturbations)\n",
    "print(\"The number of phases: \", len(new_group_number))"
   ]
  },
  {
   "cell_type": "code",
   "execution_count": 11,
   "metadata": {},
   "outputs": [
    {
     "data": {
      "image/png": "[encoded data removed]",
      "text/plain": [
       "<Figure size 300x300 with 1 Axes>"
      ]
     },
     "metadata": {},
     "output_type": "display_data"
    }
   ],
   "source": [
    "plt.figure(figsize=(3,3))\n",
    "plt.bar(np.arange(len(new_group_number))+1, new_group_number)\n",
    "plt.xlim([0.5,len(new_group_number)+0.5])\n",
    "plt.xticks(list(range(1,len(new_group_number)+1)),fontsize=20)\n",
    "plt.ylim([0, np.max(new_group_number)*1.1])\n",
    "plt.yticks([0, int(np.max(new_group_number)/2), int(np.max(new_group_number))],fontsize=20)\n",
    "plt.xlabel(r\"$c$\",fontsize=20)\n",
    "plt.ylabel(r\"$M$\",fontsize=20,rotation=0,horizontalalignment='right')\n",
    "plt.show()"
   ]
  },
  {
   "cell_type": "markdown",
   "metadata": {},
   "source": [
    "# Phase diagram (real gap)"
   ]
  },
  {
   "cell_type": "code",
   "execution_count": 12,
   "metadata": {},
   "outputs": [
    {
     "name": "stderr",
     "output_type": "stream",
     "text": [
      "/home/longyang/OSC/ml_topological_classification_non_-hermitian/cases/../topology_model/topology_comparator_utils.py:26: RuntimeWarning: divide by zero encountered in log10\n",
      "  return np.log10(a0)/epsilon\n",
      "/home/longyang/anaconda3/lib/python3.9/site-packages/scipy/optimize/_optimize.py:917: RuntimeWarning: invalid value encountered in subtract\n",
      "  np.max(np.abs(fsim[0] - fsim[1:])) <= fatol):\n",
      "/home/longyang/OSC/ml_topological_classification_non_-hermitian/cases/../topology_model/topology_comparator_utils.py:34: RuntimeWarning: divide by zero encountered in log10\n",
      "  if np.log10(np.abs(v)) < c_val:\n"
     ]
    }
   ],
   "source": [
    "classifier = Classifier(similarity_func=topology_comparator, cluster_centers=[models[index] for index in new_center_indices])\n",
    "n1 = 51\n",
    "n2 = 51\n",
    "t1s = np.linspace(0,3,n1)\n",
    "gammas = np.linspace(0,3,n2)\n",
    "v_list = np.zeros((n1, n2))\n",
    "\n",
    "\n",
    "for i in range(n1):\n",
    "    for j in range(n2):\n",
    "        hamiltonian = SSH1D(E_ref=E_ref)\n",
    "        hamiltonian.set_parameters(t1=t1s[i], t2=1., gamma=gammas[j])\n",
    "        #print(hamiltonian.get_parameters())\n",
    "        if hamiltonian.is_real_line_gap():\n",
    "            _model = NonHermitianTopologicalModel(hamiltonian=hamiltonian, gap_type=\"real line\")\n",
    "            #v_list.append(1)\n",
    "            v_list[i,j] = classifier.classify(_model)"
   ]
  },
  {
   "cell_type": "code",
   "execution_count": 13,
   "metadata": {},
   "outputs": [
    {
     "data": {
      "image/png": "[encoded data removed]",
      "text/plain": [
       "<Figure size 400x400 with 2 Axes>"
      ]
     },
     "metadata": {},
     "output_type": "display_data"
    }
   ],
   "source": [
    "plt.figure(figsize=(4,4))\n",
    "plt.imshow(np.transpose(v_list), origin='lower',extent = [0,n1,0,n2])\n",
    "plt.xlabel(r\"$t_1$\",fontsize=20)\n",
    "plt.ylabel(r\"$\\gamma$\",fontsize=20,rotation=0,horizontalalignment='right')\n",
    "plt.xticks([0, n1/2, n1-1],[r\"0\", \"1.5\", r\"3\"],fontsize=20)\n",
    "plt.yticks([0, n2/2, n2-1],[r\"0\", \"1.5\", r\"3\"], fontsize=20)\n",
    "\n",
    "cb = plt.colorbar(ticks=range(len(center_indices)+1), fraction=0.046, pad=0.04)\n",
    "cb.ax.tick_params(labelsize=18)\n",
    "plt.tight_layout()\n",
    "plt.show()"
   ]
  },
  {
   "cell_type": "code",
   "execution_count": 14,
   "metadata": {},
   "outputs": [
    {
     "name": "stdout",
     "output_type": "stream",
     "text": [
      "1D_SSH_real\n"
     ]
    }
   ],
   "source": [
    "from tools import save_data, save_data_M\n",
    "\n",
    "name = \"1D_SSH_real\"\n",
    "save_data(new_center_indices, new_group_number, \"fig2_{0}_group_number.h5\".format(name))\n",
    "save_data_M(v_list, \"fig2_{0}_phase_diagram.h5\".format(name))\n",
    "print(name)"
   ]
  },
  {
   "cell_type": "markdown",
   "metadata": {},
   "source": [
    "# Imaginary line gap"
   ]
  },
  {
   "cell_type": "code",
   "execution_count": 15,
   "metadata": {},
   "outputs": [
    {
     "name": "stdout",
     "output_type": "stream",
     "text": [
      "Number of samples:  473\n",
      "[449  24]\n",
      "The number of centers:  2\n"
     ]
    }
   ],
   "source": [
    "gap_type=\"imaginary line\"\n",
    "E_ref = 0.\n",
    "hamiltonian = SSH1D(E_ref=E_ref)\n",
    "generator = Generator(hamiltonian=hamiltonian, gap_type=gap_type)\n",
    "\n",
    "n_sample = 1000\n",
    "_models, vs = generator.generate_models(n_sample)\n",
    "Qs, vs = generator.generate(n_sample)\n",
    "n = generator.get_n()\n",
    "\n",
    "models = list()\n",
    "for model in _models:\n",
    "    if model.is_imaginary_line_gap():\n",
    "        models.append(model)\n",
    "\n",
    "print(\"Number of samples: \", len(models))\n",
    "\n",
    "cluster = Cluster(similarity_function=topology_comparator, verbose=False)\n",
    "center_indices, group_number = cluster.fit(models)\n",
    "print(group_number)\n",
    "print(\"The number of centers: \", len(center_indices))"
   ]
  },
  {
   "cell_type": "code",
   "execution_count": 16,
   "metadata": {},
   "outputs": [
    {
     "name": "stdout",
     "output_type": "stream",
     "text": [
      "(0.2850732302443917, 1.0, 1.4504435269415332)\n",
      "(0.24063484716621641, 1.0, 2.791649639072496)\n",
      "[[1. 1.]\n",
      " [1. 1.]]\n",
      "The number of phases:  1\n",
      "Gap type:  imaginary line\n"
     ]
    }
   ],
   "source": [
    "center_models = [models[i] for i in center_indices]\n",
    "\n",
    "for model in center_models:\n",
    "    print(model.get_parameters())\n",
    "\n",
    "E_ref = 0.\n",
    "hamiltonian_perturbation = SSH1DPerturbation(E_ref=E_ref)\n",
    "generator = Generator(hamiltonian=hamiltonian_perturbation, gap_type=gap_type)\n",
    "\n",
    "n_sample = 100\n",
    "perturbations, vs = generator.generate_models(n_sample)\n",
    "#Qs, vs = generator.generate(n_sample)\n",
    "n = generator.get_n()\n",
    "\n",
    "n_center = len(center_models)\n",
    "similarity_center = np.zeros((n_center, n_center))\n",
    "for i in range(n_center):\n",
    "    for j in range(n_center):\n",
    "        similarity_center[i,j] = topology_verifier(center_models[i], center_models[j], perturbations)\n",
    "\n",
    "print(similarity_center)\n",
    "\n",
    "new_center_indices, new_group_number = obtain_phase_center_and_number(center_indices, group_number, models, perturbations)\n",
    "print(\"The number of phases: \", len(new_group_number))\n",
    "print(\"Gap type: \", gap_type)"
   ]
  },
  {
   "cell_type": "code",
   "execution_count": 17,
   "metadata": {},
   "outputs": [
    {
     "data": {
      "image/png": "[encoded data removed]",
      "text/plain": [
       "<Figure size 300x300 with 1 Axes>"
      ]
     },
     "metadata": {},
     "output_type": "display_data"
    }
   ],
   "source": [
    "plt.figure(figsize=(3,3))\n",
    "plt.bar(np.arange(len(new_group_number))+1, new_group_number)\n",
    "plt.xlim([0.5,len(new_group_number)+0.5])\n",
    "plt.xticks(list(range(1,len(new_group_number)+1)),fontsize=20)\n",
    "plt.ylim([0, np.max(new_group_number)*1.1])\n",
    "plt.yticks([0, int(np.max(new_group_number)/2), int(np.max(new_group_number))],fontsize=20)\n",
    "plt.xlabel(r\"$c$\",fontsize=20)\n",
    "plt.ylabel(r\"$M$\",fontsize=20,rotation=0,horizontalalignment='right')\n",
    "plt.show()"
   ]
  },
  {
   "cell_type": "code",
   "execution_count": 18,
   "metadata": {},
   "outputs": [
    {
     "name": "stdout",
     "output_type": "stream",
     "text": [
      "1D_SSH_imaginary\n"
     ]
    }
   ],
   "source": [
    "from tools import save_data, save_data_M\n",
    "\n",
    "name = \"1D_SSH_imaginary\"\n",
    "save_data(new_center_indices, new_group_number, \"fig2_{0}_group_number.h5\".format(name))\n",
    "#save_data_M(v_list, \"fig2_{0}_phase_diagram.h5\".format(name))\n",
    "print(name)"
   ]
  },
  {
   "cell_type": "code",
   "execution_count": null,
   "metadata": {},
   "outputs": [],
   "source": []
  }
 ],
 "metadata": {
  "kernelspec": {
   "display_name": "base",
   "language": "python",
   "name": "python3"
  },
  "language_info": {
   "codemirror_mode": {
    "name": "ipython",
    "version": 3
   },
   "file_extension": ".py",
   "mimetype": "text/x-python",
   "name": "python",
   "nbconvert_exporter": "python",
   "pygments_lexer": "ipython3",
   "version": "3.9.18"
  },
  "orig_nbformat": 4
 },
 "nbformat": 4,
 "nbformat_minor": 2
}
