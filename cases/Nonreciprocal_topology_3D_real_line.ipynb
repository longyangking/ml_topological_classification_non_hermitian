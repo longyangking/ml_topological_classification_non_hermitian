{
 "cells": [
  {
   "cell_type": "code",
   "execution_count": 1,
   "metadata": {},
   "outputs": [],
   "source": [
    "import sys \n",
    "sys.path.append(\"..\") \n",
    "\n",
    "#from topological_models import generator\n",
    "import numpy as np\n",
    "import numpy.linalg as LA\n",
    "import scipy.linalg as sLA\n",
    "\n",
    "from topology_model import NonHermitianHamiltonian, NonHermitianTopologicalModel\n",
    "import matplotlib.pyplot as plt\n",
    "from machine_learning import Cluster\n",
    "from machine_learning import Classifier\n",
    "from topology_model import sigma_0, sigma_x, sigma_y, sigma_z\n",
    "from topology_model import Generator\n",
    "from topology_model import topology_comparator, topology_verifier, obtain_phase_center_and_number"
   ]
  },
  {
   "cell_type": "code",
   "execution_count": null,
   "metadata": {},
   "outputs": [],
   "source": [
    "class NonreciprocalTopology3D(NonHermitianHamiltonian):\n",
    "    def __init__(self, E_ref=0.):\n",
    "        super().__init__(E_ref)\n",
    "        self.parameters = list()\n",
    "\n",
    "        self.initiate()\n",
    "\n",
    "    def get_Hamiltonian_background(self, k):\n",
    "        n = self.get_n()\n",
    "        #kx, ky, kz = k\n",
    "        t0, _ = self.parameters\n",
    "        hamiltonian = np.zeros((n,n),dtype=complex)\n",
    "\n",
    "        couplings = [\n",
    "            [1, 9, [0,0,0], t0], [1, 2, [0,0,0], -t0], [1, 8, [0,0,0], t0],\n",
    "            [2, 3, [0,0,0], -t0],\n",
    "            [3, 4, [0,0,0], -t0], [3, 10, [0,0,0], t0],\n",
    "            [4, 5, [0,0,0], -t0],\n",
    "            [5, 6, [0,0,0], -t0], [5, 11, [0,0,0], t0],\n",
    "            [6, 7, [0,0,0], -t0],\n",
    "            [7, 8, [0,0,0], t0], [7, 12, [0,0,0], t0],\n",
    "            [9, 13, [0,0,0], t0],\n",
    "            [10, 15, [0,0,0], t0],\n",
    "            [11, 17, [0,0,0], t0],\n",
    "            [12, 19, [0,0,0], t0],\n",
    "            [13, 14, [0,0,0], t0],\n",
    "            [13, 20, [0,0,0], -t0],\n",
    "            [14, 15, [0,0,0], t0],\n",
    "            [15, 16, [0,0,0], t0],\n",
    "            [16, 17, [0,0,0], t0],\n",
    "            [17, 18, [0,0,0], t0],\n",
    "            [18, 19, [0,0,0], t0],\n",
    "            [19, 20, [0,0,0], -t0],\n",
    "\n",
    "            [1, 21, [0,0,0], t0], [1, 22, [0,0,0], -t0], [1, 23, [0,0,0], t0],\n",
    "            [3, 24, [0,0,0], -t0], [3, 25, [0,0,0], t0], [3, 22, [0,-1,0], -t0],\n",
    "            [5, 26, [0,0,0], t0], [5, 27, [0,0,0], -t0], [5, 24, [1,0,0], -t0],\n",
    "            [7, 23, [1,0,0], t0], [7, 28, [0,0,0], t0], [7, 27, [0,1,0], -t0],\n",
    "            [13, 30, [0,0,0], t0], [13, 29, [0,0,0], -t0], [13, 21, [0,0,1], t0],\n",
    "            [15, 31, [0,0,0], t0], [15, 25, [0,0,1], t0], [15, 30, [0,-1,0], t0],\n",
    "            [17, 32, [0,0,0], t0], [17, 26, [0,0,1], t0], [17, 31, [1,0,0], t0],\n",
    "            [19, 28, [0,0,1], t0], [19, 29, [1,0,0], -t0], [19, 32, [0,1,0], t0]\n",
    "        ]\n",
    "\n",
    "        for coupling in couplings:        \n",
    "            i, j, R, c = coupling\n",
    "            i = i - 1\n",
    "            j = j - 1\n",
    "            hamiltonian[i,j] = hamiltonian[i,j] + c*np.exp(1j*(k @ np.array(R)))\n",
    "            hamiltonian[j,i] = hamiltonian[j,i] + np.conjugate(c*np.exp(1j*(k @ np.array(R))))\n",
    "\n",
    "        return hamiltonian\n",
    "\n",
    "    def get_n(self):\n",
    "        '''\n",
    "        n*n Hamiltonian\n",
    "        '''\n",
    "        return 32\n",
    "\n",
    "    def get_n_dim(self):\n",
    "        return 3\n",
    "\n",
    "    def get_parameters(self):\n",
    "        return self.parameters\n",
    "\n",
    "    def set_parameters(self, **kwargs):\n",
    "        self.parameters = kwargs['t0'], kwargs['epsilon']\n",
    "\n",
    "    def get_kpoints(self, n_points=3):    \n",
    "        # kpoints = list()\n",
    "        # for kx in np.linspace(-np.pi,np.pi,n_points):\n",
    "        #     for ky in np.linspace(-np.pi,np.pi,n_points):\n",
    "        #         for kz in np.linspace(-np.pi,np.pi,n_points):\n",
    "        #             kpoints.append([kx, ky, kz])\n",
    "        kpoints = [ik*np.array([0,np.pi,0]) + np.array([0,0,0]) for ik in np.arange(0, 1, 1/n_points)]\n",
    "        kpoints += [ik*np.array([np.pi,0,0]) + np.array([0,np.pi,0]) for ik in np.arange(0, 1, 1/n_points)]\n",
    "        kpoints += [ik*np.array([-np.pi,-np.pi,0]) + np.array([np.pi,np.pi,0]) for ik in np.arange(0, 1, 1/n_points)]\n",
    "        kpoints += [ik*np.array([np.pi,np.pi,np.pi]) + np.array([0,0,0]) for ik in np.arange(0, 1, 1/n_points)]\n",
    "        kpoints += [ik*np.array([0,0,np.pi]) + np.array([np.pi,np.pi,np.pi]) for ik in np.arange(0, 1+1/n_points, 1/n_points)]\n",
    "\n",
    "        return kpoints\n",
    "\n",
    "    def initiate(self):\n",
    "        t0 = 1\n",
    "        epsilon = 10*np.random.random()\n",
    "        self.parameters = t0, epsilon\n",
    "\n",
    "    def is_real_line_gap(self):\n",
    "        kpoints = self.get_kpoints(n_points=21)\n",
    "\n",
    "        hk = self.get_Hamiltonian([0,0,0])\n",
    "        Es = LA.eigvals(hk)\n",
    "        n_occ = np.sum(np.real(Es)<0.)\n",
    "\n",
    "        for kpoint in kpoints:\n",
    "            hk = self.get_Hamiltonian(kpoint)\n",
    "            Es = LA.eigvals(hk)\n",
    "            if np.sum(np.real(Es)<0.) != n_occ:\n",
    "                return False\n",
    "        return True  \n",
    "    \n",
    "    def is_imaginary_line_gap(self):\n",
    "        return not self.is_real_line_gap()\n",
    "    \n",
    "    def get_Hamiltonian(self, k):\n",
    "        #kx, ky, kz = k\n",
    "        #hk = np.zeros((4,4), dtype=complex)\n",
    "        t0, epsilon = self.parameters\n",
    "        t1 = t0*epsilon\n",
    "        t2 = t0/epsilon\n",
    "        kappa = t2 - t1\n",
    "        h0 = t1/t0*self.get_Hamiltonian_background(k)\n",
    "\n",
    "        n = self.get_n()\n",
    "        gamma = np.zeros((n, n), dtype=complex)\n",
    "\n",
    "        nonreciprocal_couplings = [\n",
    "            [2,1,[0,0,0],-kappa], [2,3,[0,0,0],-kappa],\n",
    "            [4,3,[0,0,0],-kappa], [4,5,[0,0,0],-kappa],\n",
    "            [6,5,[0,0,0],-kappa], [6,7,[0,0,0],-kappa],\n",
    "            [8,7,[0,0,0],kappa], [8,1,[0,0,0],kappa],\n",
    "\n",
    "            [9,1,[0,0,0],kappa], [9,13,[0,0,0],kappa],\n",
    "            [10,3,[0,0,0],kappa], [10,15,[0,0,0],kappa],\n",
    "            [11,5,[0,0,0],kappa], [11,17,[0,0,0],kappa],\n",
    "            [12,7,[0,0,0],kappa], [12,19,[0,0,0],kappa],\n",
    "\n",
    "            [14,13,[0,0,0],kappa], [14,15,[0,0,0],kappa],\n",
    "            [16,15,[0,0,0],kappa], [16,17,[0,0,0],kappa],\n",
    "            [18,17,[0,0,0],kappa], [18,19,[0,0,0],kappa],\n",
    "            [20,13,[0,0,0],-kappa], [20,19,[0,0,0],-kappa]\n",
    "        ]\n",
    "        for coupling in nonreciprocal_couplings:\n",
    "            i,j,R,c = coupling\n",
    "            i = i - 1\n",
    "            j = j - 1\n",
    "            gamma[i,j] = gamma[i,j] + c*np.exp(1j*(k @ np.array(R)))\n",
    "\n",
    "        hk =  h0 + gamma \n",
    "        if epsilon > 1:\n",
    "            hk = hk/t1*t0\n",
    "        hk = hk - self.E_ref*np.identity(n)\n",
    "\n",
    "        return hk\n",
    "    \n",
    "class NonreciprocalTopology3DPerturbation(NonreciprocalTopology3D):\n",
    "    def __init__(self, E_ref=0.):\n",
    "        super().__init__(E_ref)\n",
    "        self.parameters = list()\n",
    "        self.initiate()\n",
    "\n",
    "    def initiate(self):\n",
    "        # different parameter region for the different gap type\n",
    "        t0 = -1 + 2*np.random.random()\n",
    "        epsilon = 10*np.random.random()\n",
    "        self.parameters = t0, epsilon\n",
    "    \n",
    "    def get_Hamiltonian(self, k):\n",
    "        hk = super().get_Hamiltonian(k)\n",
    "        hk = hk*0.05\n",
    "        return hk"
   ]
  },
  {
   "cell_type": "code",
   "execution_count": 67,
   "metadata": {},
   "outputs": [
    {
     "name": "stdout",
     "output_type": "stream",
     "text": [
      "(251, 32)\n"
     ]
    },
    {
     "data": {
      "image/png": "[encoded data removed]",
      "text/plain": [
       "<Figure size 640x480 with 1 Axes>"
      ]
     },
     "metadata": {},
     "output_type": "display_data"
    }
   ],
   "source": [
    "gap_type=\"real line\"\n",
    "E_ref = -1.2\n",
    "hamiltonian_model = NonreciprocalTopology3D(E_ref=E_ref)\n",
    "\n",
    "hamiltonian_model.set_parameters(t0=1.0, epsilon=3.)\n",
    "kpoints = hamiltonian_model.get_kpoints(n_points=50)\n",
    "n = hamiltonian_model.get_n()\n",
    "vs = np.zeros((len(kpoints), n), dtype=complex)\n",
    "ks = np.zeros((len(kpoints), n))\n",
    "for ik, k in enumerate(kpoints):\n",
    "    ks[ik] = ik*np.ones(n)\n",
    "    vs[ik] = LA.eigvals(hamiltonian_model.get_Hamiltonian(k))\n",
    "\n",
    "print(vs.shape)\n",
    "plt.scatter(ks.flatten(),(np.real(vs)).flatten(),s=3)\n",
    "plt.show()"
   ]
  },
  {
   "cell_type": "code",
   "execution_count": 68,
   "metadata": {},
   "outputs": [
    {
     "name": "stdout",
     "output_type": "stream",
     "text": [
      "1.0000000000000002\n",
      "37.0\n",
      "Error in calculating the eigenvectors, not full biorthogonal [1.1460317376347926]\n"
     ]
    },
    {
     "data": {
      "image/png": "[encoded data removed]",
      "text/plain": [
       "<Figure size 640x480 with 2 Axes>"
      ]
     },
     "metadata": {},
     "output_type": "display_data"
    }
   ],
   "source": [
    "hk = hamiltonian_model.get_Hamiltonian([0.03,  0.    ,0.     ])\n",
    "\n",
    "values, Lvectors, Rvectors = sLA.eig(hk, left=True, right=True)\n",
    "Rvectors = np.transpose(Rvectors)\n",
    "Lvectors = np.transpose(Lvectors)\n",
    "\n",
    "for i in range(len(values)):\n",
    "    _v = np.conjugate(Lvectors[i]).dot(Rvectors[i])\n",
    "    Lvectors[i] = np.conjugate(1/np.sqrt(_v))*Lvectors[i]\n",
    "    Rvectors[i] = 1/np.sqrt(_v)*Rvectors[i]\n",
    "\n",
    "\n",
    "Mmat = np.zeros((len(values), len(values)),dtype=complex)\n",
    "for i in range(len(values)):\n",
    "    for j in range(len(values)):\n",
    "        Mmat[i,j] = np.conjugate(Lvectors[i]).dot(Rvectors[j])\n",
    "Lvectors = np.conjugate(np.transpose(LA.inv(Mmat))).dot(Lvectors)\n",
    "\n",
    "#print(np.abs(Mmat[:5,:5]))\n",
    "print(np.abs(LA.det(Mmat)))\n",
    "\n",
    "plt.figure()\n",
    "plt.imshow(np.abs(Mmat))\n",
    "plt.colorbar()\n",
    "\n",
    "# normalize\n",
    "Umat = np.zeros((len(values), len(values)),dtype=complex)\n",
    "for i in range(len(values)):\n",
    "    for j in range(len(values)):\n",
    "        Umat[i,j] = np.conjugate(Lvectors[i]).dot(Rvectors[j])\n",
    "Lvectors = np.conjugate(np.transpose(LA.inv(Umat))).dot(Lvectors)\n",
    "\n",
    "# print(np.abs(sLA.det(Umat)))\n",
    "\n",
    "# plt.figure()\n",
    "# plt.imshow(np.abs(Umat))\n",
    "\n",
    "Fmat = np.zeros((len(values), len(values)),dtype=complex)\n",
    "for i in range(len(values)):\n",
    "    for j in range(len(values)):\n",
    "        Fmat[i,j] = np.conjugate(Lvectors[i]).dot(Rvectors[j])\n",
    "\n",
    "# plt.figure()\n",
    "# plt.imshow(np.abs(Fmat))\n",
    "\n",
    "check_biorthogonal = 0\n",
    "for i in range(len(values)):\n",
    "    check_biorthogonal += np.real(np.conjugate(Lvectors[i]).dot(Rvectors[i]))\n",
    "\n",
    "print(np.round(check_biorthogonal))\n",
    "\n",
    "if np.round(check_biorthogonal) != len(values):\n",
    "    print(\"Error in calculating the eigenvectors, not full biorthogonal [{0}]\".format(check_biorthogonal/len(values)))\n"
   ]
  },
  {
   "cell_type": "code",
   "execution_count": 69,
   "metadata": {},
   "outputs": [
    {
     "name": "stdout",
     "output_type": "stream",
     "text": [
      "Number of samples:  410\n"
     ]
    },
    {
     "data": {
      "image/png": "[encoded data removed]",
      "text/plain": [
       "<Figure size 200x200 with 1 Axes>"
      ]
     },
     "metadata": {},
     "output_type": "display_data"
    }
   ],
   "source": [
    "gap_type=\"real line\"\n",
    "E_ref = -1.2\n",
    "hamiltonian_model = NonreciprocalTopology3D(E_ref=E_ref)\n",
    "generator = Generator(hamiltonian=hamiltonian_model, gap_type=gap_type)\n",
    "\n",
    "n_sample = 500\n",
    "_models, vs = generator.generate_models(n_sample)\n",
    "#Qs, vs = generator.generate(n_sample)\n",
    "n = generator.get_n()\n",
    "\n",
    "models = list()\n",
    "for model in _models:\n",
    "    if model.is_real_line_gap():\n",
    "        models.append(model)\n",
    "\n",
    "print(\"Number of samples: \", len(models))\n",
    "\n",
    "epsilons = np.zeros(len(models))\n",
    "for im in range(len(models)):\n",
    "    _, epsilon = models[im].get_parameters()\n",
    "    epsilons[im] = epsilon\n",
    "\n",
    "plt.figure(figsize=(2,2))\n",
    "plt.scatter(range(len(models)), epsilons)\n",
    "plt.show()"
   ]
  },
  {
   "cell_type": "code",
   "execution_count": 70,
   "metadata": {},
   "outputs": [
    {
     "name": "stdout",
     "output_type": "stream",
     "text": [
      "(1, 7.063482508366825)\n",
      "(251, 32)\n"
     ]
    },
    {
     "data": {
      "image/png": "[encoded data removed]",
      "text/plain": [
       "<Figure size 640x480 with 1 Axes>"
      ]
     },
     "metadata": {},
     "output_type": "display_data"
    }
   ],
   "source": [
    "index = 3\n",
    "kpoints = models[index].hamiltonian.get_kpoints(n_points=50)\n",
    "print(models[index].get_parameters())\n",
    "n = models[index].get_n()\n",
    "vs = np.zeros((len(kpoints), n), dtype=complex)\n",
    "ks = np.zeros((len(kpoints), n))\n",
    "for ik, k in enumerate(kpoints):\n",
    "    ks[ik] = ik*np.ones(n)\n",
    "    vs[ik] = LA.eigvals(models[index].get_Hamiltonian(k))\n",
    "\n",
    "print(vs.shape)\n",
    "plt.scatter(ks.flatten(),(np.real(vs)).flatten(),s=3)\n",
    "plt.show()"
   ]
  },
  {
   "cell_type": "code",
   "execution_count": 71,
   "metadata": {},
   "outputs": [],
   "source": [
    "def sfunc(Q1, Q2, c_val=-10):\n",
    "    n_k = len(Q1)\n",
    "    for i in range(n_k):\n",
    "        _Q = Q1[i]+Q2[i]\n",
    "        #print(np.log10(np.abs(np.linalg.eigvalsh(_Q))))\n",
    "        for v in np.real(np.linalg.eigvals(_Q)):\n",
    "            if np.log10(np.abs(v)) < c_val:\n",
    "                return 0    # has a cross\n",
    "    return 1\n",
    "\n",
    "def fast_topology_comparator(topological_model1, topological_model2, kpoints, perturbation=None):\n",
    "    '''\n",
    "    Compare two topological models, return the similiarity\n",
    "    '''\n",
    "    for k in kpoints:\n",
    "        Q1 = topological_model1.calculate_Q(kpoints=[k], perturbation=perturbation)\n",
    "        Q2 = topological_model2.calculate_Q(kpoints=[k], perturbation=perturbation)\n",
    "        if sfunc(Q1, Q2) == 0:\n",
    "            return 0\n",
    "\n",
    "    return 1"
   ]
  },
  {
   "cell_type": "code",
   "execution_count": 72,
   "metadata": {},
   "outputs": [
    {
     "name": "stdout",
     "output_type": "stream",
     "text": [
      "Start to cluster data by my own method with the size as [410] with sc = 0.5.\n",
      "Clustering ... \n",
      "A sample with new topological phase detected! [12]\n",
      "Done. Spend time as [51.543 seconds]\n",
      "[ 0 12]\n",
      "[390  20]\n",
      "The number of centers:  2\n"
     ]
    }
   ],
   "source": [
    "from functools import partial\n",
    "similarity_func = partial(fast_topology_comparator, kpoints=hamiltonian_model.get_kpoints())\n",
    "cluster = Cluster(similarity_function=similarity_func, verbose=True)\n",
    "center_indices, group_number = cluster.fit(models)\n",
    "print(center_indices)\n",
    "print(group_number)\n",
    "print(\"The number of centers: \", len(center_indices))\n",
    "\n",
    "# cluster = Cluster(similarity_function=topology_comparator, verbose=True)\n",
    "# center_indices, group_number = cluster.fit(models)\n",
    "# print(center_indices)\n",
    "# print(group_number)\n",
    "# print(\"The number of centers: \", len(center_indices))"
   ]
  },
  {
   "cell_type": "code",
   "execution_count": 74,
   "metadata": {},
   "outputs": [
    {
     "name": "stdout",
     "output_type": "stream",
     "text": [
      "(1, 6.691363682896468)\n",
      "(1, 0.22566445106895427)\n",
      "[[1. 0.]\n",
      " [0. 1.]]\n"
     ]
    }
   ],
   "source": [
    "center_models = [models[i] for i in center_indices]\n",
    "\n",
    "for model in center_models:\n",
    "    print(model.get_parameters())\n",
    "\n",
    "hamiltonian_perturbation = NonreciprocalTopology3DPerturbation(E_ref=E_ref)\n",
    "generator = Generator(hamiltonian=hamiltonian_perturbation, gap_type=gap_type)\n",
    "\n",
    "n_sample = 10\n",
    "perturbations, vs = generator.generate_models(n_sample)\n",
    "#Qs, vs = generator.generate(n_sample)\n",
    "n = generator.get_n()\n",
    "\n",
    "n_center = len(center_models)\n",
    "similarity_center = np.zeros((n_center, n_center))\n",
    "for i in range(n_center):\n",
    "    for j in range(n_center):\n",
    "        _similarity = 0\n",
    "        for perturbation in perturbations:\n",
    "            if (similarity_func(center_models[i], center_models[j], kpoints=hamiltonian_model.get_kpoints(), perturbation=perturbation) > 0):\n",
    "                _similarity = 1\n",
    "        similarity_center[i,j] = _similarity\n",
    "\n",
    "print(similarity_center)"
   ]
  },
  {
   "cell_type": "code",
   "execution_count": 75,
   "metadata": {},
   "outputs": [
    {
     "name": "stdout",
     "output_type": "stream",
     "text": [
      "Gap type:  real line\n",
      "The number of phases:  2\n",
      "[390, 20]\n"
     ]
    }
   ],
   "source": [
    "print(\"Gap type: \", gap_type)\n",
    "hamiltonian_perturbation = NonreciprocalTopology3DPerturbation(E_ref=E_ref)\n",
    "generator = Generator(hamiltonian=hamiltonian_perturbation, gap_type=gap_type)\n",
    "\n",
    "n_sample = 10\n",
    "perturbations, vs = generator.generate_models(n_sample)\n",
    "#Qs, vs = generator.generate(n_sample)\n",
    "n = generator.get_n()\n",
    "\n",
    "new_center_indices, new_group_number = obtain_phase_center_and_number(center_indices, group_number, models, perturbations, similarity_func=similarity_func)\n",
    "print(\"The number of phases: \", len(new_group_number))\n",
    "print(new_group_number)"
   ]
  },
  {
   "cell_type": "code",
   "execution_count": 76,
   "metadata": {},
   "outputs": [
    {
     "data": {
      "image/png": "[encoded data removed]",
      "text/plain": [
       "<Figure size 300x300 with 1 Axes>"
      ]
     },
     "metadata": {},
     "output_type": "display_data"
    }
   ],
   "source": [
    "plt.figure(figsize=(3,3))\n",
    "plt.bar(np.arange(len(new_group_number))+1, new_group_number)\n",
    "plt.xlim([0.5,len(new_group_number)+0.5])\n",
    "plt.xticks(list(range(1,len(new_group_number)+1)),fontsize=20)\n",
    "plt.ylim([0, np.max(new_group_number)*1.1])\n",
    "plt.yticks([0, int(np.max(new_group_number)/2), int(np.max(new_group_number))],fontsize=20)\n",
    "plt.xlabel(r\"$c$\",fontsize=20)\n",
    "plt.ylabel(r\"$M$\",fontsize=20,rotation=0,horizontalalignment='right')\n",
    "plt.show()"
   ]
  },
  {
   "cell_type": "code",
   "execution_count": 77,
   "metadata": {},
   "outputs": [],
   "source": [
    "classifier = Classifier(similarity_func=similarity_func, cluster_centers=[models[index] for index in center_indices])\n",
    "n1 = 201\n",
    "epsilons = np.linspace(0.001,3,n1)\n",
    "v_list = np.zeros(n1)\n",
    "\n",
    "for i in range(n1):\n",
    "    hamiltonian = NonreciprocalTopology3D(E_ref=E_ref)\n",
    "    hamiltonian.set_parameters(t0=1.0, epsilon=epsilons[i])\n",
    "    if hamiltonian.is_real_line_gap():\n",
    "        _model = NonHermitianTopologicalModel(hamiltonian=hamiltonian, gap_type=gap_type)\n",
    "        v_list[i] = classifier.classify(_model)"
   ]
  },
  {
   "cell_type": "code",
   "execution_count": 79,
   "metadata": {},
   "outputs": [
    {
     "data": {
      "image/png": "[encoded data removed]",
      "text/plain": [
       "<Figure size 400x400 with 1 Axes>"
      ]
     },
     "metadata": {},
     "output_type": "display_data"
    }
   ],
   "source": [
    "plt.figure(figsize=(4,4))\n",
    "plt.plot(epsilons, v_list,'-o')\n",
    "plt.xticks([0, 1.5, 3],fontsize=20)\n",
    "plt.yticks(range(0, len(group_number)+1),fontsize=20)\n",
    "plt.xlim([-0.05, 3.05])\n",
    "plt.ylim([-0.05,len(group_number)+.05])\n",
    "plt.xlabel(r\"$\\varepsilon$\",fontsize=20)\n",
    "plt.ylabel(r\"c\",fontsize=20,rotation=0,horizontalalignment='right')\n",
    "\n",
    "plt.tight_layout()\n",
    "plt.show()"
   ]
  },
  {
   "cell_type": "markdown",
   "metadata": {},
   "source": [
    "# Save data"
   ]
  },
  {
   "cell_type": "code",
   "execution_count": 80,
   "metadata": {},
   "outputs": [
    {
     "name": "stdout",
     "output_type": "stream",
     "text": [
      "3D_Nonreciprocal_topology\n"
     ]
    }
   ],
   "source": [
    "from tools import save_data, save_data_M\n",
    "\n",
    "name = \"3D_Nonreciprocal_topology\"\n",
    "save_data(new_center_indices, new_group_number, \"figs_{0}_group_number.h5\".format(name))\n",
    "save_data_M(v_list, \"figs_{0}_phase_diagram.h5\".format(name))\n",
    "print(name)"
   ]
  },
  {
   "cell_type": "code",
   "execution_count": null,
   "metadata": {},
   "outputs": [],
   "source": []
  }
 ],
 "metadata": {
  "kernelspec": {
   "display_name": "base",
   "language": "python",
   "name": "python3"
  },
  "language_info": {
   "codemirror_mode": {
    "name": "ipython",
    "version": 3
   },
   "file_extension": ".py",
   "mimetype": "text/x-python",
   "name": "python",
   "nbconvert_exporter": "python",
   "pygments_lexer": "ipython3",
   "version": "3.12.7"
  }
 },
 "nbformat": 4,
 "nbformat_minor": 2
}
