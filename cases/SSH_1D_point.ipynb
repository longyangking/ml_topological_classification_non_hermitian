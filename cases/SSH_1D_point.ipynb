{
 "cells": [
  {
   "cell_type": "code",
   "execution_count": 117,
   "metadata": {},
   "outputs": [],
   "source": [
    "import sys \n",
    "sys.path.append(\"..\") \n",
    "\n",
    "#from topological_models import generator\n",
    "import numpy as np\n",
    "import numpy.linalg as LA\n",
    "\n",
    "from topology_model import NonHermitianHamiltonian, NonHermitianTopologicalModel\n",
    "import matplotlib.pyplot as plt\n",
    "from machine_learning import Cluster\n",
    "from machine_learning import Classifier\n",
    "from topology_model import sigma_0, sigma_x, sigma_y, sigma_z\n",
    "from topology_model import Generator\n",
    "from topology_model import topology_comparator, topology_verifier, obtain_phase_center_and_number"
   ]
  },
  {
   "cell_type": "markdown",
   "metadata": {},
   "source": [
    "# Define model"
   ]
  },
  {
   "cell_type": "code",
   "execution_count": 123,
   "metadata": {},
   "outputs": [],
   "source": [
    "class SSH1D(NonHermitianHamiltonian):\n",
    "    def __init__(self, E_ref=0.):\n",
    "        super().__init__(E_ref)\n",
    "        self.parameters = list()\n",
    "        self.initiate()\n",
    "\n",
    "    def get_n(self):\n",
    "        '''\n",
    "        n*n Hamiltonian\n",
    "        '''\n",
    "        return 2\n",
    "\n",
    "    def get_n_dim(self):\n",
    "        return 1\n",
    "\n",
    "    def get_parameters(self):\n",
    "        return self.parameters\n",
    "\n",
    "    def set_parameters(self, **kwargs):\n",
    "        self.parameters = kwargs['t1'], kwargs['t2'], kwargs['gamma']\n",
    "\n",
    "    def get_kpoints(self):\n",
    "        n_points = 5\n",
    "        kpoints = [[k] for k in np.linspace(0, np.pi, n_points)]\n",
    "        return kpoints\n",
    "\n",
    "    def initiate(self):\n",
    "        # different parameter region for the different gap type\n",
    "        t1 = 3.*np.random.random()\n",
    "        t2 = 1.\n",
    "        gamma = 3.*np.random.random()\n",
    "\n",
    "        self.parameters = t1, t2, gamma\n",
    "\n",
    "    def is_real_line_gap(self):\n",
    "        t1, t2, gamma = self.parameters\n",
    "        # if not ((t1 >= t2 + gamma/2) \n",
    "        #         or (t1 <= -t2 - gamma/2) \n",
    "        #         or ((t1 >= t2 - gamma/2) and (t1 <= -t2 + gamma/2)) \n",
    "        #         or ((t1 <= t2 - gamma/2) and (t1 >= -t2 + gamma/2))):\n",
    "        #     return False\n",
    "        if not ((t1 >= t2 + gamma/2) \n",
    "                or (t1 <= -t2 - gamma/2) \n",
    "                or ((t1 <= t2 - gamma/2) and (t1 >= -t2 + gamma/2))):\n",
    "            return False\n",
    "        return True  \n",
    "    \n",
    "    def is_imaginary_line_gap(self):\n",
    "        return not self.is_real_line_gap()\n",
    "    \n",
    "    def get_Hamiltonian(self, k):\n",
    "        k = k[0]\n",
    "        hk = np.zeros((2,2), dtype=complex)\n",
    "        t1, t2, gamma = self.parameters\n",
    "        \n",
    "        hk = hk + (t1+t2*np.cos(k))*sigma_x + (t2*np.sin(k) + 1j/2*gamma)*sigma_y\n",
    "        hk = hk - self.E_ref*sigma_0\n",
    "\n",
    "        # if gap_type == 'point':\n",
    "        #     hk = hk - E_ref*sigma_0\n",
    "        #     hkc = np.transpose(np.conjugate(hk))\n",
    "        #     hk = np.block([[np.zeros(hk.shape), hk], [hkc, np.zeros(hk.shape)]])\n",
    "\n",
    "        return 10*hk\n",
    "    \n",
    "# class SSH1DPerturbation(NonHermitianHamiltonian):\n",
    "#     def __init__(self, E_ref=0.):\n",
    "#         super().__init__(E_ref)\n",
    "#         self.parameters = list()\n",
    "#         self.initiate()\n",
    "\n",
    "#     def get_n(self):\n",
    "#         '''\n",
    "#         n*n Hamiltonian\n",
    "#         '''\n",
    "#         return 2\n",
    "\n",
    "#     def get_n_dim(self):\n",
    "#         return 1\n",
    "\n",
    "#     def get_parameters(self):\n",
    "#         return self.parameters\n",
    "\n",
    "#     def set_parameters(self, **kwargs):\n",
    "#         self.parameters = kwargs['t1'], kwargs['t2'], kwargs['m1'], kwargs['m2']\n",
    "\n",
    "#     def get_kpoints(self):\n",
    "#         n_points = 5\n",
    "#         kpoints = [[k] for k in np.linspace(0,np.pi,n_points)]\n",
    "#         return kpoints\n",
    "\n",
    "#     def initiate(self):\n",
    "#         # different parameter region for the different gap type\n",
    "#         t1 = -1+2*np.random.random()\n",
    "#         t2 = -1+2*np.random.random()\n",
    "#         m1 = -1+2*np.random.random()\n",
    "#         m2 = -1+2*np.random.random()\n",
    "#         self.parameters = t1, t2, m1, m2\n",
    "    \n",
    "#     def get_Hamiltonian(self, k):\n",
    "#         k = k[0]\n",
    "#         t1, t2, m1, m2 = self.parameters\n",
    "        \n",
    "#         hk = m1*sigma_x + m2*sigma_y\n",
    "#         hk = hk + (t1+t2*np.cos(k))*sigma_x + t2*np.sin(k)*sigma_y\n",
    "#         hk += 0.5j*hk\n",
    "#         hk = hk*0.05\n",
    "\n",
    "#         return hk\n",
    "    \n",
    "class SSH1DPerturbation(NonHermitianHamiltonian):\n",
    "    def __init__(self, E_ref=0.):\n",
    "        super().__init__(E_ref)\n",
    "        self.parameters = list()\n",
    "        self.initiate()\n",
    "\n",
    "    def get_n(self):\n",
    "        '''\n",
    "        n*n Hamiltonian\n",
    "        '''\n",
    "        return 2\n",
    "\n",
    "    def get_n_dim(self):\n",
    "        return 1\n",
    "\n",
    "    def get_parameters(self):\n",
    "        return self.parameters\n",
    "\n",
    "    def set_parameters(self, **kwargs):\n",
    "        self.parameters = kwargs['t1'], kwargs['t2'], kwargs['gamma']\n",
    "\n",
    "    def get_kpoints(self):\n",
    "        n_points = 5\n",
    "        kpoints = [[k] for k in np.linspace(0, np.pi, n_points)]\n",
    "        return kpoints\n",
    "\n",
    "    def initiate(self):\n",
    "        # different parameter region for the different gap type\n",
    "        t1 = 3.*np.random.random()\n",
    "        t2 = 1.\n",
    "        gamma = 3.*np.random.random()\n",
    "\n",
    "        self.parameters = t1, t2, gamma\n",
    "\n",
    "    def is_real_line_gap(self):\n",
    "        t1, t2, gamma = self.parameters\n",
    "        # if not ((t1 >= t2 + gamma/2) \n",
    "        #         or (t1 <= -t2 - gamma/2) \n",
    "        #         or ((t1 >= t2 - gamma/2) and (t1 <= -t2 + gamma/2)) \n",
    "        #         or ((t1 <= t2 - gamma/2) and (t1 >= -t2 + gamma/2))):\n",
    "        #     return False\n",
    "        if not ((t1 >= t2 + gamma/2) \n",
    "                or (t1 <= -t2 - gamma/2) \n",
    "                or ((t1 <= t2 - gamma/2) and (t1 >= -t2 + gamma/2))):\n",
    "            return False\n",
    "        return True  \n",
    "    \n",
    "    def is_imaginary_line_gap(self):\n",
    "        return not self.is_real_line_gap()\n",
    "    \n",
    "    def get_Hamiltonian(self, k):\n",
    "        k = k[0]\n",
    "        hk = np.zeros((2,2), dtype=complex)\n",
    "        t1, t2, gamma = self.parameters\n",
    "        \n",
    "        hk = hk + (t1+t2*np.cos(k))*sigma_x + (t2*np.sin(k) + 1j/2*gamma)*sigma_y\n",
    "        hk = hk - self.E_ref*sigma_0\n",
    "\n",
    "        # if gap_type == 'point':\n",
    "        #     hk = hk - E_ref*sigma_0\n",
    "        #     hkc = np.transpose(np.conjugate(hk))\n",
    "        #     hk = np.block([[np.zeros(hk.shape), hk], [hkc, np.zeros(hk.shape)]])\n",
    "        hk = 0.5*hk\n",
    "\n",
    "        return hk"
   ]
  },
  {
   "attachments": {},
   "cell_type": "markdown",
   "metadata": {},
   "source": [
    "# Point gap"
   ]
  },
  {
   "cell_type": "code",
   "execution_count": 121,
   "metadata": {},
   "outputs": [
    {
     "name": "stderr",
     "output_type": "stream",
     "text": [
      "/home/longyang/OSC/ml_topological_classification_non_-hermitian/cases/../topology_model/topology_comparator_utils.py:26: RuntimeWarning: divide by zero encountered in log10\n",
      "  return np.log10(a0)/epsilon\n",
      "/home/longyang/anaconda3/lib/python3.9/site-packages/scipy/optimize/_optimize.py:917: RuntimeWarning: invalid value encountered in subtract\n",
      "  np.max(np.abs(fsim[0] - fsim[1:])) <= fatol):\n",
      "/home/longyang/OSC/ml_topological_classification_non_-hermitian/cases/../topology_model/topology_comparator_utils.py:34: RuntimeWarning: divide by zero encountered in log10\n",
      "  if np.log10(np.abs(v)) < c_val:\n"
     ]
    },
    {
     "name": "stdout",
     "output_type": "stream",
     "text": [
      "[  0   1   4 121]\n",
      "[216 216  54  14]\n",
      "The number of centers:  4\n"
     ]
    }
   ],
   "source": [
    "gap_type=\"point\"\n",
    "E_ref = 0.\n",
    "generator = Generator(hamiltonian=SSH1D(E_ref=E_ref), gap_type=gap_type)\n",
    "\n",
    "n_sample = 500\n",
    "models, vs = generator.generate_models(n_sample)\n",
    "n = generator.get_n()\n",
    "\n",
    "cluster = Cluster(similarity_function=topology_comparator, verbose=False)\n",
    "center_indices, group_number = cluster.fit(models)\n",
    "print(center_indices)\n",
    "print(group_number)\n",
    "print(\"The number of centers: \", len(center_indices))"
   ]
  },
  {
   "cell_type": "code",
   "execution_count": 124,
   "metadata": {},
   "outputs": [
    {
     "name": "stdout",
     "output_type": "stream",
     "text": [
      "The group number before introducing perturbations:  [216 216  54  14]\n",
      "[  0   1   4 121]\n",
      "parameters:\n",
      "(0.19588298644525703, 1.0, 2.188977197523668)\n",
      "(2.421592265343091, 1.0, 1.373610224234333)\n",
      "(0.35414322844729573, 1.0, 1.0133759038317676)\n",
      "(0.22566587341516442, 1.0, 2.472884664515887)\n",
      "Gap type:  point\n",
      "Similarity matrix for the centers: \n",
      "[[1. 0. 1. 1.]\n",
      " [0. 1. 0. 0.]\n",
      " [1. 0. 1. 1.]\n",
      " [1. 0. 1. 1.]]\n",
      "\n",
      "The new group number: \n",
      "[0, 1]\n",
      "[284, 216]\n",
      "The number of phases:  2\n"
     ]
    }
   ],
   "source": [
    "print(\"The group number before introducing perturbations: \", group_number)\n",
    "\n",
    "center_models = [models[i] for i in center_indices]\n",
    "\n",
    "\n",
    "print(center_indices)\n",
    "\n",
    "print(\"parameters:\")\n",
    "for model in center_models:\n",
    "    print(model.get_parameters())\n",
    "\n",
    "E_ref = 0.\n",
    "print(\"Gap type: \", gap_type)\n",
    "hamiltonian_perturbation = SSH1DPerturbation(E_ref=E_ref)\n",
    "generator = Generator(hamiltonian=hamiltonian_perturbation, gap_type=gap_type)\n",
    "\n",
    "n_sample = 10\n",
    "perturbations, vs = generator.generate_models(n_sample)\n",
    "#Qs, vs = generator.generate(n_sample)\n",
    "n = generator.get_n()\n",
    "\n",
    "n_center = len(center_models)\n",
    "similarity_center = np.zeros((n_center, n_center))\n",
    "for i in range(n_center):\n",
    "    for j in range(i, n_center):\n",
    "        similarity_center[i,j] = topology_verifier(center_models[i], center_models[j], perturbations)\n",
    "        similarity_center[j,i] = similarity_center[i,j]\n",
    "\n",
    "print(\"Similarity matrix for the centers: \")\n",
    "print(similarity_center)\n",
    "\n",
    "print()\n",
    "print(\"The new group number: \")\n",
    "\n",
    "new_center_indices = list()\n",
    "new_group_number  = list()\n",
    "\n",
    "# Add the first element to the group\n",
    "new_center_indices.append(0)\n",
    "new_group_number.append(group_number[0])\n",
    "\n",
    "# cluster\n",
    "for i in range(1, n_center):\n",
    "    flag = True\n",
    "    for i_center_index in new_center_indices:\n",
    "        if similarity_center[i_center_index, i] > 0.5:\n",
    "            # topologically same\n",
    "            new_group_number[i_center_index] += group_number[i]\n",
    "            flag = False\n",
    "            break\n",
    "            \n",
    "    # topologically different\n",
    "    if flag:\n",
    "        new_center_indices.append(i)\n",
    "        new_group_number.append(group_number[i])\n",
    "                    \n",
    "new_center_indices = [center_indices[i] for i in new_center_indices]\n",
    "print(new_center_indices)\n",
    "print(new_group_number)\n",
    "print(\"The number of phases: \", len(new_group_number))\n",
    "\n",
    "# hamiltonian_perturbation = SSH1DPerturbation(E_ref=E_ref)\n",
    "# generator = Generator(hamiltonian=hamiltonian_perturbation, gap_type=gap_type)\n",
    "\n",
    "# n_sample = 100\n",
    "# perturbations, vs = generator.generate_models(n_sample)\n",
    "# new_center_indices, new_group_number = obtain_phase_center_and_number(center_indices, group_number, models, perturbations)\n",
    "# print(\"The number of phases: \", len(new_group_number))"
   ]
  },
  {
   "cell_type": "code",
   "execution_count": 125,
   "metadata": {},
   "outputs": [
    {
     "data": {
      "image/png": "[encoded data removed]",
      "text/plain": [
       "<Figure size 300x300 with 1 Axes>"
      ]
     },
     "metadata": {},
     "output_type": "display_data"
    }
   ],
   "source": [
    "plt.figure(figsize=(3,3))\n",
    "plt.bar(np.arange(len(new_group_number))+1, new_group_number)\n",
    "plt.xlim([0.5,len(new_group_number)+0.5])\n",
    "plt.xticks(list(range(1,len(new_group_number)+1)),fontsize=20)\n",
    "plt.ylim([0, np.max(new_group_number)*1.1])\n",
    "plt.yticks([0, int(np.max(new_group_number)/2), int(np.max(new_group_number))],fontsize=20)\n",
    "plt.xlabel(r\"$c$\",fontsize=20)\n",
    "plt.ylabel(r\"$M$\",fontsize=20,rotation=0,horizontalalignment='right')\n",
    "plt.show()"
   ]
  },
  {
   "cell_type": "code",
   "execution_count": 126,
   "metadata": {},
   "outputs": [
    {
     "name": "stdout",
     "output_type": "stream",
     "text": [
      "(0.19588298644525703, 1.0, 2.188977197523668)\n",
      "(2.421592265343091, 1.0, 1.373610224234333)\n",
      "(0.35414322844729573, 1.0, 1.0133759038317676)\n",
      "(0.22566587341516442, 1.0, 2.472884664515887)\n",
      "Similarity matrix for the centers: \n",
      "[[1. 0. 1. 1.]\n",
      " [0. 1. 0. 0.]\n",
      " [1. 0. 1. 1.]\n",
      " [1. 0. 1. 1.]]\n",
      "new center:\n",
      "(0.19588298644525703, 1.0, 2.188977197523668)\n",
      "(2.421592265343091, 1.0, 1.373610224234333)\n"
     ]
    }
   ],
   "source": [
    "for model in [models[index] for index in center_indices]:\n",
    "    print(model.get_parameters())\n",
    "\n",
    "print(\"Similarity matrix for the centers: \")\n",
    "print(similarity_center)\n",
    "\n",
    "\n",
    "print(\"new center:\")\n",
    "for model in [models[index] for index in new_center_indices]:\n",
    "    print(model.get_parameters())"
   ]
  },
  {
   "cell_type": "markdown",
   "metadata": {},
   "source": [
    "# Phase Diagram (point gap)"
   ]
  },
  {
   "cell_type": "code",
   "execution_count": 127,
   "metadata": {},
   "outputs": [
    {
     "name": "stdout",
     "output_type": "stream",
     "text": [
      "point\n",
      "0\n",
      "1\n",
      "2\n",
      "3\n",
      "4\n"
     ]
    }
   ],
   "source": [
    "#from functools import partial\n",
    "\n",
    "#print(len(center_indices))\n",
    "\n",
    "#sfunc = partial(topology_verifier, perturbations=perturbations)\n",
    "classifier = Classifier(similarity_func=topology_comparator, cluster_centers=[models[index] for index in center_indices])\n",
    "n1 = 5\n",
    "n2 = 5\n",
    "t1s = np.linspace(0.001,3,n1)\n",
    "gammas = np.linspace(0.001,3,n2)\n",
    "v_list = np.zeros((n1,n2))\n",
    "\n",
    "print(gap_type)\n",
    "\n",
    "for i in range(n1):\n",
    "    for j in range(n2):\n",
    "        hamiltonian = SSH1D(E_ref=0.)\n",
    "        hamiltonian.set_parameters(t1=t1s[i], t2=1., gamma=gammas[j])\n",
    "        _model = NonHermitianTopologicalModel(hamiltonian=hamiltonian, gap_type=gap_type)\n",
    "        v_list[i,j] = classifier.classify(_model)\n",
    "    print(i)"
   ]
  },
  {
   "cell_type": "code",
   "execution_count": 128,
   "metadata": {},
   "outputs": [
    {
     "name": "stdout",
     "output_type": "stream",
     "text": [
      "[[0, 2, 3], [1]]\n"
     ]
    }
   ],
   "source": [
    "identical_indices = list()\n",
    "identical_indices.append([0])\n",
    "\n",
    "# cluster\n",
    "for i in range(1, n_center):\n",
    "    flag = False\n",
    "    index_g = None\n",
    "    for ig, indices in enumerate(identical_indices):\n",
    "        for index in indices:\n",
    "            if similarity_center[index, i] > 0.5:\n",
    "                # topologically same\n",
    "                flag = True\n",
    "                index_g = ig\n",
    "                break\n",
    "\n",
    "        if flag:\n",
    "            break    \n",
    "            \n",
    "    # topologically different\n",
    "    if flag:\n",
    "        identical_indices[ig].append(i)\n",
    "    else:\n",
    "        identical_indices.append([i])\n",
    "                    \n",
    "print(identical_indices)"
   ]
  },
  {
   "cell_type": "code",
   "execution_count": 129,
   "metadata": {},
   "outputs": [
    {
     "ename": "NameError",
     "evalue": "name 'name' is not defined",
     "output_type": "error",
     "traceback": [
      "\u001b[0;31m---------------------------------------------------------------------------\u001b[0m",
      "\u001b[0;31mNameError\u001b[0m                                 Traceback (most recent call last)",
      "\u001b[1;32m/home/longyang/OSC/ml_topological_classification_non_-hermitian/cases/SSH_1D_point.ipynb Cell 12\u001b[0m line \u001b[0;36m1\n\u001b[1;32m     <a href='vscode-notebook-cell://ssh-remote%2B7b22686f73744e616d65223a224750552d3937227d/home/longyang/OSC/ml_topological_classification_non_-hermitian/cases/SSH_1D_point.ipynb#X50sdnNjb2RlLXJlbW90ZQ%3D%3D?line=9'>10</a>\u001b[0m plt\u001b[39m.\u001b[39mylabel(\u001b[39mr\u001b[39m\u001b[39m\"\u001b[39m\u001b[39mc\u001b[39m\u001b[39m\"\u001b[39m,fontsize\u001b[39m=\u001b[39m\u001b[39m20\u001b[39m,rotation\u001b[39m=\u001b[39m\u001b[39m0\u001b[39m,horizontalalignment\u001b[39m=\u001b[39m\u001b[39m'\u001b[39m\u001b[39mright\u001b[39m\u001b[39m'\u001b[39m)\n\u001b[1;32m     <a href='vscode-notebook-cell://ssh-remote%2B7b22686f73744e616d65223a224750552d3937227d/home/longyang/OSC/ml_topological_classification_non_-hermitian/cases/SSH_1D_point.ipynb#X50sdnNjb2RlLXJlbW90ZQ%3D%3D?line=11'>12</a>\u001b[0m plt\u001b[39m.\u001b[39mtight_layout()\n\u001b[0;32m---> <a href='vscode-notebook-cell://ssh-remote%2B7b22686f73744e616d65223a224750552d3937227d/home/longyang/OSC/ml_topological_classification_non_-hermitian/cases/SSH_1D_point.ipynb#X50sdnNjb2RlLXJlbW90ZQ%3D%3D?line=12'>13</a>\u001b[0m plt\u001b[39m.\u001b[39msavefig(\u001b[39m'\u001b[39m\u001b[39mfig2_\u001b[39m\u001b[39m{0}\u001b[39;00m\u001b[39m_phase_diagram.svg\u001b[39m\u001b[39m'\u001b[39m\u001b[39m.\u001b[39mformat(name))\n\u001b[1;32m     <a href='vscode-notebook-cell://ssh-remote%2B7b22686f73744e616d65223a224750552d3937227d/home/longyang/OSC/ml_topological_classification_non_-hermitian/cases/SSH_1D_point.ipynb#X50sdnNjb2RlLXJlbW90ZQ%3D%3D?line=13'>14</a>\u001b[0m plt\u001b[39m.\u001b[39mshow()\n",
      "\u001b[0;31mNameError\u001b[0m: name 'name' is not defined"
     ]
    },
    {
     "data": {
      "image/png": "[encoded data removed]",
      "text/plain": [
       "<Figure size 400x400 with 1 Axes>"
      ]
     },
     "metadata": {},
     "output_type": "display_data"
    }
   ],
   "source": [
    "ldas = np.linspace(0.001,3, len(v_list))\n",
    "\n",
    "plt.figure(figsize=(4,4))\n",
    "plt.plot(ldas, v_list,'-o')\n",
    "plt.xticks([0, 1, 2, 3],fontsize=20)\n",
    "plt.yticks(range(1, len(group_number)+1),fontsize=20)\n",
    "plt.xlim([-0.05, 3.05])\n",
    "plt.ylim([1-0.05,len(group_number)+.05])\n",
    "plt.xlabel(r\"$\\tau$\",fontsize=20)\n",
    "plt.ylabel(r\"c\",fontsize=20,rotation=0,horizontalalignment='right')\n",
    "\n",
    "plt.tight_layout()\n",
    "plt.savefig('fig2_{0}_phase_diagram.svg'.format(name))\n",
    "plt.show()"
   ]
  },
  {
   "cell_type": "code",
   "execution_count": 111,
   "metadata": {},
   "outputs": [],
   "source": [
    "new_v_list = np.zeros((n1, n2))\n",
    "#new_v_list = v_list[:, :]\n",
    "\n",
    "for i in range(n1):\n",
    "    for j in range(n2):\n",
    "        for ig, indices in enumerate(identical_indices):\n",
    "            if (v_list[i,j]-1) in indices: # label from 1 in clustering algorithm\n",
    "                new_v_list[i,j] = ig + 1"
   ]
  },
  {
   "cell_type": "code",
   "execution_count": 130,
   "metadata": {},
   "outputs": [
    {
     "data": {
      "image/png": "[encoded data removed]",
      "text/plain": [
       "<Figure size 400x400 with 2 Axes>"
      ]
     },
     "metadata": {},
     "output_type": "display_data"
    }
   ],
   "source": [
    "n1, n2 = v_list.shape\n",
    "\n",
    "plt.figure(figsize=(4,4))\n",
    "plt.imshow(np.transpose(new_v_list), origin='lower',extent = [0,n1,0,n2])\n",
    "plt.xlabel(r\"$t_1$\",fontsize=20)\n",
    "plt.ylabel(r\"$\\gamma$\",fontsize=20, rotation=0, horizontalalignment='right')\n",
    "plt.xticks([0, n1/2, n1-1],[r\"0\", \"1.5\", r\"3\"],fontsize=20)\n",
    "plt.yticks([0, n2/2, n2-1],[r\"0\", \"1.5\", r\"3\"], fontsize=20)\n",
    "\n",
    "cb = plt.colorbar(ticks=range(1, len(center_indices)+1), fraction=0.046, pad=0.04)\n",
    "cb.ax.tick_params(labelsize=18)\n",
    "\n",
    "plt.tight_layout()\n",
    "plt.show()"
   ]
  },
  {
   "cell_type": "code",
   "execution_count": null,
   "metadata": {},
   "outputs": [],
   "source": [
    "# from tools import save_data, save_data_M\n",
    "\n",
    "# name = \"1D_SSH_point\"\n",
    "# save_data(new_center_indices, new_group_number, \"fig2_{0}_group_number.h5\".format(name))\n",
    "# save_data_M(v_list, \"fig2_{0}_phase_diagram.h5\".format(name))\n",
    "# print(name)"
   ]
  }
 ],
 "metadata": {
  "kernelspec": {
   "display_name": "base",
   "language": "python",
   "name": "python3"
  },
  "language_info": {
   "codemirror_mode": {
    "name": "ipython",
    "version": 3
   },
   "file_extension": ".py",
   "mimetype": "text/x-python",
   "name": "python",
   "nbconvert_exporter": "python",
   "pygments_lexer": "ipython3",
   "version": "3.9.18"
  },
  "orig_nbformat": 4
 },
 "nbformat": 4,
 "nbformat_minor": 2
}
