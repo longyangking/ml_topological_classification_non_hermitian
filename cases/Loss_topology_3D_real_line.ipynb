{
 "cells": [
  {
   "cell_type": "code",
   "execution_count": 1,
   "metadata": {},
   "outputs": [],
   "source": [
    "import sys \n",
    "sys.path.append(\"..\") \n",
    "\n",
    "#from topological_models import generator\n",
    "import numpy as np\n",
    "import numpy.linalg as LA\n",
    "import scipy.linalg as sLA\n",
    "\n",
    "from topology_model import NonHermitianHamiltonian, NonHermitianTopologicalModel\n",
    "import matplotlib.pyplot as plt\n",
    "from machine_learning import Cluster\n",
    "from machine_learning import Classifier\n",
    "from topology_model import sigma_0, sigma_x, sigma_y, sigma_z\n",
    "from topology_model import Generator\n",
    "from topology_model import topology_comparator, topology_verifier, obtain_phase_center_and_number"
   ]
  },
  {
   "cell_type": "code",
   "execution_count": 24,
   "metadata": {},
   "outputs": [],
   "source": [
    "class LossTopology3D(NonHermitianHamiltonian):\n",
    "    def __init__(self, E_ref=0.):\n",
    "        super().__init__(E_ref)\n",
    "        self.parameters = list()\n",
    "\n",
    "        self.initiate()\n",
    "\n",
    "    def get_Hamiltonian_background(self, k):\n",
    "        n = self.get_n()\n",
    "        #kx, ky, kz = k\n",
    "        t0, _, _ = self.parameters\n",
    "        hamiltonian = np.zeros((n,n),dtype=complex)\n",
    "\n",
    "        couplings = [\n",
    "            [1, 3, [0,0,0], t0], [1, 3, [1,0,0], t0],\n",
    "            [1, 4, [0,0,0], t0], [1, 4, [0,1,0], t0],\n",
    "            [1, 5, [0,0,0], t0], [1, 5, [0,0,1], t0],\n",
    "            [2, 3, [0,0,0], -t0], [3, 2, [0,1,0], -t0],\n",
    "            [2, 4, [0,0,0], t0], [4, 2, [1,0,0], t0],\n",
    "            [2, 6, [0,0,0], t0], [2, 6, [0,0,1], t0],\n",
    "            [3, 7, [0,0,0], t0], [3, 7, [0,0,1], t0],\n",
    "            [4, 8, [0,0,0], t0], [4, 8, [0,0,1], t0],\n",
    "            [5, 7, [0,0,0], -t0], [5, 7, [1,0,0], -t0],\n",
    "            [5, 8, [0,0,0], -t0], [5, 8, [0,1,0], -t0],\n",
    "            [6, 7, [0,0,0], t0], [7, 6, [0,1,0], t0],\n",
    "            [6, 8, [0,0,0], -t0], [8, 6, [1,0,0], -t0]\n",
    "        ]\n",
    "\n",
    "        # t1 = (1 + 1e-4*np.random.random())*t0\n",
    "        # couplings = [\n",
    "        #     [1, 3, [0,0,0], t0], [1, 3, [1,0,0], t1],\n",
    "        #     [1, 4, [0,0,0], t0], [1, 4, [0,1,0], t1],\n",
    "        #     [1, 5, [0,0,0], t0], [1, 5, [0,0,1], t1],\n",
    "        #     [2, 3, [0,0,0], -t0], [3, 2, [0,1,0], -t1],\n",
    "        #     [2, 4, [0,0,0], t0], [4, 2, [1,0,0], t1],\n",
    "        #     [2, 6, [0,0,0], t0], [2, 6, [0,0,1], t1],\n",
    "        #     [3, 7, [0,0,0], t0], [3, 7, [0,0,1], t1],\n",
    "        #     [4, 8, [0,0,0], t0], [4, 8, [0,0,1], t1],\n",
    "        #     [5, 7, [0,0,0], -t0], [5, 7, [1,0,0], -t1],\n",
    "        #     [5, 8, [0,0,0], -t0], [5, 8, [0,1,0], -t1],\n",
    "        #     [6, 7, [0,0,0], t0], [7, 6, [0,1,0], t1],\n",
    "        #     [6, 8, [0,0,0], -t0], [8, 6, [1,0,0], -t1]\n",
    "        # ]\n",
    "\n",
    "        Nx, Ny, Nz = 2, 2, 2\n",
    "\n",
    "        for ix in range(Nx):\n",
    "            for iy in range(Ny):\n",
    "                for iz in range(Nz):\n",
    "                    for coupling in couplings:        \n",
    "                        i, j, R, c = coupling\n",
    "                        index = (i-1) + np.array([8, 8*Nx, 8*Nx*Ny]) @ np.array([ix, iy, iz])\n",
    "                        indexp = (j-1) + np.array([8, 8*Nx, 8*Nx*Ny]) @ np.array([(ix + R[0])%Nx, (iy + R[1])%Ny, (iz + R[2])%Nz])\n",
    "\n",
    "                        if (((ix + R[0]) < Nx) and ((iy + R[1]) < Ny) and ((iz + R[2]) < Nz)):\n",
    "                            hamiltonian[index, indexp] = hamiltonian[index, indexp] + c\n",
    "                            hamiltonian[indexp, index] = hamiltonian[indexp, index] + np.conjugate(c)\n",
    "                        else:\n",
    "                            hamiltonian[index, indexp] = hamiltonian[index, indexp] + c*np.exp(1j*(k @ np.array(R)))\n",
    "                            hamiltonian[indexp, index] = hamiltonian[indexp, index] + np.conjugate(c*np.exp(1j*(k @ np.array(R))))\n",
    "\n",
    "        return hamiltonian\n",
    "\n",
    "    def get_n(self):\n",
    "        '''\n",
    "        n*n Hamiltonian\n",
    "        '''\n",
    "        return 8*2*2*2 #64 sites\n",
    "\n",
    "    def get_n_dim(self):\n",
    "        return 3\n",
    "\n",
    "    def get_parameters(self):\n",
    "        return self.parameters\n",
    "\n",
    "    def set_parameters(self, **kwargs):\n",
    "        self.parameters = kwargs['t0'], kwargs['g1'], kwargs['g2']\n",
    "\n",
    "    def get_kpoints(self, n_points=2):    \n",
    "        # kpoints = list()\n",
    "        # for kx in np.linspace(-np.pi,np.pi,n_points):\n",
    "        #     for ky in np.linspace(-np.pi,np.pi,n_points):\n",
    "        #         for kz in np.linspace(-np.pi,np.pi,n_points):\n",
    "        #             kpoints.append([kx, ky, kz])\n",
    "        kpoints = [ik*np.array([0,np.pi,0]) + np.array([0,0,0]) for ik in np.arange(0, 1, 1/n_points)]\n",
    "        kpoints += [ik*np.array([np.pi,0,0]) + np.array([0,np.pi,0]) for ik in np.arange(0, 1, 1/n_points)]\n",
    "        kpoints += [ik*np.array([-np.pi,-np.pi,0]) + np.array([np.pi,np.pi,0]) for ik in np.arange(0, 1, 1/n_points)]\n",
    "        kpoints += [ik*np.array([np.pi,np.pi,np.pi]) + np.array([0,0,0]) for ik in np.arange(0, 1, 1/n_points)]\n",
    "        kpoints += [ik*np.array([0,0,np.pi]) + np.array([np.pi,np.pi,np.pi]) for ik in np.arange(0, 1+1/n_points, 1/n_points)]\n",
    "\n",
    "        #kpoints = [np.array([0,0,0])]\n",
    "        return kpoints\n",
    "\n",
    "    def initiate(self):\n",
    "        t0 = 1.\n",
    "        g1 = -3 + 6*np.random.random()\n",
    "        g2 = -3 + 6*np.random.random()\n",
    "        self.parameters = t0, g1, g2\n",
    "\n",
    "    def is_real_line_gap(self):\n",
    "        kpoints = self.get_kpoints()\n",
    "        for kpoint in kpoints:\n",
    "            hk = self.get_Hamiltonian(kpoint)\n",
    "            Es = LA.eigvals(hk)\n",
    "            if np.any(np.abs(np.real(Es)) < 1e-3):\n",
    "                return False\n",
    "        return True  \n",
    "    \n",
    "    def is_imaginary_line_gap(self):\n",
    "        return not self.is_real_line_gap()\n",
    "    \n",
    "    def get_Hamiltonian(self, k):\n",
    "        #kx, ky, kz = k\n",
    "        #hk = np.zeros((4,4), dtype=complex)\n",
    "        _, g1, g2 = self.parameters\n",
    "        h0 = self.get_Hamiltonian_background(k)\n",
    "\n",
    "        n = self.get_n()\n",
    "        gamma = np.zeros((n, n), dtype=complex)\n",
    "\n",
    "        Nx, Ny, Nz = 2, 2, 2\n",
    "        onsiteloss = [\n",
    "            [1, g1], [2, g1], [3, g2], [4, g2],\n",
    "            [5, g2], [6, g2], [7, g1], [8, g1]\n",
    "        ]\n",
    "        for ix in range(Nx):\n",
    "            for iy in range(Ny):\n",
    "                for iz in range(Nz):\n",
    "                    for ip in range(8):\n",
    "                        i, g = onsiteloss[ip]\n",
    "                        index = (i-1) + np.array([8, 8*Nx, 8*Nx*Ny]) @ np.array([ix, iy, iz])\n",
    "                        gamma[index, index] = 1j*g*((-1)**(ix+iy+iz))\n",
    "\n",
    "        hk =  h0 + gamma \n",
    "\n",
    "        hk = hk - self.E_ref*np.identity(n)\n",
    "\n",
    "        return hk\n",
    "    \n",
    "class LossTopology3DPerturbation(LossTopology3D):\n",
    "    def __init__(self, E_ref=0.):\n",
    "        super().__init__(E_ref)\n",
    "        self.parameters = list()\n",
    "        self.initiate()\n",
    "\n",
    "    def initiate(self):\n",
    "        # different parameter region for the different gap type\n",
    "        t0 = -1 + 2*np.random.random()\n",
    "        g1 = -1 + 2*np.random.random()\n",
    "        g2 = -1 + 2*np.random.random()\n",
    "        self.parameters = t0, g1, g2\n",
    "    \n",
    "    def get_Hamiltonian(self, k):\n",
    "        hk = super().get_Hamiltonian(k)\n",
    "        hk = hk*0.05\n",
    "        return hk"
   ]
  },
  {
   "cell_type": "code",
   "execution_count": 27,
   "metadata": {},
   "outputs": [
    {
     "name": "stdout",
     "output_type": "stream",
     "text": [
      "Number of samples:  500\n"
     ]
    },
    {
     "data": {
      "image/png": "[encoded data removed]",
      "text/plain": [
       "<Figure size 200x200 with 1 Axes>"
      ]
     },
     "metadata": {},
     "output_type": "display_data"
    }
   ],
   "source": [
    "gap_type=\"real line\"\n",
    "E_ref = 0.\n",
    "hamiltonian_model = LossTopology3D(E_ref=E_ref)\n",
    "generator = Generator(hamiltonian=hamiltonian_model, gap_type=gap_type)\n",
    "\n",
    "n_sample = 500\n",
    "_models, vs = generator.generate_models(n_sample)\n",
    "#Qs, vs = generator.generate(n_sample)\n",
    "n = generator.get_n()\n",
    "\n",
    "models = list()\n",
    "for model in _models:\n",
    "    if model.is_real_line_gap():\n",
    "        models.append(model)\n",
    "\n",
    "print(\"Number of samples: \", len(models))\n",
    "\n",
    "gs = np.zeros((len(models),2))\n",
    "for im in range(len(models)):\n",
    "    _, g1, g2 = models[im].get_parameters()\n",
    "    gs[im] = g1, g2\n",
    "\n",
    "plt.figure(figsize=(2,2))\n",
    "plt.scatter(gs[:,0],gs[:,1])\n",
    "plt.show()"
   ]
  },
  {
   "cell_type": "code",
   "execution_count": 28,
   "metadata": {},
   "outputs": [],
   "source": [
    "def sfunc(Q1, Q2, c_val=-10):\n",
    "    n_k = len(Q1)\n",
    "    for i in range(n_k):\n",
    "        _Q = Q1[i]+Q2[i]\n",
    "        #print(np.log10(np.abs(np.linalg.eigvalsh(_Q))))\n",
    "        for v in np.real(np.linalg.eigvals(_Q)):\n",
    "            if np.log10(np.abs(v)) < c_val:\n",
    "                return 0    # has a cross\n",
    "    return 1\n",
    "\n",
    "def fast_topology_comparator(topological_model1, topological_model2, kpoints, perturbation=None):\n",
    "    '''\n",
    "    Compare two topological models, return the similiarity\n",
    "    '''\n",
    "    for k in kpoints:\n",
    "        Q1 = topological_model1.calculate_Q(kpoints=[k], perturbation=perturbation)\n",
    "        Q2 = topological_model2.calculate_Q(kpoints=[k], perturbation=perturbation)\n",
    "        if sfunc(Q1, Q2) == 0:\n",
    "            return 0\n",
    "\n",
    "    return 1"
   ]
  },
  {
   "cell_type": "code",
   "execution_count": 29,
   "metadata": {},
   "outputs": [
    {
     "name": "stdout",
     "output_type": "stream",
     "text": [
      "Start to cluster data by my own method with the size as [500] with sc = 0.5.\n",
      "Clustering ... \n",
      "A sample with new topological phase detected! [1]\n",
      "Done. Spend time as [7.669 seconds]\n",
      "[1 0]\n",
      "[261 239]\n",
      "The number of centers:  2\n"
     ]
    }
   ],
   "source": [
    "from functools import partial\n",
    "similarity_func = partial(fast_topology_comparator, kpoints=[[0,0,0]])\n",
    "cluster = Cluster(similarity_function=similarity_func, verbose=True)\n",
    "center_indices, group_number = cluster.fit(models)\n",
    "print(center_indices)\n",
    "print(group_number)\n",
    "print(\"The number of centers: \", len(center_indices))"
   ]
  },
  {
   "cell_type": "code",
   "execution_count": 33,
   "metadata": {},
   "outputs": [
    {
     "name": "stdout",
     "output_type": "stream",
     "text": [
      "(1.0, -0.8138007913652663, 0.5361119728671238)\n",
      "(1.0, 2.2933358677531253, 0.4286827904555661)\n",
      "[[1. 0.]\n",
      " [0. 1.]]\n"
     ]
    }
   ],
   "source": [
    "center_models = [models[i] for i in center_indices]\n",
    "\n",
    "for model in center_models:\n",
    "    print(model.get_parameters())\n",
    "\n",
    "E_ref = 0.\n",
    "hamiltonian_perturbation = LossTopology3DPerturbation(E_ref=E_ref)\n",
    "generator = Generator(hamiltonian=hamiltonian_perturbation, gap_type=gap_type)\n",
    "\n",
    "n_sample = 10\n",
    "perturbations, vs = generator.generate_models(n_sample)\n",
    "#Qs, vs = generator.generate(n_sample)\n",
    "n = generator.get_n()\n",
    "\n",
    "n_center = len(center_models)\n",
    "similarity_center = np.zeros((n_center, n_center))\n",
    "for i in range(n_center):\n",
    "    for j in range(n_center):\n",
    "        _similarity = 0\n",
    "        for perturbation in perturbations:\n",
    "            if (similarity_func(center_models[i], center_models[j], kpoints=[[0,0,0]], perturbation=perturbation) > 0):\n",
    "                _similarity = 1\n",
    "        similarity_center[i,j] = _similarity\n",
    "\n",
    "print(similarity_center)"
   ]
  },
  {
   "cell_type": "code",
   "execution_count": 39,
   "metadata": {},
   "outputs": [
    {
     "name": "stdout",
     "output_type": "stream",
     "text": [
      "Gap type:  real line\n",
      "The number of phases:  2\n",
      "[261, 239]\n"
     ]
    }
   ],
   "source": [
    "print(\"Gap type: \", gap_type)\n",
    "hamiltonian_perturbation = LossTopology3DPerturbation(E_ref=E_ref)\n",
    "generator = Generator(hamiltonian=hamiltonian_perturbation, gap_type=gap_type)\n",
    "\n",
    "n_sample = 3\n",
    "perturbations, vs = generator.generate_models(n_sample)\n",
    "#Qs, vs = generator.generate(n_sample)\n",
    "n = generator.get_n()\n",
    "\n",
    "new_center_indices, new_group_number = obtain_phase_center_and_number(center_indices, group_number, models, perturbations, similarity_func=similarity_func)\n",
    "print(\"The number of phases: \", len(new_group_number))\n",
    "print(new_group_number)"
   ]
  },
  {
   "cell_type": "code",
   "execution_count": 40,
   "metadata": {},
   "outputs": [
    {
     "data": {
      "image/png": "[encoded data removed]",
      "text/plain": [
       "<Figure size 300x300 with 1 Axes>"
      ]
     },
     "metadata": {},
     "output_type": "display_data"
    }
   ],
   "source": [
    "plt.figure(figsize=(3,3))\n",
    "plt.bar(np.arange(len(new_group_number))+1, new_group_number)\n",
    "plt.xlim([0.5,len(new_group_number)+0.5])\n",
    "plt.xticks(list(range(1,len(new_group_number)+1)),fontsize=20)\n",
    "plt.ylim([0, np.max(new_group_number)*1.1])\n",
    "plt.yticks([0, int(np.max(new_group_number)/2), int(np.max(new_group_number))],fontsize=20)\n",
    "plt.xlabel(r\"$c$\",fontsize=20)\n",
    "plt.ylabel(r\"$M$\",fontsize=20,rotation=0,horizontalalignment='right')\n",
    "plt.show()"
   ]
  },
  {
   "cell_type": "code",
   "execution_count": 42,
   "metadata": {},
   "outputs": [],
   "source": [
    "classifier = Classifier(similarity_func=similarity_func, cluster_centers=[models[index] for index in center_indices])\n",
    "\n",
    "n1 = 21\n",
    "n2 = 21\n",
    "g1s = np.linspace(-3,3,n1)\n",
    "g2s = np.linspace(-3,3,n2)\n",
    "\n",
    "v_list = np.zeros((n1,n2))\n",
    "\n",
    "for i in range(n1):\n",
    "    for j in range(n2):\n",
    "        hamiltonian = LossTopology3D(E_ref=E_ref)\n",
    "        hamiltonian.set_parameters(t0=1, g1=g1s[i], g2=g2s[j])\n",
    "        #print(hamiltonian.get_parameters())\n",
    "        if hamiltonian.is_real_line_gap():\n",
    "            _model = NonHermitianTopologicalModel(hamiltonian=hamiltonian, gap_type=\"real line\")\n",
    "            v_list[i,j] = classifier.classify(_model)"
   ]
  },
  {
   "cell_type": "code",
   "execution_count": 43,
   "metadata": {},
   "outputs": [
    {
     "data": {
      "image/png": "[encoded data removed]",
      "text/plain": [
       "<Figure size 400x400 with 2 Axes>"
      ]
     },
     "metadata": {},
     "output_type": "display_data"
    }
   ],
   "source": [
    "n1, n2 = v_list.shape\n",
    "\n",
    "plt.figure(figsize=(4,4))\n",
    "plt.imshow(np.transpose(v_list), origin='lower',extent = [0,n1,0,n2])\n",
    "plt.xlabel(r\"$g_1$\",fontsize=20)\n",
    "plt.ylabel(r\"$g_2$\",fontsize=20, rotation=0, horizontalalignment='right')\n",
    "plt.xticks([0, n1/2, n1-1],[r\"-3\", r\"0\", r\"3\"],fontsize=20)\n",
    "plt.yticks([0, n2/2, n2-1],[r\"-3\", r\"0\", r\"3\"], fontsize=20)\n",
    "\n",
    "cb = plt.colorbar(ticks=range(1, len(center_indices)+1), fraction=0.046, pad=0.04)\n",
    "cb.ax.tick_params(labelsize=18)\n",
    "\n",
    "plt.tight_layout()\n",
    "plt.show()"
   ]
  },
  {
   "cell_type": "markdown",
   "metadata": {},
   "source": [
    "# Save data"
   ]
  },
  {
   "cell_type": "code",
   "execution_count": 44,
   "metadata": {},
   "outputs": [
    {
     "name": "stdout",
     "output_type": "stream",
     "text": [
      "3D_loss_topology\n"
     ]
    }
   ],
   "source": [
    "from tools import save_data, save_data_M\n",
    "\n",
    "name = \"3D_loss_topology\"\n",
    "save_data(new_center_indices, new_group_number, \"figs_{0}_group_number.h5\".format(name))\n",
    "save_data_M(v_list, \"figs_{0}_phase_diagram.h5\".format(name))\n",
    "print(name)"
   ]
  },
  {
   "cell_type": "code",
   "execution_count": null,
   "metadata": {},
   "outputs": [],
   "source": []
  }
 ],
 "metadata": {
  "kernelspec": {
   "display_name": "base",
   "language": "python",
   "name": "python3"
  },
  "language_info": {
   "codemirror_mode": {
    "name": "ipython",
    "version": 3
   },
   "file_extension": ".py",
   "mimetype": "text/x-python",
   "name": "python",
   "nbconvert_exporter": "python",
   "pygments_lexer": "ipython3",
   "version": "3.12.7"
  }
 },
 "nbformat": 4,
 "nbformat_minor": 2
}
