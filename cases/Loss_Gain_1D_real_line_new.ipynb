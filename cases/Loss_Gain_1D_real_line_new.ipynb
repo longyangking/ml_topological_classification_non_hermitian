{
 "cells": [
  {
   "cell_type": "code",
   "execution_count": 8,
   "metadata": {},
   "outputs": [],
   "source": [
    "import sys \n",
    "sys.path.append(\"..\") \n",
    "\n",
    "#from topological_models import generator\n",
    "import numpy as np\n",
    "import numpy.linalg as LA\n",
    "\n",
    "from topology_model import NonHermitianHamiltonian, NonHermitianTopologicalModel\n",
    "import matplotlib.pyplot as plt\n",
    "from machine_learning import Cluster\n",
    "from machine_learning import Classifier\n",
    "from topology_model import sigma_0, sigma_x, sigma_y, sigma_z\n",
    "from topology_model import Generator\n",
    "from topology_model import topology_comparator, topology_verifier, obtain_phase_center_and_number"
   ]
  },
  {
   "cell_type": "markdown",
   "metadata": {},
   "source": [
    "$PT$-symmetry"
   ]
  },
  {
   "cell_type": "code",
   "execution_count": 2,
   "metadata": {},
   "outputs": [],
   "source": [
    "class LossGain1D(NonHermitianHamiltonian):\n",
    "    def __init__(self, E_ref=0.):\n",
    "        super().__init__(E_ref)\n",
    "        self.parameters = list()\n",
    "        self.initiate()\n",
    "\n",
    "    def get_n(self):\n",
    "        '''\n",
    "        n*n Hamiltonian\n",
    "        '''\n",
    "        return 4\n",
    "\n",
    "    def get_n_dim(self):\n",
    "        return 1\n",
    "\n",
    "    def get_parameters(self):\n",
    "        return self.parameters\n",
    "\n",
    "    def set_parameters(self, **kwargs):\n",
    "        self.parameters = kwargs['kappa'], kwargs['g1'], kwargs['g2']\n",
    "\n",
    "    def get_kpoints(self):\n",
    "        n_points = 11\n",
    "        kpoints = [[k] for k in np.linspace(0,np.pi,n_points)]\n",
    "        return kpoints\n",
    "\n",
    "    def initiate(self):\n",
    "        # different parameter region for the different gap type\n",
    "        kappa = 1.\n",
    "        g1 = -3 + 6*np.random.random()\n",
    "        #gamma = 3*np.random.random()\n",
    "        g2 = -3 + 6*np.random.random()\n",
    "\n",
    "        self.parameters = kappa, g1, g2\n",
    "\n",
    "    def is_real_line_gap(self):\n",
    "        kappa, g1, g2 = self.parameters\n",
    "        # if not ((t1 >= t2 + gamma/2) \n",
    "        #         or (t1 <= -t2 - gamma/2) \n",
    "        #         or ((t1 >= t2 - gamma/2) and (t1 <= -t2 + gamma/2)) \n",
    "        #         or ((t1 <= t2 - gamma/2) and (t1 >= -t2 + gamma/2))):\n",
    "        #     return False\n",
    "        hk = self.get_Hamiltonian([0])\n",
    "        Es = LA.eigvals(hk)\n",
    "        #print(np.abs(np.real(Es)))\n",
    "        if np.any(np.abs(np.real(Es)) < 1e-3):\n",
    "            return False\n",
    "        return True  \n",
    "    \n",
    "    def is_imaginary_line_gap(self):\n",
    "        return not self.is_real_line_gap()\n",
    "    \n",
    "    def get_Hamiltonian(self, k):\n",
    "        k = k[0]\n",
    "        #hk = np.zeros((4,4), dtype=complex)\n",
    "        kappa, g1, g2 = self.parameters\n",
    "        \n",
    "        hk = np.array([\n",
    "            [1j*g1, kappa, 0, kappa*np.exp(-1j*k)],\n",
    "            [kappa, -1j*g2, kappa, 0],\n",
    "            [0, kappa, -1j*g1, kappa],\n",
    "            [kappa*np.exp(1j*k), 0, kappa, 1j*g2]\n",
    "        ], dtype=complex)\n",
    "        hk = hk - self.E_ref*np.identity(4)\n",
    "\n",
    "        return hk\n",
    "    \n",
    "class SSH1DPerturbation(NonHermitianHamiltonian):\n",
    "    def __init__(self, E_ref=0.):\n",
    "        super().__init__(E_ref)\n",
    "        self.parameters = list()\n",
    "        self.initiate()\n",
    "\n",
    "    def get_n(self):\n",
    "        '''\n",
    "        n*n Hamiltonian\n",
    "        '''\n",
    "        return 4\n",
    "\n",
    "    def get_n_dim(self):\n",
    "        return 1\n",
    "\n",
    "    def get_parameters(self):\n",
    "        return self.parameters\n",
    "\n",
    "    def set_parameters(self, **kwargs):\n",
    "        self.parameters = kwargs['kappa'], kwargs['g1'], kwargs['g2']\n",
    "\n",
    "    def get_kpoints(self):\n",
    "        n_points = 11\n",
    "        kpoints = [[k] for k in np.linspace(0,np.pi,n_points)]\n",
    "        return kpoints\n",
    "\n",
    "    def initiate(self):\n",
    "        # different parameter region for the different gap type\n",
    "        kappa = -1 + 2*np.random.random()\n",
    "        g1 = -1 + 2*np.random.random()\n",
    "        g2 = -1 + 2*np.random.random()\n",
    "        self.parameters = kappa, g1, g2\n",
    "    \n",
    "    def get_Hamiltonian(self, k):\n",
    "        k = k[0]\n",
    "        kappa, g1, g2 = self.parameters\n",
    "        hk = np.array([\n",
    "            [1j*g1, kappa, 0, kappa*np.exp(-1j*k)],\n",
    "            [kappa, -1j*g2, kappa, 0],\n",
    "            [0, kappa, -1j*g1, kappa],\n",
    "            [kappa*np.exp(1j*k), 0, kappa, 1j*g2]\n",
    "        ], dtype=complex)\n",
    "        hk = hk - self.E_ref*np.identity(4)\n",
    "        hk = hk*0.1\n",
    "\n",
    "        return hk"
   ]
  },
  {
   "cell_type": "code",
   "execution_count": 3,
   "metadata": {},
   "outputs": [
    {
     "name": "stdout",
     "output_type": "stream",
     "text": [
      "Number of samples:  451\n"
     ]
    }
   ],
   "source": [
    "gap_type=\"real line\"\n",
    "E_ref = 0.\n",
    "hamiltonian_model = LossGain1D(E_ref=E_ref)\n",
    "generator = Generator(hamiltonian=hamiltonian_model, gap_type=gap_type)\n",
    "\n",
    "n_sample = 500\n",
    "_models, vs = generator.generate_models(n_sample)\n",
    "#Qs, vs = generator.generate(n_sample)\n",
    "n = generator.get_n()\n",
    "\n",
    "models = list()\n",
    "for model in _models:\n",
    "    if model.is_real_line_gap():\n",
    "        models.append(model)\n",
    "\n",
    "print(\"Number of samples: \", len(models))"
   ]
  },
  {
   "cell_type": "code",
   "execution_count": 4,
   "metadata": {},
   "outputs": [
    {
     "name": "stdout",
     "output_type": "stream",
     "text": [
      "Start to cluster data by my own method with the size as [451] with sc = 0.5.\n",
      "Clustering ... \n",
      "A sample with new topological phase detected! [1]\n",
      "Done. Spend time as [23.221 seconds]\n",
      "[1 0]\n",
      "[239 212]\n",
      "The number of centers:  2\n"
     ]
    }
   ],
   "source": [
    "cluster = Cluster(similarity_function=topology_comparator, verbose=True)\n",
    "center_indices, group_number = cluster.fit(models)\n",
    "print(center_indices)\n",
    "print(group_number)\n",
    "print(\"The number of centers: \", len(center_indices))"
   ]
  },
  {
   "cell_type": "code",
   "execution_count": 5,
   "metadata": {},
   "outputs": [
    {
     "name": "stdout",
     "output_type": "stream",
     "text": [
      "(1.0, 0.8135193364888442, -0.6525880968336049)\n",
      "(1.0, 2.17010266691795, 2.569729360973012)\n",
      "[[1. 0.]\n",
      " [0. 1.]]\n"
     ]
    }
   ],
   "source": [
    "center_models = [models[i] for i in center_indices]\n",
    "\n",
    "for model in center_models:\n",
    "    print(model.get_parameters())\n",
    "\n",
    "E_ref = 0.\n",
    "hamiltonian_perturbation = SSH1DPerturbation(E_ref=E_ref)\n",
    "generator = Generator(hamiltonian=hamiltonian_perturbation, gap_type=gap_type)\n",
    "\n",
    "n_sample = 100\n",
    "perturbations, vs = generator.generate_models(n_sample)\n",
    "#Qs, vs = generator.generate(n_sample)\n",
    "n = generator.get_n()\n",
    "\n",
    "n_center = len(center_models)\n",
    "similarity_center = np.zeros((n_center, n_center))\n",
    "for i in range(n_center):\n",
    "    for j in range(n_center):\n",
    "        similarity_center[i,j] = topology_verifier(center_models[i], center_models[j], perturbations)\n",
    "\n",
    "print(similarity_center)"
   ]
  },
  {
   "cell_type": "code",
   "execution_count": 9,
   "metadata": {},
   "outputs": [
    {
     "name": "stdout",
     "output_type": "stream",
     "text": [
      "Gap type:  real line\n",
      "The number of phases:  2\n",
      "[239, 212]\n"
     ]
    }
   ],
   "source": [
    "print(\"Gap type: \", gap_type)\n",
    "hamiltonian_perturbation = SSH1DPerturbation(E_ref=E_ref)\n",
    "generator = Generator(hamiltonian=hamiltonian_perturbation, gap_type=gap_type)\n",
    "\n",
    "n_sample = 10\n",
    "perturbations, vs = generator.generate_models(n_sample)\n",
    "#Qs, vs = generator.generate(n_sample)\n",
    "n = generator.get_n()\n",
    "\n",
    "new_center_indices, new_group_number = obtain_phase_center_and_number(center_indices, group_number, models, perturbations)\n",
    "print(\"The number of phases: \", len(new_group_number))\n",
    "print(new_group_number)"
   ]
  },
  {
   "cell_type": "code",
   "execution_count": 10,
   "metadata": {},
   "outputs": [
    {
     "data": {
      "image/png": "[encoded data removed]",
      "text/plain": [
       "<Figure size 300x300 with 1 Axes>"
      ]
     },
     "metadata": {},
     "output_type": "display_data"
    }
   ],
   "source": [
    "plt.figure(figsize=(3,3))\n",
    "plt.bar(np.arange(len(new_group_number))+1, new_group_number)\n",
    "plt.xlim([0.5,len(new_group_number)+0.5])\n",
    "plt.xticks(list(range(1,len(new_group_number)+1)),fontsize=20)\n",
    "plt.ylim([0, np.max(new_group_number)*1.1])\n",
    "plt.yticks([0, int(np.max(new_group_number)/2), int(np.max(new_group_number))],fontsize=20)\n",
    "plt.xlabel(r\"$c$\",fontsize=20)\n",
    "plt.ylabel(r\"$M$\",fontsize=20,rotation=0,horizontalalignment='right')\n",
    "plt.show()"
   ]
  },
  {
   "cell_type": "code",
   "execution_count": 11,
   "metadata": {},
   "outputs": [],
   "source": [
    "classifier = Classifier(similarity_func=topology_comparator, cluster_centers=[models[index] for index in center_indices])\n",
    "\n",
    "n1 = 51\n",
    "n2 = 51\n",
    "g1s = np.linspace(-3,3,n1)\n",
    "g2s = np.linspace(-3,3,n2)\n",
    "\n",
    "v_list = np.zeros((n1,n2))\n",
    "\n",
    "for i in range(n1):\n",
    "    for j in range(n2):\n",
    "        hamiltonian = LossGain1D(E_ref=E_ref)\n",
    "        hamiltonian.set_parameters(kappa=1, g1=g1s[i], g2=g2s[j])\n",
    "        #print(hamiltonian.get_parameters())\n",
    "        if hamiltonian.is_real_line_gap():\n",
    "            _model = NonHermitianTopologicalModel(hamiltonian=hamiltonian, gap_type=\"real line\")\n",
    "            v_list[i,j] = classifier.classify(_model)"
   ]
  },
  {
   "cell_type": "code",
   "execution_count": 12,
   "metadata": {},
   "outputs": [
    {
     "data": {
      "image/png": "[encoded data removed]",
      "text/plain": [
       "<Figure size 400x400 with 2 Axes>"
      ]
     },
     "metadata": {},
     "output_type": "display_data"
    }
   ],
   "source": [
    "n1, n2 = v_list.shape\n",
    "\n",
    "plt.figure(figsize=(4,4))\n",
    "plt.imshow(np.transpose(v_list), origin='lower',extent = [0,n1,0,n2])\n",
    "plt.xlabel(r\"$g_1$\",fontsize=20)\n",
    "plt.ylabel(r\"$g_2$\",fontsize=20, rotation=0, horizontalalignment='right')\n",
    "plt.xticks([0, n1/2, n1-1],[r\"-3\", r\"0\", r\"3\"],fontsize=20)\n",
    "plt.yticks([0, n2/2, n2-1],[r\"-3\", r\"0\", r\"3\"], fontsize=20)\n",
    "\n",
    "cb = plt.colorbar(ticks=range(1, len(center_indices)+1), fraction=0.046, pad=0.04)\n",
    "cb.ax.tick_params(labelsize=18)\n",
    "\n",
    "plt.tight_layout()\n",
    "plt.show()"
   ]
  },
  {
   "cell_type": "markdown",
   "metadata": {},
   "source": [
    "# Save data"
   ]
  },
  {
   "cell_type": "code",
   "execution_count": 13,
   "metadata": {},
   "outputs": [
    {
     "name": "stdout",
     "output_type": "stream",
     "text": [
      "1D_loss_gain_real\n"
     ]
    }
   ],
   "source": [
    "from tools import save_data, save_data_M\n",
    "\n",
    "name = \"1D_loss_gain_real\"\n",
    "save_data(new_center_indices, new_group_number, \"fig2_{0}_group_number.h5\".format(name))\n",
    "save_data_M(v_list, \"fig2_{0}_phase_diagram.h5\".format(name))\n",
    "print(name)"
   ]
  },
  {
   "cell_type": "code",
   "execution_count": null,
   "metadata": {},
   "outputs": [],
   "source": []
  }
 ],
 "metadata": {
  "kernelspec": {
   "display_name": "base",
   "language": "python",
   "name": "python3"
  },
  "language_info": {
   "codemirror_mode": {
    "name": "ipython",
    "version": 3
   },
   "file_extension": ".py",
   "mimetype": "text/x-python",
   "name": "python",
   "nbconvert_exporter": "python",
   "pygments_lexer": "ipython3",
   "version": "3.9.18"
  }
 },
 "nbformat": 4,
 "nbformat_minor": 2
}
