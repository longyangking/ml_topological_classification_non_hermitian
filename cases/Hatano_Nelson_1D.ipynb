{
 "cells": [
  {
   "cell_type": "code",
   "execution_count": 2,
   "metadata": {},
   "outputs": [],
   "source": [
    "import sys \n",
    "sys.path.append(\"..\") \n",
    "\n",
    "#from topological_models import generator\n",
    "import numpy as np\n",
    "from topology_model import NonHermitianHamiltonian, NonHermitianTopologicalModel\n",
    "import matplotlib.pyplot as plt\n",
    "import matplotlib\n",
    "from machine_learning import Cluster\n",
    "from machine_learning import Classifier\n",
    "from topology_model import sigma_0, sigma_x, sigma_y, sigma_z\n",
    "from topology_model import Generator\n",
    "from topology_model import topology_comparator\n",
    "\n",
    "from tools import save_data, save_data_M"
   ]
  },
  {
   "cell_type": "code",
   "execution_count": 3,
   "metadata": {},
   "outputs": [],
   "source": [
    "class HatanoNelson1D(NonHermitianHamiltonian):\n",
    "    def __init__(self, E_ref=0.):\n",
    "        super().__init__(E_ref)\n",
    "        self.Js = None\n",
    "        self.initiate()\n",
    "\n",
    "    def get_n(self):\n",
    "        return 1\n",
    "\n",
    "    def get_n_dim(self):\n",
    "        return 1\n",
    "\n",
    "    def get_parameters(self):\n",
    "        return self.Js\n",
    "    \n",
    "    def set_parameters(self, **kwargs):\n",
    "        self.Js = kwargs['J1'], kwargs['J2']\n",
    "\n",
    "    def initiate(self):\n",
    "        # J1 = np.random.random()\n",
    "        # J2 = np.random.random()\n",
    "        J1 = 1.\n",
    "        J2 = 2*np.random.random()\n",
    "        self.Js = J1, J2\n",
    "\n",
    "    def get_kpoints(self):\n",
    "        n_points = 11\n",
    "        kpoints = [[k] for k in np.linspace(0,np.pi,n_points)]\n",
    "        return kpoints\n",
    "    \n",
    "    def get_Hamiltonian(self, k):\n",
    "        k = k[0]\n",
    "        J1, J2 = self.Js\n",
    "        hk = np.zeros(1, dtype=complex)\n",
    "        hk = hk + J1*np.exp(-1j*k) + J2*np.exp(1j*k)\n",
    "        \n",
    "        return hk\n",
    "\n",
    "    def get_topological_invariant(self):\n",
    "        J1, J2 = self.Js\n",
    "        if J1 > J2:\n",
    "            return -1\n",
    "        elif J1 < J2:\n",
    "            return 1\n",
    "        else:\n",
    "            return 0"
   ]
  },
  {
   "cell_type": "code",
   "execution_count": 4,
   "metadata": {},
   "outputs": [],
   "source": [
    "gap_type = 'point'\n",
    "E_ref = 0.\n",
    "generator = Generator(hamiltonian=HatanoNelson1D(E_ref=E_ref), gap_type=gap_type)\n",
    "\n",
    "n_sample = 100\n",
    "#models, vs = generator.generate_models(n_sample)\n",
    "models, vs = generator.generate_models(n_sample)\n",
    "n = generator.get_n()"
   ]
  },
  {
   "cell_type": "code",
   "execution_count": 5,
   "metadata": {},
   "outputs": [
    {
     "name": "stdout",
     "output_type": "stream",
     "text": [
      "Theoretically, Possible topological invariants: [-1.  1.]\n",
      "Theoretically, The number with -1.0 : 49\n",
      "Theoretically, The number with 1.0 : 51\n",
      "The number of centers:  2\n"
     ]
    }
   ],
   "source": [
    "print(\"Theoretically, Possible topological invariants: {0}\".format(np.unique(vs)))\n",
    "uni_v = np.unique(vs)\n",
    "for v in uni_v:\n",
    "    print(\"Theoretically, The number with {0} : {1}\".format(v, np.sum(vs==v)))\n",
    "\n",
    "def sfunc(Q1, Q2):\n",
    "    nQ = len(Q1)\n",
    "    for n in range(nQ):\n",
    "        _Q = Q1[n]+Q2[n]\n",
    "        for v in np.linalg.eigvalsh(_Q):\n",
    "            if np.log10(np.abs(v)) < -10:\n",
    "                return 0\n",
    "    return 1\n",
    "\n",
    "sfunc = topology_comparator\n",
    "\n",
    "cluster = Cluster(similarity_function=sfunc, verbose=False)\n",
    "center_indices, group_number = cluster.fit(models)\n",
    "print(\"The number of centers: \", len(center_indices))"
   ]
  },
  {
   "cell_type": "code",
   "execution_count": 6,
   "metadata": {},
   "outputs": [
    {
     "data": {
      "text/plain": [
       "array([51, 49])"
      ]
     },
     "execution_count": 6,
     "metadata": {},
     "output_type": "execute_result"
    }
   ],
   "source": [
    "group_number"
   ]
  },
  {
   "cell_type": "code",
   "execution_count": 7,
   "metadata": {},
   "outputs": [
    {
     "data": {
      "image/png": "[encoded data removed]",
      "text/plain": [
       "<Figure size 300x200 with 1 Axes>"
      ]
     },
     "metadata": {},
     "output_type": "display_data"
    }
   ],
   "source": [
    "plt.figure(figsize=(3,2))\n",
    "plt.bar(np.arange(len(group_number))+1, group_number)\n",
    "plt.xlim([0.5,len(group_number)+0.5])\n",
    "plt.xticks(list(range(1,len(group_number)+1)),fontsize=20)\n",
    "plt.ylim([0, np.max(group_number)*1.1])\n",
    "plt.yticks([0, int(np.max(group_number)/2), int(np.max(group_number))],fontsize=20)\n",
    "plt.xlabel(r\"$c$\",fontsize=20)\n",
    "plt.ylabel(r\"$M$\",fontsize=20,rotation=0,horizontalalignment='right')\n",
    "plt.show()"
   ]
  },
  {
   "cell_type": "code",
   "execution_count": 54,
   "metadata": {},
   "outputs": [
    {
     "name": "stderr",
     "output_type": "stream",
     "text": [
      "/home/longyang/OSC/ml_topological_classification_non_-hermitian/cases/../topology_model/topology_comparator_utils.py:26: RuntimeWarning: divide by zero encountered in log10\n",
      "  return np.log10(a0)/epsilon\n",
      "/home/longyang/anaconda3/lib/python3.9/site-packages/scipy/optimize/_optimize.py:917: RuntimeWarning: invalid value encountered in subtract\n",
      "  np.max(np.abs(fsim[0] - fsim[1:])) <= fatol):\n",
      "/home/longyang/OSC/ml_topological_classification_non_-hermitian/cases/../topology_model/topology_comparator_utils.py:34: RuntimeWarning: divide by zero encountered in log10\n",
      "  if np.log10(np.abs(v)) < c_val:\n"
     ]
    }
   ],
   "source": [
    "# classifier = Classifier(similarity_func=topology_comparator, cluster_centers=[models[index] for index in center_indices])\n",
    "# n1 = 21\n",
    "# n2 = 21\n",
    "# J1s = np.linspace(0.001,1,n1)\n",
    "# J2s = np.linspace(0.001,1,n2)\n",
    "# v_list = np.zeros((n1,n2))\n",
    "\n",
    "# for i in range(n1):\n",
    "#     for j in range(n2):\n",
    "#         hamiltonian = HatanoNelson1D(E_ref=0.)\n",
    "#         hamiltonian.set_parameters(J1=J1s[i], J2=J2s[j])\n",
    "#         #print(hamiltonian.get_parameters())\n",
    "#         _model = NonHermitianTopologicalModel(hamiltonian=hamiltonian, gap_type=gap_type)\n",
    "#             #v_list.append(1)\n",
    "#             # t1_list.append(t1s[i])\n",
    "#             # gamma_list.append(gammas[j])\n",
    "#         v_list[i,j] = classifier.classify(_model)"
   ]
  },
  {
   "cell_type": "code",
   "execution_count": 28,
   "metadata": {},
   "outputs": [
    {
     "data": {
      "text/plain": [
       "(array([0]), array([0]))"
      ]
     },
     "execution_count": 28,
     "metadata": {},
     "output_type": "execute_result"
    }
   ],
   "source": [
    "np.unique(v_list)\n",
    "np.where(v_list==-1)"
   ]
  },
  {
   "cell_type": "code",
   "execution_count": 55,
   "metadata": {},
   "outputs": [
    {
     "data": {
      "image/png": "[encoded data removed]",
      "text/plain": [
       "<Figure size 400x400 with 2 Axes>"
      ]
     },
     "metadata": {},
     "output_type": "display_data"
    }
   ],
   "source": [
    "# plt.figure(figsize=(4,4))\n",
    "# plt.imshow(v_list)    \n",
    "# plt.xlabel(r\"$J_1$\",fontsize=20)\n",
    "# plt.ylabel(r\"$J_2$\",fontsize=20,rotation=0,horizontalalignment='right')\n",
    "# plt.xticks([0, n1/2, n1-1],[r\"0\", \"0.5\", r\"1\"],fontsize=20)\n",
    "# plt.yticks([0, n2/2, n2-1],[r\"0\", \"0.5\", r\"1\"], fontsize=20)\n",
    "\n",
    "# # cmap = plt.cm.rainbow\n",
    "# # norm = matplotlib.colors.BoundaryNorm(np.arange(-2.5, 3, 1), cmap.N)\n",
    "# cb = plt.colorbar(ticks=range(len(center_indices)+1), fraction=0.046, pad=0.04)\n",
    "# cb.ax.tick_params(labelsize=18)\n",
    "# plt.tight_layout()\n",
    "# plt.show()"
   ]
  },
  {
   "cell_type": "code",
   "execution_count": 13,
   "metadata": {},
   "outputs": [],
   "source": [
    "classifier = Classifier(similarity_func=topology_comparator, cluster_centers=[models[index] for index in center_indices])\n",
    "n1 = 51\n",
    "J1 = 1.0\n",
    "J2s = np.linspace(0.001,2,n1)\n",
    "v_list = np.zeros(n1)\n",
    "\n",
    "for i in range(n1):\n",
    "    hamiltonian = HatanoNelson1D(E_ref=E_ref)\n",
    "    hamiltonian.set_parameters(J1=J1, J2=J2s[i])\n",
    "    _model = NonHermitianTopologicalModel(hamiltonian=hamiltonian, gap_type=gap_type)\n",
    "    v_list[i] = classifier.classify(_model)"
   ]
  },
  {
   "cell_type": "code",
   "execution_count": 1,
   "metadata": {},
   "outputs": [
    {
     "ename": "NameError",
     "evalue": "name 'plt' is not defined",
     "output_type": "error",
     "traceback": [
      "\u001b[0;31m---------------------------------------------------------------------------\u001b[0m",
      "\u001b[0;31mNameError\u001b[0m                                 Traceback (most recent call last)",
      "\u001b[1;32m/home/longyang/OSC/ml_topological_classification_non_-hermitian/cases/Hatano_Nelson_1D.ipynb Cell 11\u001b[0m line \u001b[0;36m1\n\u001b[0;32m----> <a href='vscode-notebook-cell://ssh-remote%2B7b22686f73744e616d65223a224750552d3937227d/home/longyang/OSC/ml_topological_classification_non_-hermitian/cases/Hatano_Nelson_1D.ipynb#X13sdnNjb2RlLXJlbW90ZQ%3D%3D?line=0'>1</a>\u001b[0m plt\u001b[39m.\u001b[39mfigure(figsize\u001b[39m=\u001b[39m(\u001b[39m4\u001b[39m,\u001b[39m4\u001b[39m))\n\u001b[1;32m      <a href='vscode-notebook-cell://ssh-remote%2B7b22686f73744e616d65223a224750552d3937227d/home/longyang/OSC/ml_topological_classification_non_-hermitian/cases/Hatano_Nelson_1D.ipynb#X13sdnNjb2RlLXJlbW90ZQ%3D%3D?line=1'>2</a>\u001b[0m plt\u001b[39m.\u001b[39mplot(J2s, v_list,\u001b[39m'\u001b[39m\u001b[39m-o\u001b[39m\u001b[39m'\u001b[39m)\n\u001b[1;32m      <a href='vscode-notebook-cell://ssh-remote%2B7b22686f73744e616d65223a224750552d3937227d/home/longyang/OSC/ml_topological_classification_non_-hermitian/cases/Hatano_Nelson_1D.ipynb#X13sdnNjb2RlLXJlbW90ZQ%3D%3D?line=2'>3</a>\u001b[0m plt\u001b[39m.\u001b[39mxticks([\u001b[39m0\u001b[39m, \u001b[39m1\u001b[39m, \u001b[39m2\u001b[39m],fontsize\u001b[39m=\u001b[39m\u001b[39m20\u001b[39m)\n",
      "\u001b[0;31mNameError\u001b[0m: name 'plt' is not defined"
     ]
    }
   ],
   "source": [
    "plt.figure(figsize=(4,4))\n",
    "plt.plot(J2s, v_list,'-o')\n",
    "plt.xticks([0, 1, 2],fontsize=20)\n",
    "plt.yticks(range(1, len(group_number)+1),fontsize=20)\n",
    "plt.xlim([-0.05, 2.05])\n",
    "plt.ylim([1-0.05,len(group_number)+.05])\n",
    "plt.xlabel(r\"$J_2/J_1$\",fontsize=20)\n",
    "plt.ylabel(r\"c\",fontsize=20,rotation=0,horizontalalignment='right')\n",
    "\n",
    "plt.tight_layout()\n",
    "plt.show()"
   ]
  },
  {
   "cell_type": "markdown",
   "metadata": {},
   "source": [
    "# Save data"
   ]
  },
  {
   "cell_type": "code",
   "execution_count": 17,
   "metadata": {},
   "outputs": [
    {
     "name": "stdout",
     "output_type": "stream",
     "text": [
      "1D_Hatano_Nelson\n"
     ]
    }
   ],
   "source": [
    "name = \"1D_Hatano_Nelson\"\n",
    "save_data(center_indices, group_number, \"fig2_{0}_group_number.h5\".format(name))\n",
    "save_data_M(v_list, \"fig2_{0}_phase_diagram.h5\".format(name))\n",
    "print(name)"
   ]
  },
  {
   "cell_type": "markdown",
   "metadata": {},
   "source": [
    "# Fast"
   ]
  },
  {
   "cell_type": "code",
   "execution_count": 6,
   "metadata": {},
   "outputs": [],
   "source": [
    "gap_type = 'point'\n",
    "generator = Generator(hamiltonian=HatanoNelson1D(E_ref=0.), gap_type=gap_type)\n",
    "\n",
    "n_sample = 100\n",
    "#models, vs = generator.generate_models(n_sample)\n",
    "Qs, vs = generator.generate(n_sample)\n",
    "n = generator.get_n()"
   ]
  },
  {
   "cell_type": "code",
   "execution_count": 7,
   "metadata": {},
   "outputs": [
    {
     "name": "stdout",
     "output_type": "stream",
     "text": [
      "Theoretically, Possible topological invariants: [-1.  1.]\n",
      "Theoretically, The number with -1.0 : 49\n",
      "Theoretically, The number with 1.0 : 51\n",
      "The number of centers:  2\n"
     ]
    }
   ],
   "source": [
    "print(\"Theoretically, Possible topological invariants: {0}\".format(np.unique(vs)))\n",
    "uni_v = np.unique(vs)\n",
    "for v in uni_v:\n",
    "    print(\"Theoretically, The number with {0} : {1}\".format(v, np.sum(vs==v)))\n",
    "\n",
    "def sfunc(Q1, Q2):\n",
    "    nQ = len(Q1)\n",
    "    for n in range(nQ):\n",
    "        _Q = Q1[n]+Q2[n]\n",
    "        for v in np.linalg.eigvalsh(_Q):\n",
    "            if np.log10(np.abs(v)) < -10:\n",
    "                return 0\n",
    "    return 1\n",
    "\n",
    "#sfunc = topology_comparator\n",
    "\n",
    "cluster = Cluster(similarity_function=sfunc, verbose=False)\n",
    "center_indices, group_number = cluster.fit(Qs)\n",
    "print(\"The number of centers: \", len(center_indices))"
   ]
  },
  {
   "cell_type": "code",
   "execution_count": 8,
   "metadata": {},
   "outputs": [
    {
     "data": {
      "text/plain": [
       "array([51, 49])"
      ]
     },
     "execution_count": 8,
     "metadata": {},
     "output_type": "execute_result"
    }
   ],
   "source": [
    "group_number"
   ]
  },
  {
   "cell_type": "code",
   "execution_count": null,
   "metadata": {},
   "outputs": [],
   "source": []
  }
 ],
 "metadata": {
  "kernelspec": {
   "display_name": "base",
   "language": "python",
   "name": "python3"
  },
  "language_info": {
   "codemirror_mode": {
    "name": "ipython",
    "version": 3
   },
   "file_extension": ".py",
   "mimetype": "text/x-python",
   "name": "python",
   "nbconvert_exporter": "python",
   "pygments_lexer": "ipython3",
   "version": "3.9.18"
  },
  "orig_nbformat": 4
 },
 "nbformat": 4,
 "nbformat_minor": 2
}
